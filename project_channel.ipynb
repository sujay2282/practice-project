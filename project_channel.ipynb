{
 "cells": [
  {
   "cell_type": "code",
   "execution_count": 1,
   "id": "ed258662",
   "metadata": {},
   "outputs": [],
   "source": [
    "import pandas as pd\n",
    "import numpy as np\n",
    "import matplotlib.pyplot as plt\n",
    "import seaborn as sns"
   ]
  },
  {
   "cell_type": "code",
   "execution_count": 2,
   "id": "fbfa532a",
   "metadata": {},
   "outputs": [],
   "source": [
    "df=pd.read_csv('channel.csv')\n"
   ]
  },
  {
   "cell_type": "code",
   "execution_count": 3,
   "id": "30396eda",
   "metadata": {},
   "outputs": [
    {
     "data": {
      "text/html": [
       "<div>\n",
       "<style scoped>\n",
       "    .dataframe tbody tr th:only-of-type {\n",
       "        vertical-align: middle;\n",
       "    }\n",
       "\n",
       "    .dataframe tbody tr th {\n",
       "        vertical-align: top;\n",
       "    }\n",
       "\n",
       "    .dataframe thead th {\n",
       "        text-align: right;\n",
       "    }\n",
       "</style>\n",
       "<table border=\"1\" class=\"dataframe\">\n",
       "  <thead>\n",
       "    <tr style=\"text-align: right;\">\n",
       "      <th></th>\n",
       "      <th>sr.no</th>\n",
       "      <th>tv</th>\n",
       "      <th>radio</th>\n",
       "      <th>newspaper</th>\n",
       "      <th>sales</th>\n",
       "    </tr>\n",
       "  </thead>\n",
       "  <tbody>\n",
       "    <tr>\n",
       "      <th>0</th>\n",
       "      <td>1</td>\n",
       "      <td>230.1</td>\n",
       "      <td>37.8</td>\n",
       "      <td>69.2</td>\n",
       "      <td>22.1</td>\n",
       "    </tr>\n",
       "    <tr>\n",
       "      <th>1</th>\n",
       "      <td>2</td>\n",
       "      <td>44.5</td>\n",
       "      <td>39.3</td>\n",
       "      <td>45.1</td>\n",
       "      <td>10.4</td>\n",
       "    </tr>\n",
       "    <tr>\n",
       "      <th>2</th>\n",
       "      <td>3</td>\n",
       "      <td>17.2</td>\n",
       "      <td>45.9</td>\n",
       "      <td>69.3</td>\n",
       "      <td>9.3</td>\n",
       "    </tr>\n",
       "    <tr>\n",
       "      <th>3</th>\n",
       "      <td>4</td>\n",
       "      <td>151.5</td>\n",
       "      <td>41.3</td>\n",
       "      <td>58.5</td>\n",
       "      <td>18.5</td>\n",
       "    </tr>\n",
       "    <tr>\n",
       "      <th>4</th>\n",
       "      <td>5</td>\n",
       "      <td>180.8</td>\n",
       "      <td>10.8</td>\n",
       "      <td>58.4</td>\n",
       "      <td>12.9</td>\n",
       "    </tr>\n",
       "  </tbody>\n",
       "</table>\n",
       "</div>"
      ],
      "text/plain": [
       "   sr.no     tv  radio  newspaper  sales\n",
       "0      1  230.1   37.8       69.2   22.1\n",
       "1      2   44.5   39.3       45.1   10.4\n",
       "2      3   17.2   45.9       69.3    9.3\n",
       "3      4  151.5   41.3       58.5   18.5\n",
       "4      5  180.8   10.8       58.4   12.9"
      ]
     },
     "execution_count": 3,
     "metadata": {},
     "output_type": "execute_result"
    }
   ],
   "source": [
    "df.head()"
   ]
  },
  {
   "cell_type": "raw",
   "id": "7ed88d79",
   "metadata": {},
   "source": [
    "in that problem the target variable is the sales and the data of the sales are the in the countinues form thats why in that problem we use the supervised learning techinch"
   ]
  },
  {
   "cell_type": "code",
   "execution_count": 4,
   "id": "fddb1ff3",
   "metadata": {},
   "outputs": [
    {
     "data": {
      "text/plain": [
       "(200, 5)"
      ]
     },
     "execution_count": 4,
     "metadata": {},
     "output_type": "execute_result"
    }
   ],
   "source": [
    "df.shape"
   ]
  },
  {
   "cell_type": "code",
   "execution_count": 5,
   "id": "9b1cd2ca",
   "metadata": {},
   "outputs": [
    {
     "data": {
      "text/plain": [
       "Index(['sr.no', 'tv', 'radio', 'newspaper', 'sales'], dtype='object')"
      ]
     },
     "execution_count": 5,
     "metadata": {},
     "output_type": "execute_result"
    }
   ],
   "source": [
    "df.columns"
   ]
  },
  {
   "cell_type": "code",
   "execution_count": 6,
   "id": "4a733809",
   "metadata": {},
   "outputs": [
    {
     "data": {
      "text/plain": [
       "sr.no        0\n",
       "tv           0\n",
       "radio        0\n",
       "newspaper    0\n",
       "sales        0\n",
       "dtype: int64"
      ]
     },
     "execution_count": 6,
     "metadata": {},
     "output_type": "execute_result"
    }
   ],
   "source": [
    "df.isnull().sum()"
   ]
  },
  {
   "cell_type": "markdown",
   "id": "5c21cdec",
   "metadata": {},
   "source": [
    "in that dataset there are no such null values so we go through the next stape of the data EDA process"
   ]
  },
  {
   "cell_type": "markdown",
   "id": "bb401f07",
   "metadata": {},
   "source": [
    "# EDA"
   ]
  },
  {
   "cell_type": "code",
   "execution_count": null,
   "id": "8e239546",
   "metadata": {},
   "outputs": [],
   "source": []
  },
  {
   "cell_type": "code",
   "execution_count": null,
   "id": "9eadf7ec",
   "metadata": {},
   "outputs": [],
   "source": []
  },
  {
   "cell_type": "code",
   "execution_count": 7,
   "id": "e1b35650",
   "metadata": {},
   "outputs": [
    {
     "data": {
      "text/plain": [
       "<AxesSubplot:xlabel='tv', ylabel='sales'>"
      ]
     },
     "execution_count": 7,
     "metadata": {},
     "output_type": "execute_result"
    },
    {
     "data": {
      "image/png": "[encoded data removed]",
      "text/plain": [
       "<Figure size 432x288 with 1 Axes>"
      ]
     },
     "metadata": {
      "needs_background": "light"
     },
     "output_type": "display_data"
    }
   ],
   "source": [
    "sns.scatterplot(x='tv', y='sales', data=df)"
   ]
  },
  {
   "cell_type": "markdown",
   "id": "f2b3f377",
   "metadata": {},
   "source": [
    "in that above graph we see that the when the tv advertisment is add or increses then the sales are linearly increses"
   ]
  },
  {
   "cell_type": "code",
   "execution_count": 8,
   "id": "20b86713",
   "metadata": {},
   "outputs": [
    {
     "data": {
      "text/plain": [
       "<AxesSubplot:xlabel='radio', ylabel='sales'>"
      ]
     },
     "execution_count": 8,
     "metadata": {},
     "output_type": "execute_result"
    },
    {
     "data": {
      "image/png": "[encoded data removed]",
      "text/plain": [
       "<Figure size 432x288 with 1 Axes>"
      ]
     },
     "metadata": {
      "needs_background": "light"
     },
     "output_type": "display_data"
    }
   ],
   "source": [
    "sns.scatterplot(x='radio', y='sales', data=df)"
   ]
  },
  {
   "cell_type": "markdown",
   "id": "b20bfb3c",
   "metadata": {},
   "source": [
    "in this graph we see that there are not all case are increses when the radio advt. increses"
   ]
  },
  {
   "cell_type": "code",
   "execution_count": 9,
   "id": "d571c32a",
   "metadata": {},
   "outputs": [
    {
     "data": {
      "text/plain": [
       "<AxesSubplot:xlabel='newspaper', ylabel='sales'>"
      ]
     },
     "execution_count": 9,
     "metadata": {},
     "output_type": "execute_result"
    },
    {
     "data": {
      "image/png": "[encoded data removed]",
      "text/plain": [
       "<Figure size 432x288 with 1 Axes>"
      ]
     },
     "metadata": {
      "needs_background": "light"
     },
     "output_type": "display_data"
    }
   ],
   "source": [
    "sns.scatterplot(x='newspaper', y='sales', data=df)"
   ]
  },
  {
   "cell_type": "markdown",
   "id": "cfc0aaf1",
   "metadata": {},
   "source": [
    "in this graph we see that when the newspaper advt are less there are sales rate is high "
   ]
  },
  {
   "cell_type": "code",
   "execution_count": 10,
   "id": "2ec53b6d",
   "metadata": {},
   "outputs": [],
   "source": [
    "df=df.drop('sr.no', axis=1)"
   ]
  },
  {
   "cell_type": "code",
   "execution_count": 11,
   "id": "a211d337",
   "metadata": {},
   "outputs": [
    {
     "data": {
      "text/html": [
       "<div>\n",
       "<style scoped>\n",
       "    .dataframe tbody tr th:only-of-type {\n",
       "        vertical-align: middle;\n",
       "    }\n",
       "\n",
       "    .dataframe tbody tr th {\n",
       "        vertical-align: top;\n",
       "    }\n",
       "\n",
       "    .dataframe thead th {\n",
       "        text-align: right;\n",
       "    }\n",
       "</style>\n",
       "<table border=\"1\" class=\"dataframe\">\n",
       "  <thead>\n",
       "    <tr style=\"text-align: right;\">\n",
       "      <th></th>\n",
       "      <th>tv</th>\n",
       "      <th>radio</th>\n",
       "      <th>newspaper</th>\n",
       "      <th>sales</th>\n",
       "    </tr>\n",
       "  </thead>\n",
       "  <tbody>\n",
       "    <tr>\n",
       "      <th>0</th>\n",
       "      <td>230.1</td>\n",
       "      <td>37.8</td>\n",
       "      <td>69.2</td>\n",
       "      <td>22.1</td>\n",
       "    </tr>\n",
       "    <tr>\n",
       "      <th>1</th>\n",
       "      <td>44.5</td>\n",
       "      <td>39.3</td>\n",
       "      <td>45.1</td>\n",
       "      <td>10.4</td>\n",
       "    </tr>\n",
       "    <tr>\n",
       "      <th>2</th>\n",
       "      <td>17.2</td>\n",
       "      <td>45.9</td>\n",
       "      <td>69.3</td>\n",
       "      <td>9.3</td>\n",
       "    </tr>\n",
       "    <tr>\n",
       "      <th>3</th>\n",
       "      <td>151.5</td>\n",
       "      <td>41.3</td>\n",
       "      <td>58.5</td>\n",
       "      <td>18.5</td>\n",
       "    </tr>\n",
       "    <tr>\n",
       "      <th>4</th>\n",
       "      <td>180.8</td>\n",
       "      <td>10.8</td>\n",
       "      <td>58.4</td>\n",
       "      <td>12.9</td>\n",
       "    </tr>\n",
       "    <tr>\n",
       "      <th>...</th>\n",
       "      <td>...</td>\n",
       "      <td>...</td>\n",
       "      <td>...</td>\n",
       "      <td>...</td>\n",
       "    </tr>\n",
       "    <tr>\n",
       "      <th>195</th>\n",
       "      <td>38.2</td>\n",
       "      <td>3.7</td>\n",
       "      <td>13.8</td>\n",
       "      <td>7.6</td>\n",
       "    </tr>\n",
       "    <tr>\n",
       "      <th>196</th>\n",
       "      <td>94.2</td>\n",
       "      <td>4.9</td>\n",
       "      <td>8.1</td>\n",
       "      <td>9.7</td>\n",
       "    </tr>\n",
       "    <tr>\n",
       "      <th>197</th>\n",
       "      <td>177.0</td>\n",
       "      <td>9.3</td>\n",
       "      <td>6.4</td>\n",
       "      <td>12.8</td>\n",
       "    </tr>\n",
       "    <tr>\n",
       "      <th>198</th>\n",
       "      <td>283.6</td>\n",
       "      <td>42.0</td>\n",
       "      <td>66.2</td>\n",
       "      <td>25.5</td>\n",
       "    </tr>\n",
       "    <tr>\n",
       "      <th>199</th>\n",
       "      <td>232.1</td>\n",
       "      <td>8.6</td>\n",
       "      <td>8.7</td>\n",
       "      <td>13.4</td>\n",
       "    </tr>\n",
       "  </tbody>\n",
       "</table>\n",
       "<p>200 rows × 4 columns</p>\n",
       "</div>"
      ],
      "text/plain": [
       "        tv  radio  newspaper  sales\n",
       "0    230.1   37.8       69.2   22.1\n",
       "1     44.5   39.3       45.1   10.4\n",
       "2     17.2   45.9       69.3    9.3\n",
       "3    151.5   41.3       58.5   18.5\n",
       "4    180.8   10.8       58.4   12.9\n",
       "..     ...    ...        ...    ...\n",
       "195   38.2    3.7       13.8    7.6\n",
       "196   94.2    4.9        8.1    9.7\n",
       "197  177.0    9.3        6.4   12.8\n",
       "198  283.6   42.0       66.2   25.5\n",
       "199  232.1    8.6        8.7   13.4\n",
       "\n",
       "[200 rows x 4 columns]"
      ]
     },
     "execution_count": 11,
     "metadata": {},
     "output_type": "execute_result"
    }
   ],
   "source": [
    "df"
   ]
  },
  {
   "cell_type": "code",
   "execution_count": 12,
   "id": "9c16b2ee",
   "metadata": {},
   "outputs": [
    {
     "data": {
      "text/html": [
       "<div>\n",
       "<style scoped>\n",
       "    .dataframe tbody tr th:only-of-type {\n",
       "        vertical-align: middle;\n",
       "    }\n",
       "\n",
       "    .dataframe tbody tr th {\n",
       "        vertical-align: top;\n",
       "    }\n",
       "\n",
       "    .dataframe thead th {\n",
       "        text-align: right;\n",
       "    }\n",
       "</style>\n",
       "<table border=\"1\" class=\"dataframe\">\n",
       "  <thead>\n",
       "    <tr style=\"text-align: right;\">\n",
       "      <th></th>\n",
       "      <th>tv</th>\n",
       "      <th>radio</th>\n",
       "      <th>newspaper</th>\n",
       "      <th>sales</th>\n",
       "    </tr>\n",
       "  </thead>\n",
       "  <tbody>\n",
       "    <tr>\n",
       "      <th>tv</th>\n",
       "      <td>1.000000</td>\n",
       "      <td>0.054809</td>\n",
       "      <td>0.056648</td>\n",
       "      <td>0.782224</td>\n",
       "    </tr>\n",
       "    <tr>\n",
       "      <th>radio</th>\n",
       "      <td>0.054809</td>\n",
       "      <td>1.000000</td>\n",
       "      <td>0.354104</td>\n",
       "      <td>0.576223</td>\n",
       "    </tr>\n",
       "    <tr>\n",
       "      <th>newspaper</th>\n",
       "      <td>0.056648</td>\n",
       "      <td>0.354104</td>\n",
       "      <td>1.000000</td>\n",
       "      <td>0.228299</td>\n",
       "    </tr>\n",
       "    <tr>\n",
       "      <th>sales</th>\n",
       "      <td>0.782224</td>\n",
       "      <td>0.576223</td>\n",
       "      <td>0.228299</td>\n",
       "      <td>1.000000</td>\n",
       "    </tr>\n",
       "  </tbody>\n",
       "</table>\n",
       "</div>"
      ],
      "text/plain": [
       "                 tv     radio  newspaper     sales\n",
       "tv         1.000000  0.054809   0.056648  0.782224\n",
       "radio      0.054809  1.000000   0.354104  0.576223\n",
       "newspaper  0.056648  0.354104   1.000000  0.228299\n",
       "sales      0.782224  0.576223   0.228299  1.000000"
      ]
     },
     "execution_count": 12,
     "metadata": {},
     "output_type": "execute_result"
    }
   ],
   "source": [
    "df.corr()"
   ]
  },
  {
   "cell_type": "code",
   "execution_count": 13,
   "id": "fb484646",
   "metadata": {},
   "outputs": [
    {
     "data": {
      "text/plain": [
       "newspaper    0.228299\n",
       "radio        0.576223\n",
       "tv           0.782224\n",
       "sales        1.000000\n",
       "Name: sales, dtype: float64"
      ]
     },
     "execution_count": 13,
     "metadata": {},
     "output_type": "execute_result"
    }
   ],
   "source": [
    "df.corr()['sales'].sort_values()"
   ]
  },
  {
   "cell_type": "markdown",
   "id": "bfe1201d",
   "metadata": {},
   "source": [
    "in this correlation point we see that the correlation with the tv and the radio are extremly good ."
   ]
  },
  {
   "cell_type": "code",
   "execution_count": 14,
   "id": "6fcf57eb",
   "metadata": {},
   "outputs": [
    {
     "data": {
      "text/plain": [
       "<AxesSubplot:>"
      ]
     },
     "execution_count": 14,
     "metadata": {},
     "output_type": "execute_result"
    },
    {
     "data": {
      "image/png": "[encoded data removed]",
      "text/plain": [
       "<Figure size 1080x504 with 2 Axes>"
      ]
     },
     "metadata": {
      "needs_background": "light"
     },
     "output_type": "display_data"
    }
   ],
   "source": [
    "import matplotlib.pyplot as plt\n",
    "plt.figure(figsize=(15,7))\n",
    "sns.heatmap(df.corr(), annot=True , linewidth=0.5 , linecolor='black', fmt='.2f')"
   ]
  },
  {
   "cell_type": "raw",
   "id": "d5ed6393",
   "metadata": {},
   "source": [
    "we see that the correlation withh diffrent columns.\n",
    "the correlation with the tv and the sales is 78 % and this is very good bond\n",
    "the correlation with the radio and the sales is 58 % and this is very good bond\n",
    "the correlation with the newspaper and the sales is 23 % and this is very good bond"
   ]
  },
  {
   "cell_type": "markdown",
   "id": "f83010c0",
   "metadata": {},
   "source": [
    "# describing of the dataset"
   ]
  },
  {
   "cell_type": "code",
   "execution_count": 15,
   "id": "f5c2f894",
   "metadata": {},
   "outputs": [
    {
     "data": {
      "text/html": [
       "<div>\n",
       "<style scoped>\n",
       "    .dataframe tbody tr th:only-of-type {\n",
       "        vertical-align: middle;\n",
       "    }\n",
       "\n",
       "    .dataframe tbody tr th {\n",
       "        vertical-align: top;\n",
       "    }\n",
       "\n",
       "    .dataframe thead th {\n",
       "        text-align: right;\n",
       "    }\n",
       "</style>\n",
       "<table border=\"1\" class=\"dataframe\">\n",
       "  <thead>\n",
       "    <tr style=\"text-align: right;\">\n",
       "      <th></th>\n",
       "      <th>tv</th>\n",
       "      <th>radio</th>\n",
       "      <th>newspaper</th>\n",
       "      <th>sales</th>\n",
       "    </tr>\n",
       "  </thead>\n",
       "  <tbody>\n",
       "    <tr>\n",
       "      <th>count</th>\n",
       "      <td>200.000000</td>\n",
       "      <td>200.000000</td>\n",
       "      <td>200.000000</td>\n",
       "      <td>200.000000</td>\n",
       "    </tr>\n",
       "    <tr>\n",
       "      <th>mean</th>\n",
       "      <td>147.042500</td>\n",
       "      <td>23.264000</td>\n",
       "      <td>30.554000</td>\n",
       "      <td>14.022500</td>\n",
       "    </tr>\n",
       "    <tr>\n",
       "      <th>std</th>\n",
       "      <td>85.854236</td>\n",
       "      <td>14.846809</td>\n",
       "      <td>21.778621</td>\n",
       "      <td>5.217457</td>\n",
       "    </tr>\n",
       "    <tr>\n",
       "      <th>min</th>\n",
       "      <td>0.700000</td>\n",
       "      <td>0.000000</td>\n",
       "      <td>0.300000</td>\n",
       "      <td>1.600000</td>\n",
       "    </tr>\n",
       "    <tr>\n",
       "      <th>25%</th>\n",
       "      <td>74.375000</td>\n",
       "      <td>9.975000</td>\n",
       "      <td>12.750000</td>\n",
       "      <td>10.375000</td>\n",
       "    </tr>\n",
       "    <tr>\n",
       "      <th>50%</th>\n",
       "      <td>149.750000</td>\n",
       "      <td>22.900000</td>\n",
       "      <td>25.750000</td>\n",
       "      <td>12.900000</td>\n",
       "    </tr>\n",
       "    <tr>\n",
       "      <th>75%</th>\n",
       "      <td>218.825000</td>\n",
       "      <td>36.525000</td>\n",
       "      <td>45.100000</td>\n",
       "      <td>17.400000</td>\n",
       "    </tr>\n",
       "    <tr>\n",
       "      <th>max</th>\n",
       "      <td>296.400000</td>\n",
       "      <td>49.600000</td>\n",
       "      <td>114.000000</td>\n",
       "      <td>27.000000</td>\n",
       "    </tr>\n",
       "  </tbody>\n",
       "</table>\n",
       "</div>"
      ],
      "text/plain": [
       "               tv       radio   newspaper       sales\n",
       "count  200.000000  200.000000  200.000000  200.000000\n",
       "mean   147.042500   23.264000   30.554000   14.022500\n",
       "std     85.854236   14.846809   21.778621    5.217457\n",
       "min      0.700000    0.000000    0.300000    1.600000\n",
       "25%     74.375000    9.975000   12.750000   10.375000\n",
       "50%    149.750000   22.900000   25.750000   12.900000\n",
       "75%    218.825000   36.525000   45.100000   17.400000\n",
       "max    296.400000   49.600000  114.000000   27.000000"
      ]
     },
     "execution_count": 15,
     "metadata": {},
     "output_type": "execute_result"
    }
   ],
   "source": [
    "df.describe()"
   ]
  },
  {
   "cell_type": "code",
   "execution_count": 16,
   "id": "db48eb51",
   "metadata": {},
   "outputs": [
    {
     "data": {
      "text/plain": [
       "<AxesSubplot:>"
      ]
     },
     "execution_count": 16,
     "metadata": {},
     "output_type": "execute_result"
    },
    {
     "data": {
      "image/png": "[encoded data removed]",
      "text/plain": [
       "<Figure size 1080x504 with 2 Axes>"
      ]
     },
     "metadata": {
      "needs_background": "light"
     },
     "output_type": "display_data"
    }
   ],
   "source": [
    "plt.figure(figsize=(15,7))\n",
    "sns.heatmap(round(df.describe()[1:].transpose(),2), annot=True , linewidth=0.5 , linecolor='black', fmt='.2f')"
   ]
  },
  {
   "cell_type": "markdown",
   "id": "7f3d7fc2",
   "metadata": {},
   "source": [
    "we see that the there are no such outliers are present except the newspaper we solve the outliers using the boxplot and solve using zscore"
   ]
  },
  {
   "cell_type": "code",
   "execution_count": 17,
   "id": "98a6ac1a",
   "metadata": {},
   "outputs": [
    {
     "name": "stdout",
     "output_type": "stream",
     "text": [
      "<class 'pandas.core.frame.DataFrame'>\n",
      "RangeIndex: 200 entries, 0 to 199\n",
      "Data columns (total 4 columns):\n",
      " #   Column     Non-Null Count  Dtype  \n",
      "---  ------     --------------  -----  \n",
      " 0   tv         200 non-null    float64\n",
      " 1   radio      200 non-null    float64\n",
      " 2   newspaper  200 non-null    float64\n",
      " 3   sales      200 non-null    float64\n",
      "dtypes: float64(4)\n",
      "memory usage: 6.4 KB\n"
     ]
    }
   ],
   "source": [
    "df.info()"
   ]
  },
  {
   "cell_type": "code",
   "execution_count": 18,
   "id": "d16a4dc9",
   "metadata": {},
   "outputs": [
    {
     "data": {
      "text/plain": [
       "<AxesSubplot:>"
      ]
     },
     "execution_count": 18,
     "metadata": {},
     "output_type": "execute_result"
    },
    {
     "data": {
      "image/png": "[encoded data removed]",
      "text/plain": [
       "<Figure size 432x288 with 1 Axes>"
      ]
     },
     "metadata": {
      "needs_background": "light"
     },
     "output_type": "display_data"
    }
   ],
   "source": [
    "df['tv'].plot.box()"
   ]
  },
  {
   "cell_type": "code",
   "execution_count": 19,
   "id": "ecd6b538",
   "metadata": {},
   "outputs": [
    {
     "data": {
      "text/plain": [
       "<AxesSubplot:>"
      ]
     },
     "execution_count": 19,
     "metadata": {},
     "output_type": "execute_result"
    },
    {
     "data": {
      "image/png": "[encoded data removed]",
      "text/plain": [
       "<Figure size 432x288 with 1 Axes>"
      ]
     },
     "metadata": {
      "needs_background": "light"
     },
     "output_type": "display_data"
    }
   ],
   "source": [
    "df['radio'].plot.box()"
   ]
  },
  {
   "cell_type": "code",
   "execution_count": 20,
   "id": "ee420f62",
   "metadata": {},
   "outputs": [
    {
     "data": {
      "text/plain": [
       "<AxesSubplot:>"
      ]
     },
     "execution_count": 20,
     "metadata": {},
     "output_type": "execute_result"
    },
    {
     "data": {
      "image/png": "[encoded data removed]",
      "text/plain": [
       "<Figure size 432x288 with 1 Axes>"
      ]
     },
     "metadata": {
      "needs_background": "light"
     },
     "output_type": "display_data"
    }
   ],
   "source": [
    "df['newspaper'].plot.box()"
   ]
  },
  {
   "cell_type": "markdown",
   "id": "84a84509",
   "metadata": {},
   "source": [
    "there are few outliers are present"
   ]
  },
  {
   "cell_type": "markdown",
   "id": "5f8a3ad9",
   "metadata": {},
   "source": [
    "# skewness"
   ]
  },
  {
   "cell_type": "code",
   "execution_count": 21,
   "id": "abf8656b",
   "metadata": {},
   "outputs": [
    {
     "data": {
      "text/plain": [
       "tv          -0.069853\n",
       "radio        0.094175\n",
       "newspaper    0.894720\n",
       "sales        0.407571\n",
       "dtype: float64"
      ]
     },
     "execution_count": 21,
     "metadata": {},
     "output_type": "execute_result"
    }
   ],
   "source": [
    "df.skew()"
   ]
  },
  {
   "cell_type": "code",
   "execution_count": 22,
   "id": "7b3f56f2",
   "metadata": {},
   "outputs": [],
   "source": [
    "import warnings\n",
    "warnings.filterwarnings('ignore')"
   ]
  },
  {
   "cell_type": "code",
   "execution_count": 23,
   "id": "96036cf3",
   "metadata": {},
   "outputs": [
    {
     "data": {
      "text/plain": [
       "<AxesSubplot:xlabel='tv', ylabel='Density'>"
      ]
     },
     "execution_count": 23,
     "metadata": {},
     "output_type": "execute_result"
    },
    {
     "data": {
      "image/png": "[encoded data removed]",
      "text/plain": [
       "<Figure size 432x288 with 1 Axes>"
      ]
     },
     "metadata": {
      "needs_background": "light"
     },
     "output_type": "display_data"
    }
   ],
   "source": [
    "sns.distplot(df['tv'])"
   ]
  },
  {
   "cell_type": "code",
   "execution_count": 24,
   "id": "1c71d461",
   "metadata": {},
   "outputs": [
    {
     "data": {
      "text/plain": [
       "<AxesSubplot:xlabel='radio', ylabel='Density'>"
      ]
     },
     "execution_count": 24,
     "metadata": {},
     "output_type": "execute_result"
    },
    {
     "data": {
      "image/png": "[encoded data removed]",
      "text/plain": [
       "<Figure size 432x288 with 1 Axes>"
      ]
     },
     "metadata": {
      "needs_background": "light"
     },
     "output_type": "display_data"
    }
   ],
   "source": [
    "sns.distplot(df['radio'])"
   ]
  },
  {
   "cell_type": "code",
   "execution_count": 25,
   "id": "53665b08",
   "metadata": {},
   "outputs": [
    {
     "data": {
      "text/plain": [
       "<AxesSubplot:xlabel='newspaper', ylabel='Density'>"
      ]
     },
     "execution_count": 25,
     "metadata": {},
     "output_type": "execute_result"
    },
    {
     "data": {
      "image/png": "[encoded data removed]",
      "text/plain": [
       "<Figure size 432x288 with 1 Axes>"
      ]
     },
     "metadata": {
      "needs_background": "light"
     },
     "output_type": "display_data"
    }
   ],
   "source": [
    "sns.distplot(df['newspaper'])"
   ]
  },
  {
   "cell_type": "markdown",
   "id": "abecc07d",
   "metadata": {},
   "source": [
    "above data is not normalized"
   ]
  },
  {
   "cell_type": "code",
   "execution_count": 26,
   "id": "1ed30559",
   "metadata": {},
   "outputs": [
    {
     "data": {
      "text/plain": [
       "tv           0.782224\n",
       "radio        0.576223\n",
       "newspaper    0.228299\n",
       "sales        1.000000\n",
       "Name: sales, dtype: float64"
      ]
     },
     "execution_count": 26,
     "metadata": {},
     "output_type": "execute_result"
    }
   ],
   "source": [
    "df.corr()['sales']"
   ]
  },
  {
   "cell_type": "markdown",
   "id": "cca5f1b7",
   "metadata": {},
   "source": [
    "outliers removal"
   ]
  },
  {
   "cell_type": "code",
   "execution_count": 27,
   "id": "5b3b40aa",
   "metadata": {},
   "outputs": [
    {
     "data": {
      "text/plain": [
       "(200, 4)"
      ]
     },
     "execution_count": 27,
     "metadata": {},
     "output_type": "execute_result"
    }
   ],
   "source": [
    "df.shape"
   ]
  },
  {
   "cell_type": "code",
   "execution_count": 28,
   "id": "81495e7d",
   "metadata": {},
   "outputs": [
    {
     "data": {
      "text/plain": [
       "(array([ 16, 101], dtype=int64), array([2, 2], dtype=int64))"
      ]
     },
     "execution_count": 28,
     "metadata": {},
     "output_type": "execute_result"
    }
   ],
   "source": [
    "from scipy.stats import zscore\n",
    "import numpy as np\n",
    "z=np.abs(zscore(df))\n",
    "threshold=3\n",
    "np.where(z>3)"
   ]
  },
  {
   "cell_type": "markdown",
   "id": "809f5b14",
   "metadata": {},
   "source": [
    "we see that there are very low outliers present"
   ]
  },
  {
   "cell_type": "code",
   "execution_count": 29,
   "id": "2056bed3",
   "metadata": {},
   "outputs": [
    {
     "data": {
      "text/html": [
       "<div>\n",
       "<style scoped>\n",
       "    .dataframe tbody tr th:only-of-type {\n",
       "        vertical-align: middle;\n",
       "    }\n",
       "\n",
       "    .dataframe tbody tr th {\n",
       "        vertical-align: top;\n",
       "    }\n",
       "\n",
       "    .dataframe thead th {\n",
       "        text-align: right;\n",
       "    }\n",
       "</style>\n",
       "<table border=\"1\" class=\"dataframe\">\n",
       "  <thead>\n",
       "    <tr style=\"text-align: right;\">\n",
       "      <th></th>\n",
       "      <th>tv</th>\n",
       "      <th>radio</th>\n",
       "      <th>newspaper</th>\n",
       "      <th>sales</th>\n",
       "    </tr>\n",
       "  </thead>\n",
       "  <tbody>\n",
       "    <tr>\n",
       "      <th>0</th>\n",
       "      <td>230.1</td>\n",
       "      <td>37.8</td>\n",
       "      <td>69.2</td>\n",
       "      <td>22.1</td>\n",
       "    </tr>\n",
       "    <tr>\n",
       "      <th>1</th>\n",
       "      <td>44.5</td>\n",
       "      <td>39.3</td>\n",
       "      <td>45.1</td>\n",
       "      <td>10.4</td>\n",
       "    </tr>\n",
       "    <tr>\n",
       "      <th>2</th>\n",
       "      <td>17.2</td>\n",
       "      <td>45.9</td>\n",
       "      <td>69.3</td>\n",
       "      <td>9.3</td>\n",
       "    </tr>\n",
       "    <tr>\n",
       "      <th>3</th>\n",
       "      <td>151.5</td>\n",
       "      <td>41.3</td>\n",
       "      <td>58.5</td>\n",
       "      <td>18.5</td>\n",
       "    </tr>\n",
       "    <tr>\n",
       "      <th>4</th>\n",
       "      <td>180.8</td>\n",
       "      <td>10.8</td>\n",
       "      <td>58.4</td>\n",
       "      <td>12.9</td>\n",
       "    </tr>\n",
       "    <tr>\n",
       "      <th>...</th>\n",
       "      <td>...</td>\n",
       "      <td>...</td>\n",
       "      <td>...</td>\n",
       "      <td>...</td>\n",
       "    </tr>\n",
       "    <tr>\n",
       "      <th>195</th>\n",
       "      <td>38.2</td>\n",
       "      <td>3.7</td>\n",
       "      <td>13.8</td>\n",
       "      <td>7.6</td>\n",
       "    </tr>\n",
       "    <tr>\n",
       "      <th>196</th>\n",
       "      <td>94.2</td>\n",
       "      <td>4.9</td>\n",
       "      <td>8.1</td>\n",
       "      <td>9.7</td>\n",
       "    </tr>\n",
       "    <tr>\n",
       "      <th>197</th>\n",
       "      <td>177.0</td>\n",
       "      <td>9.3</td>\n",
       "      <td>6.4</td>\n",
       "      <td>12.8</td>\n",
       "    </tr>\n",
       "    <tr>\n",
       "      <th>198</th>\n",
       "      <td>283.6</td>\n",
       "      <td>42.0</td>\n",
       "      <td>66.2</td>\n",
       "      <td>25.5</td>\n",
       "    </tr>\n",
       "    <tr>\n",
       "      <th>199</th>\n",
       "      <td>232.1</td>\n",
       "      <td>8.6</td>\n",
       "      <td>8.7</td>\n",
       "      <td>13.4</td>\n",
       "    </tr>\n",
       "  </tbody>\n",
       "</table>\n",
       "<p>198 rows × 4 columns</p>\n",
       "</div>"
      ],
      "text/plain": [
       "        tv  radio  newspaper  sales\n",
       "0    230.1   37.8       69.2   22.1\n",
       "1     44.5   39.3       45.1   10.4\n",
       "2     17.2   45.9       69.3    9.3\n",
       "3    151.5   41.3       58.5   18.5\n",
       "4    180.8   10.8       58.4   12.9\n",
       "..     ...    ...        ...    ...\n",
       "195   38.2    3.7       13.8    7.6\n",
       "196   94.2    4.9        8.1    9.7\n",
       "197  177.0    9.3        6.4   12.8\n",
       "198  283.6   42.0       66.2   25.5\n",
       "199  232.1    8.6        8.7   13.4\n",
       "\n",
       "[198 rows x 4 columns]"
      ]
     },
     "execution_count": 29,
     "metadata": {},
     "output_type": "execute_result"
    }
   ],
   "source": [
    "df_new_z=df[(z<3).all(axis=1)]\n",
    "df_new_z"
   ]
  },
  {
   "cell_type": "markdown",
   "id": "9f5dfec2",
   "metadata": {},
   "source": [
    "seprating the columns in the features and target variables"
   ]
  },
  {
   "cell_type": "code",
   "execution_count": 30,
   "id": "777d4fb8",
   "metadata": {},
   "outputs": [],
   "source": [
    "features=df.drop(\"sales\", axis=1)\n",
    "target=df[\"sales\"]"
   ]
  },
  {
   "cell_type": "code",
   "execution_count": 31,
   "id": "3f85bf7a",
   "metadata": {},
   "outputs": [],
   "source": [
    "from sklearn.preprocessing import MinMaxScaler\n",
    "mns=MinMaxScaler()\n",
    "from sklearn.linear_model import LinearRegression\n",
    "lr=LinearRegression()\n",
    "from sklearn.metrics import r2_score\n",
    "from sklearn.model_selection import train_test_split"
   ]
  },
  {
   "cell_type": "code",
   "execution_count": 32,
   "id": "24ba5075",
   "metadata": {},
   "outputs": [
    {
     "name": "stdout",
     "output_type": "stream",
     "text": [
      "at random state 0, the traing accuracy is- 0.9067114990146383\n",
      "at random state 0, the testing accuracy is-0.8601145185017867\n",
      "\n",
      "\n",
      "at random state 1, the traing accuracy is- 0.8959372632325174\n",
      "at random state 1, the testing accuracy is-0.8927605914615384\n",
      "\n",
      "\n",
      "at random state 2, the traing accuracy is- 0.9151707412454462\n",
      "at random state 2, the testing accuracy is-0.7575894500772719\n",
      "\n",
      "\n",
      "at random state 3, the traing accuracy is- 0.8930288385772915\n",
      "at random state 3, the testing accuracy is-0.9138375011080566\n",
      "\n",
      "\n",
      "at random state 4, the traing accuracy is- 0.8911672911176578\n",
      "at random state 4, the testing accuracy is-0.9085774752313167\n",
      "\n",
      "\n",
      "at random state 5, the traing accuracy is- 0.8956962280033928\n",
      "at random state 5, the testing accuracy is-0.8984204533332627\n",
      "\n",
      "\n",
      "at random state 6, the traing accuracy is- 0.8915418760966582\n",
      "at random state 6, the testing accuracy is-0.922433347392203\n",
      "\n",
      "\n",
      "at random state 7, the traing accuracy is- 0.8929164670647455\n",
      "at random state 7, the testing accuracy is-0.9095550600904052\n",
      "\n",
      "\n",
      "at random state 8, the traing accuracy is- 0.9088025724048052\n",
      "at random state 8, the testing accuracy is-0.8460595754263389\n",
      "\n",
      "\n",
      "at random state 9, the traing accuracy is- 0.8897851719766416\n",
      "at random state 9, the testing accuracy is-0.9256258465335008\n",
      "\n",
      "\n",
      "at random state 10, the traing accuracy is- 0.9209087553499528\n",
      "at random state 10, the testing accuracy is-0.8353672324670594\n",
      "\n",
      "\n",
      "at random state 11, the traing accuracy is- 0.9111583949248847\n",
      "at random state 11, the testing accuracy is-0.8449174816183896\n",
      "\n",
      "\n",
      "at random state 12, the traing accuracy is- 0.891451009902517\n",
      "at random state 12, the testing accuracy is-0.9125583321991082\n",
      "\n",
      "\n",
      "at random state 13, the traing accuracy is- 0.8869244310370576\n",
      "at random state 13, the testing accuracy is-0.9308589334107374\n",
      "\n",
      "\n",
      "at random state 14, the traing accuracy is- 0.908635420499295\n",
      "at random state 14, the testing accuracy is-0.8549663199763198\n",
      "\n",
      "\n",
      "at random state 15, the traing accuracy is- 0.8935846767022744\n",
      "at random state 15, the testing accuracy is-0.9064939179490465\n",
      "\n",
      "\n",
      "at random state 16, the traing accuracy is- 0.892634156753275\n",
      "at random state 16, the testing accuracy is-0.91864253803112\n",
      "\n",
      "\n",
      "at random state 17, the traing accuracy is- 0.911643850109681\n",
      "at random state 17, the testing accuracy is-0.8266375240641093\n",
      "\n",
      "\n",
      "at random state 18, the traing accuracy is- 0.9058350355666276\n",
      "at random state 18, the testing accuracy is-0.8691428348137914\n",
      "\n",
      "\n",
      "at random state 19, the traing accuracy is- 0.8936653113157833\n",
      "at random state 19, the testing accuracy is-0.903410880167606\n",
      "\n",
      "\n",
      "at random state 20, the traing accuracy is- 0.8939415029759354\n",
      "at random state 20, the testing accuracy is-0.9032049399335234\n",
      "\n",
      "\n",
      "at random state 21, the traing accuracy is- 0.8876272528162706\n",
      "at random state 21, the testing accuracy is-0.9220737408493859\n",
      "\n",
      "\n",
      "at random state 22, the traing accuracy is- 0.8899965075887379\n",
      "at random state 22, the testing accuracy is-0.9182667532378175\n",
      "\n",
      "\n",
      "at random state 23, the traing accuracy is- 0.8921659364123988\n",
      "at random state 23, the testing accuracy is-0.910204221189731\n",
      "\n",
      "\n",
      "at random state 24, the traing accuracy is- 0.8946529864968562\n",
      "at random state 24, the testing accuracy is-0.9043170168345028\n",
      "\n",
      "\n",
      "at random state 25, the traing accuracy is- 0.9007883778149751\n",
      "at random state 25, the testing accuracy is-0.8738569641880867\n",
      "\n",
      "\n",
      "at random state 26, the traing accuracy is- 0.8998325917728893\n",
      "at random state 26, the testing accuracy is-0.8756915597547017\n",
      "\n",
      "\n",
      "at random state 27, the traing accuracy is- 0.8947281937728894\n",
      "at random state 27, the testing accuracy is-0.9064360707520687\n",
      "\n",
      "\n",
      "at random state 28, the traing accuracy is- 0.899682102176431\n",
      "at random state 28, the testing accuracy is-0.884139581646469\n",
      "\n",
      "\n",
      "at random state 29, the traing accuracy is- 0.8896422572594604\n",
      "at random state 29, the testing accuracy is-0.9124795091328944\n",
      "\n",
      "\n",
      "at random state 30, the traing accuracy is- 0.8933633451302291\n",
      "at random state 30, the testing accuracy is-0.9080112550671722\n",
      "\n",
      "\n",
      "at random state 31, the traing accuracy is- 0.8859036462267695\n",
      "at random state 31, the testing accuracy is-0.9284346926567392\n",
      "\n",
      "\n",
      "at random state 32, the traing accuracy is- 0.9172972779129942\n",
      "at random state 32, the testing accuracy is-0.7768844650932812\n",
      "\n",
      "\n",
      "at random state 33, the traing accuracy is- 0.8962848476126537\n",
      "at random state 33, the testing accuracy is-0.8937288845297464\n",
      "\n",
      "\n",
      "at random state 34, the traing accuracy is- 0.8970495535067476\n",
      "at random state 34, the testing accuracy is-0.8925087896627705\n",
      "\n",
      "\n",
      "at random state 35, the traing accuracy is- 0.9149802728230204\n",
      "at random state 35, the testing accuracy is-0.7864906125568901\n",
      "\n",
      "\n",
      "at random state 36, the traing accuracy is- 0.8887387365244299\n",
      "at random state 36, the testing accuracy is-0.926530749168601\n",
      "\n",
      "\n",
      "at random state 37, the traing accuracy is- 0.8997277119781726\n",
      "at random state 37, the testing accuracy is-0.8837033479022514\n",
      "\n",
      "\n",
      "at random state 38, the traing accuracy is- 0.8972213778715169\n",
      "at random state 38, the testing accuracy is-0.8927131887797296\n",
      "\n",
      "\n",
      "at random state 39, the traing accuracy is- 0.8989586369412048\n",
      "at random state 39, the testing accuracy is-0.8789549979127556\n",
      "\n",
      "\n",
      "at random state 40, the traing accuracy is- 0.920068668721091\n",
      "at random state 40, the testing accuracy is-0.7982652261831079\n",
      "\n",
      "\n",
      "at random state 41, the traing accuracy is- 0.9006901704189824\n",
      "at random state 41, the testing accuracy is-0.8819813651740449\n",
      "\n",
      "\n",
      "at random state 42, the traing accuracy is- 0.8957008271017817\n",
      "at random state 42, the testing accuracy is-0.8994380241009121\n",
      "\n",
      "\n",
      "at random state 43, the traing accuracy is- 0.888477223981934\n",
      "at random state 43, the testing accuracy is-0.9286102071081018\n",
      "\n",
      "\n",
      "at random state 44, the traing accuracy is- 0.9065895163213828\n",
      "at random state 44, the testing accuracy is-0.8310290458396923\n",
      "\n",
      "\n",
      "at random state 45, the traing accuracy is- 0.895947647524022\n",
      "at random state 45, the testing accuracy is-0.8955882331233612\n",
      "\n",
      "\n",
      "at random state 46, the traing accuracy is- 0.9035142166671978\n",
      "at random state 46, the testing accuracy is-0.8508891379360346\n",
      "\n",
      "\n",
      "at random state 47, the traing accuracy is- 0.8986105026216175\n",
      "at random state 47, the testing accuracy is-0.8861176124930538\n",
      "\n",
      "\n",
      "at random state 48, the traing accuracy is- 0.8905303930227862\n",
      "at random state 48, the testing accuracy is-0.9192264895105909\n",
      "\n",
      "\n",
      "at random state 49, the traing accuracy is- 0.9138424680320801\n",
      "at random state 49, the testing accuracy is-0.8236013350803587\n",
      "\n",
      "\n",
      "at random state 50, the traing accuracy is- 0.9013713199191987\n",
      "at random state 50, the testing accuracy is-0.847551325142633\n",
      "\n",
      "\n",
      "at random state 51, the traing accuracy is- 0.8935562677321687\n",
      "at random state 51, the testing accuracy is-0.9079126096145104\n",
      "\n",
      "\n",
      "at random state 52, the traing accuracy is- 0.9018280272898134\n",
      "at random state 52, the testing accuracy is-0.8811159773607996\n",
      "\n",
      "\n",
      "at random state 53, the traing accuracy is- 0.8887382038237429\n",
      "at random state 53, the testing accuracy is-0.9255679198924356\n",
      "\n",
      "\n",
      "at random state 54, the traing accuracy is- 0.8919832932654931\n",
      "at random state 54, the testing accuracy is-0.9175053931302267\n",
      "\n",
      "\n",
      "at random state 55, the traing accuracy is- 0.8946672493883487\n",
      "at random state 55, the testing accuracy is-0.9017603460127577\n",
      "\n",
      "\n",
      "at random state 56, the traing accuracy is- 0.8989109930720287\n",
      "at random state 56, the testing accuracy is-0.8881081877827507\n",
      "\n",
      "\n",
      "at random state 57, the traing accuracy is- 0.8825580314985149\n",
      "at random state 57, the testing accuracy is-0.9407051178510067\n",
      "\n",
      "\n",
      "at random state 58, the traing accuracy is- 0.912712289434702\n",
      "at random state 58, the testing accuracy is-0.8406715244241625\n",
      "\n",
      "\n",
      "at random state 59, the traing accuracy is- 0.8893082812955636\n",
      "at random state 59, the testing accuracy is-0.9251177591187607\n",
      "\n",
      "\n",
      "at random state 60, the traing accuracy is- 0.8924386252509565\n",
      "at random state 60, the testing accuracy is-0.9099045150327532\n",
      "\n",
      "\n",
      "at random state 61, the traing accuracy is- 0.8993442759744174\n",
      "at random state 61, the testing accuracy is-0.8801295028531633\n",
      "\n",
      "\n",
      "at random state 62, the traing accuracy is- 0.9119756650926772\n",
      "at random state 62, the testing accuracy is-0.8417719904234858\n",
      "\n",
      "\n",
      "at random state 63, the traing accuracy is- 0.8947112911514465\n",
      "at random state 63, the testing accuracy is-0.9039175428258768\n",
      "\n",
      "\n",
      "at random state 64, the traing accuracy is- 0.8977794992748884\n",
      "at random state 64, the testing accuracy is-0.8818211467861733\n",
      "\n",
      "\n",
      "at random state 65, the traing accuracy is- 0.8969574133232424\n",
      "at random state 65, the testing accuracy is-0.8941749859375304\n",
      "\n",
      "\n",
      "at random state 66, the traing accuracy is- 0.8985647494060172\n",
      "at random state 66, the testing accuracy is-0.8898022957140044\n",
      "\n",
      "\n",
      "at random state 67, the traing accuracy is- 0.8994366983878859\n",
      "at random state 67, the testing accuracy is-0.8820468786272049\n",
      "\n",
      "\n",
      "at random state 68, the traing accuracy is- 0.9001781108442838\n",
      "at random state 68, the testing accuracy is-0.869032140309382\n",
      "\n",
      "\n",
      "at random state 69, the traing accuracy is- 0.8870175330531668\n",
      "at random state 69, the testing accuracy is-0.923927034148313\n",
      "\n",
      "\n",
      "at random state 70, the traing accuracy is- 0.886231243596853\n",
      "at random state 70, the testing accuracy is-0.9260798727325859\n",
      "\n",
      "\n",
      "at random state 71, the traing accuracy is- 0.9163886175032457\n",
      "at random state 71, the testing accuracy is-0.8246989403826483\n",
      "\n",
      "\n"
     ]
    },
    {
     "name": "stdout",
     "output_type": "stream",
     "text": [
      "at random state 72, the traing accuracy is- 0.8937422087162026\n",
      "at random state 72, the testing accuracy is-0.9072541868212964\n",
      "\n",
      "\n",
      "at random state 73, the traing accuracy is- 0.9077573496620701\n",
      "at random state 73, the testing accuracy is-0.8412998907053818\n",
      "\n",
      "\n",
      "at random state 74, the traing accuracy is- 0.8979415340515895\n",
      "at random state 74, the testing accuracy is-0.8806020302645324\n",
      "\n",
      "\n",
      "at random state 75, the traing accuracy is- 0.8943141208860873\n",
      "at random state 75, the testing accuracy is-0.9077086876495712\n",
      "\n",
      "\n",
      "at random state 76, the traing accuracy is- 0.9092025789360757\n",
      "at random state 76, the testing accuracy is-0.753517499473075\n",
      "\n",
      "\n",
      "at random state 77, the traing accuracy is- 0.8859758983122314\n",
      "at random state 77, the testing accuracy is-0.937880163249318\n",
      "\n",
      "\n",
      "at random state 78, the traing accuracy is- 0.8957285947454089\n",
      "at random state 78, the testing accuracy is-0.9026908232907813\n",
      "\n",
      "\n",
      "at random state 79, the traing accuracy is- 0.8917194183285055\n",
      "at random state 79, the testing accuracy is-0.9047106228248688\n",
      "\n",
      "\n",
      "at random state 80, the traing accuracy is- 0.9161683973913906\n",
      "at random state 80, the testing accuracy is-0.8070473986760942\n",
      "\n",
      "\n",
      "at random state 81, the traing accuracy is- 0.9033802332142854\n",
      "at random state 81, the testing accuracy is-0.8620423894967141\n",
      "\n",
      "\n",
      "at random state 82, the traing accuracy is- 0.9154244887223795\n",
      "at random state 82, the testing accuracy is-0.8014727140935161\n",
      "\n",
      "\n",
      "at random state 83, the traing accuracy is- 0.8840310976077721\n",
      "at random state 83, the testing accuracy is-0.9373350368424965\n",
      "\n",
      "\n",
      "at random state 84, the traing accuracy is- 0.8951392078054551\n",
      "at random state 84, the testing accuracy is-0.9007597814614811\n",
      "\n",
      "\n",
      "at random state 85, the traing accuracy is- 0.9086027174680293\n",
      "at random state 85, the testing accuracy is-0.8439638394828848\n",
      "\n",
      "\n",
      "at random state 86, the traing accuracy is- 0.8941525565676501\n",
      "at random state 86, the testing accuracy is-0.9100622221201642\n",
      "\n",
      "\n",
      "at random state 87, the traing accuracy is- 0.9118983221676124\n",
      "at random state 87, the testing accuracy is-0.7626125810244504\n",
      "\n",
      "\n",
      "at random state 88, the traing accuracy is- 0.9095202869396248\n",
      "at random state 88, the testing accuracy is-0.8402068643199275\n",
      "\n",
      "\n",
      "at random state 89, the traing accuracy is- 0.900006853668257\n",
      "at random state 89, the testing accuracy is-0.876306336753169\n",
      "\n",
      "\n",
      "at random state 90, the traing accuracy is- 0.9031056838494878\n",
      "at random state 90, the testing accuracy is-0.8515399308497918\n",
      "\n",
      "\n",
      "at random state 91, the traing accuracy is- 0.8873766899072165\n",
      "at random state 91, the testing accuracy is-0.9042137225502286\n",
      "\n",
      "\n",
      "at random state 92, the traing accuracy is- 0.8791722270470884\n",
      "at random state 92, the testing accuracy is-0.9519707195109461\n",
      "\n",
      "\n",
      "at random state 93, the traing accuracy is- 0.8929605913041914\n",
      "at random state 93, the testing accuracy is-0.9117655020936758\n",
      "\n",
      "\n",
      "at random state 94, the traing accuracy is- 0.9084398174091196\n",
      "at random state 94, the testing accuracy is-0.8559316851679385\n",
      "\n",
      "\n",
      "at random state 95, the traing accuracy is- 0.8935659928494455\n",
      "at random state 95, the testing accuracy is-0.8951810793790586\n",
      "\n",
      "\n",
      "at random state 96, the traing accuracy is- 0.9035998291188063\n",
      "at random state 96, the testing accuracy is-0.8595641556662492\n",
      "\n",
      "\n",
      "at random state 97, the traing accuracy is- 0.8900751965631104\n",
      "at random state 97, the testing accuracy is-0.9118128867084085\n",
      "\n",
      "\n",
      "at random state 98, the traing accuracy is- 0.8819661469883454\n",
      "at random state 98, the testing accuracy is-0.9400331814664702\n",
      "\n",
      "\n",
      "at random state 99, the traing accuracy is- 0.8906288862925659\n",
      "at random state 99, the testing accuracy is-0.9200846680148506\n",
      "\n",
      "\n"
     ]
    }
   ],
   "source": [
    "# only for the selection the random value\n",
    "for i in range(0,100):\n",
    "    features_train,features_test,target_train,target_test=train_test_split(features,target,test_size=0.2,random_state=i)\n",
    "    lr.fit(features_train , target_train)\n",
    "    pred_train=lr.predict(features_train)\n",
    "    pred_test=lr.predict(features_test)\n",
    "    print(f\"at random state {i}, the traing accuracy is- {r2_score(target_train,pred_train)}\")\n",
    "    print(f\"at random state {i}, the testing accuracy is-{r2_score(target_test,pred_test)}\")\n",
    "    print('\\n')"
   ]
  },
  {
   "cell_type": "code",
   "execution_count": 33,
   "id": "e76f9832",
   "metadata": {},
   "outputs": [],
   "source": [
    "features_train,features_test,target_train,target_test=train_test_split(features,target,test_size=0.2,random_state=92)"
   ]
  },
  {
   "cell_type": "code",
   "execution_count": 34,
   "id": "a477e463",
   "metadata": {},
   "outputs": [
    {
     "data": {
      "text/plain": [
       "LinearRegression()"
      ]
     },
     "execution_count": 34,
     "metadata": {},
     "output_type": "execute_result"
    }
   ],
   "source": [
    "lr.fit(features_train , target_train)"
   ]
  },
  {
   "cell_type": "code",
   "execution_count": 35,
   "id": "c9bea734",
   "metadata": {},
   "outputs": [],
   "source": [
    "pred_test=lr.predict(features_test)"
   ]
  },
  {
   "cell_type": "code",
   "execution_count": 36,
   "id": "87a74f1c",
   "metadata": {},
   "outputs": [
    {
     "name": "stdout",
     "output_type": "stream",
     "text": [
      "0.9519707195109461\n"
     ]
    }
   ],
   "source": [
    "print(r2_score(target_test,pred_test))"
   ]
  },
  {
   "cell_type": "markdown",
   "id": "b4bbd6b9",
   "metadata": {},
   "source": [
    "we see that the r2_score is 95 percent so the model is very good"
   ]
  },
  {
   "cell_type": "code",
   "execution_count": 37,
   "id": "7bf24cd0",
   "metadata": {},
   "outputs": [
    {
     "data": {
      "image/png": "[encoded data removed]",
      "text/plain": [
       "<Figure size 576x432 with 1 Axes>"
      ]
     },
     "metadata": {
      "needs_background": "light"
     },
     "output_type": "display_data"
    }
   ],
   "source": [
    "import matplotlib.pyplot as plt\n",
    "plt.figure(figsize=(8,6))\n",
    "plt.scatter(x=target_test , y=pred_test, color='r')\n",
    "plt.xlabel('actual charger')\n",
    "plt.ylabel('predicted charger')\n",
    "plt.title('Linear regression ')\n",
    "plt.show()"
   ]
  },
  {
   "cell_type": "markdown",
   "id": "8e82dabd",
   "metadata": {},
   "source": [
    "we see that the actual charge and the predicted charge are same way and they get the linear regression"
   ]
  },
  {
   "cell_type": "markdown",
   "id": "4d5fe6a0",
   "metadata": {},
   "source": [
    "regularazation"
   ]
  },
  {
   "cell_type": "code",
   "execution_count": 38,
   "id": "ac4b6fe4",
   "metadata": {},
   "outputs": [],
   "source": [
    "from sklearn.model_selection import GridSearchCV\n",
    "from sklearn.model_selection import cross_val_score"
   ]
  },
  {
   "cell_type": "code",
   "execution_count": 39,
   "id": "cc744aa1",
   "metadata": {},
   "outputs": [
    {
     "name": "stdout",
     "output_type": "stream",
     "text": [
      "{'alpha': 1, 'random_state': 0}\n"
     ]
    }
   ],
   "source": [
    "from sklearn.linear_model import Lasso\n",
    "parameters={'alpha':[.0001, .001, .01,.1,1,10],'random_state':list(range(0,10))}\n",
    "ls=Lasso()\n",
    "clf=GridSearchCV(ls,parameters)\n",
    "clf.fit(features_train, target_train)\n",
    "\n",
    "print(clf.best_params_)"
   ]
  },
  {
   "cell_type": "code",
   "execution_count": 40,
   "id": "ffee98ac",
   "metadata": {},
   "outputs": [
    {
     "data": {
      "text/plain": [
       "0.9514692161714389"
      ]
     },
     "execution_count": 40,
     "metadata": {},
     "output_type": "execute_result"
    }
   ],
   "source": [
    "ls=Lasso(alpha=1,random_state=0)\n",
    "ls.fit(features_train,target_train)\n",
    "ls.score(features_train,target_train)\n",
    "pred_ls = ls.predict(features_test)\n",
    "\n",
    "lss=r2_score(target_test, pred_ls)\n",
    "lss"
   ]
  },
  {
   "cell_type": "code",
   "execution_count": 41,
   "id": "e5ea51cf",
   "metadata": {},
   "outputs": [
    {
     "data": {
      "text/plain": [
       "0.8882007416256036"
      ]
     },
     "execution_count": 41,
     "metadata": {},
     "output_type": "execute_result"
    }
   ],
   "source": [
    "cv_score=cross_val_score(ls,features,target,cv=5)\n",
    "cv_mean=cv_score.mean()\n",
    "cv_mean"
   ]
  },
  {
   "cell_type": "markdown",
   "id": "08cb6760",
   "metadata": {},
   "source": [
    "the model is excellent"
   ]
  },
  {
   "cell_type": "markdown",
   "id": "1d485401",
   "metadata": {},
   "source": [
    "ensemble technique"
   ]
  },
  {
   "cell_type": "code",
   "execution_count": 42,
   "id": "19757233",
   "metadata": {},
   "outputs": [
    {
     "name": "stdout",
     "output_type": "stream",
     "text": [
      "{'criterion': 'mae', 'max_features': 'auto'}\n"
     ]
    }
   ],
   "source": [
    "from sklearn.model_selection import GridSearchCV\n",
    "from sklearn.ensemble import RandomForestRegressor\n",
    "\n",
    "parameters={'criterion':['mse','mae'], 'max_features':['auto','sqrt','log2']}\n",
    "rf=RandomForestRegressor()\n",
    "clt=GridSearchCV(rf,parameters)\n",
    "clt.fit(features_train,target_train)\n",
    "\n",
    "print(clt.best_params_)"
   ]
  },
  {
   "cell_type": "code",
   "execution_count": 43,
   "id": "d8d0a56d",
   "metadata": {},
   "outputs": [
    {
     "name": "stdout",
     "output_type": "stream",
     "text": [
      "R2 score 98.6347748259288\n",
      "Cross Val Score 97.69068452613737\n"
     ]
    }
   ],
   "source": [
    "rf=RandomForestRegressor(criterion='mae',max_features='auto')\n",
    "rf.fit(features_train, target_train)\n",
    "rf.score(features_train, target_train)\n",
    "pred_decision=rf.predict(features_test)\n",
    "\n",
    "rfs=r2_score(target_test,pred_decision)\n",
    "print('R2 score', rfs*100)\n",
    "\n",
    "rfscore=cross_val_score(rf,features,target,cv=5)\n",
    "rfc=rfscore.mean()\n",
    "print('Cross Val Score', rfc*100)"
   ]
  },
  {
   "cell_type": "markdown",
   "id": "20587065",
   "metadata": {},
   "source": [
    "getting the model result"
   ]
  },
  {
   "cell_type": "code",
   "execution_count": 44,
   "id": "99439413",
   "metadata": {},
   "outputs": [],
   "source": [
    "import pickle\n",
    "filename='channel.pkl'\n",
    "pickle.dump(rf,open(filename, 'wb'))"
   ]
  },
  {
   "cell_type": "markdown",
   "id": "b3b648ce",
   "metadata": {},
   "source": [
    "# conclusion"
   ]
  },
  {
   "cell_type": "code",
   "execution_count": 45,
   "id": "a4934e76",
   "metadata": {},
   "outputs": [
    {
     "name": "stdout",
     "output_type": "stream",
     "text": [
      "0.986347748259288\n"
     ]
    }
   ],
   "source": [
    "loaded_model=pickle.load(open('channel.pkl','rb'))\n",
    "result=loaded_model.score(features_test, target_test)\n",
    "print(result)"
   ]
  },
  {
   "cell_type": "code",
   "execution_count": 46,
   "id": "52e70ccc",
   "metadata": {},
   "outputs": [
    {
     "data": {
      "text/html": [
       "<div>\n",
       "<style scoped>\n",
       "    .dataframe tbody tr th:only-of-type {\n",
       "        vertical-align: middle;\n",
       "    }\n",
       "\n",
       "    .dataframe tbody tr th {\n",
       "        vertical-align: top;\n",
       "    }\n",
       "\n",
       "    .dataframe thead th {\n",
       "        text-align: right;\n",
       "    }\n",
       "</style>\n",
       "<table border=\"1\" class=\"dataframe\">\n",
       "  <thead>\n",
       "    <tr style=\"text-align: right;\">\n",
       "      <th></th>\n",
       "      <th>0</th>\n",
       "      <th>1</th>\n",
       "      <th>2</th>\n",
       "      <th>3</th>\n",
       "      <th>4</th>\n",
       "      <th>5</th>\n",
       "      <th>6</th>\n",
       "      <th>7</th>\n",
       "      <th>8</th>\n",
       "      <th>9</th>\n",
       "      <th>...</th>\n",
       "      <th>30</th>\n",
       "      <th>31</th>\n",
       "      <th>32</th>\n",
       "      <th>33</th>\n",
       "      <th>34</th>\n",
       "      <th>35</th>\n",
       "      <th>36</th>\n",
       "      <th>37</th>\n",
       "      <th>38</th>\n",
       "      <th>39</th>\n",
       "    </tr>\n",
       "  </thead>\n",
       "  <tbody>\n",
       "    <tr>\n",
       "      <th>predicted</th>\n",
       "      <td>10.236</td>\n",
       "      <td>13.162</td>\n",
       "      <td>9.787</td>\n",
       "      <td>19.695</td>\n",
       "      <td>12.634</td>\n",
       "      <td>16.035</td>\n",
       "      <td>9.577</td>\n",
       "      <td>12.281</td>\n",
       "      <td>9.612</td>\n",
       "      <td>7.241</td>\n",
       "      <td>...</td>\n",
       "      <td>15.123</td>\n",
       "      <td>11.895</td>\n",
       "      <td>17.235</td>\n",
       "      <td>12.004</td>\n",
       "      <td>5.362</td>\n",
       "      <td>19.998</td>\n",
       "      <td>14.74</td>\n",
       "      <td>25.166</td>\n",
       "      <td>12.305</td>\n",
       "      <td>15.366</td>\n",
       "    </tr>\n",
       "    <tr>\n",
       "      <th>original</th>\n",
       "      <td>10.236</td>\n",
       "      <td>13.162</td>\n",
       "      <td>9.787</td>\n",
       "      <td>19.695</td>\n",
       "      <td>12.634</td>\n",
       "      <td>16.035</td>\n",
       "      <td>9.577</td>\n",
       "      <td>12.281</td>\n",
       "      <td>9.612</td>\n",
       "      <td>7.241</td>\n",
       "      <td>...</td>\n",
       "      <td>15.123</td>\n",
       "      <td>11.895</td>\n",
       "      <td>17.235</td>\n",
       "      <td>12.004</td>\n",
       "      <td>5.362</td>\n",
       "      <td>19.998</td>\n",
       "      <td>14.74</td>\n",
       "      <td>25.166</td>\n",
       "      <td>12.305</td>\n",
       "      <td>15.366</td>\n",
       "    </tr>\n",
       "  </tbody>\n",
       "</table>\n",
       "<p>2 rows × 40 columns</p>\n",
       "</div>"
      ],
      "text/plain": [
       "               0       1      2       3       4       5      6       7   \\\n",
       "predicted  10.236  13.162  9.787  19.695  12.634  16.035  9.577  12.281   \n",
       "original   10.236  13.162  9.787  19.695  12.634  16.035  9.577  12.281   \n",
       "\n",
       "              8      9   ...      30      31      32      33     34      35  \\\n",
       "predicted  9.612  7.241  ...  15.123  11.895  17.235  12.004  5.362  19.998   \n",
       "original   9.612  7.241  ...  15.123  11.895  17.235  12.004  5.362  19.998   \n",
       "\n",
       "              36      37      38      39  \n",
       "predicted  14.74  25.166  12.305  15.366  \n",
       "original   14.74  25.166  12.305  15.366  \n",
       "\n",
       "[2 rows x 40 columns]"
      ]
     },
     "execution_count": 46,
     "metadata": {},
     "output_type": "execute_result"
    }
   ],
   "source": [
    "conclusion=pd.DataFrame([loaded_model.predict(features_test)[:],pred_decision[:]],index=['predicted','original'])\n",
    "conclusion"
   ]
  },
  {
   "cell_type": "code",
   "execution_count": null,
   "id": "a5224806",
   "metadata": {},
   "outputs": [],
   "source": []
  }
 ],
 "metadata": {
  "kernelspec": {
   "display_name": "Python 3 (ipykernel)",
   "language": "python",
   "name": "python3"
  },
  "language_info": {
   "codemirror_mode": {
    "name": "ipython",
    "version": 3
   },
   "file_extension": ".py",
   "mimetype": "text/x-python",
   "name": "python",
   "nbconvert_exporter": "python",
   "pygments_lexer": "ipython3",
   "version": "3.9.7"
  }
 },
 "nbformat": 4,
 "nbformat_minor": 5
}
