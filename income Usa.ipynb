{
 "cells": [
  {
   "cell_type": "code",
   "execution_count": 1,
   "id": "9516bee8",
   "metadata": {},
   "outputs": [],
   "source": [
    "import pandas as pd\n",
    "import numpy as np\n",
    "import seaborn as sns\n",
    "import matplotlib.pyplot as plt\n",
    "import warnings\n",
    "warnings.filterwarnings('ignore')"
   ]
  },
  {
   "cell_type": "code",
   "execution_count": 2,
   "id": "1a151f0d",
   "metadata": {},
   "outputs": [],
   "source": [
    "df=pd.read_csv('us_income.csv')"
   ]
  },
  {
   "cell_type": "code",
   "execution_count": 3,
   "id": "099f23a6",
   "metadata": {},
   "outputs": [
    {
     "data": {
      "text/html": [
       "<div>\n",
       "<style scoped>\n",
       "    .dataframe tbody tr th:only-of-type {\n",
       "        vertical-align: middle;\n",
       "    }\n",
       "\n",
       "    .dataframe tbody tr th {\n",
       "        vertical-align: top;\n",
       "    }\n",
       "\n",
       "    .dataframe thead th {\n",
       "        text-align: right;\n",
       "    }\n",
       "</style>\n",
       "<table border=\"1\" class=\"dataframe\">\n",
       "  <thead>\n",
       "    <tr style=\"text-align: right;\">\n",
       "      <th></th>\n",
       "      <th>Age</th>\n",
       "      <th>Workclass</th>\n",
       "      <th>Fnlwgt</th>\n",
       "      <th>Education</th>\n",
       "      <th>Education_num</th>\n",
       "      <th>Marital_status</th>\n",
       "      <th>Occupation</th>\n",
       "      <th>Relationship</th>\n",
       "      <th>Race</th>\n",
       "      <th>Sex</th>\n",
       "      <th>Capital_gain</th>\n",
       "      <th>Capital_loss</th>\n",
       "      <th>Hours_per_week</th>\n",
       "      <th>Native_country</th>\n",
       "      <th>Income</th>\n",
       "    </tr>\n",
       "  </thead>\n",
       "  <tbody>\n",
       "    <tr>\n",
       "      <th>0</th>\n",
       "      <td>50</td>\n",
       "      <td>Self-emp-not-inc</td>\n",
       "      <td>83311</td>\n",
       "      <td>Bachelors</td>\n",
       "      <td>13</td>\n",
       "      <td>Married-civ-spouse</td>\n",
       "      <td>Exec-managerial</td>\n",
       "      <td>Husband</td>\n",
       "      <td>White</td>\n",
       "      <td>Male</td>\n",
       "      <td>0</td>\n",
       "      <td>0</td>\n",
       "      <td>13</td>\n",
       "      <td>United-States</td>\n",
       "      <td>&lt;=50K</td>\n",
       "    </tr>\n",
       "    <tr>\n",
       "      <th>1</th>\n",
       "      <td>38</td>\n",
       "      <td>Private</td>\n",
       "      <td>215646</td>\n",
       "      <td>HS-grad</td>\n",
       "      <td>9</td>\n",
       "      <td>Divorced</td>\n",
       "      <td>Handlers-cleaners</td>\n",
       "      <td>Not-in-family</td>\n",
       "      <td>White</td>\n",
       "      <td>Male</td>\n",
       "      <td>0</td>\n",
       "      <td>0</td>\n",
       "      <td>40</td>\n",
       "      <td>United-States</td>\n",
       "      <td>&lt;=50K</td>\n",
       "    </tr>\n",
       "    <tr>\n",
       "      <th>2</th>\n",
       "      <td>53</td>\n",
       "      <td>Private</td>\n",
       "      <td>234721</td>\n",
       "      <td>11th</td>\n",
       "      <td>7</td>\n",
       "      <td>Married-civ-spouse</td>\n",
       "      <td>Handlers-cleaners</td>\n",
       "      <td>Husband</td>\n",
       "      <td>Black</td>\n",
       "      <td>Male</td>\n",
       "      <td>0</td>\n",
       "      <td>0</td>\n",
       "      <td>40</td>\n",
       "      <td>United-States</td>\n",
       "      <td>&lt;=50K</td>\n",
       "    </tr>\n",
       "    <tr>\n",
       "      <th>3</th>\n",
       "      <td>28</td>\n",
       "      <td>Private</td>\n",
       "      <td>338409</td>\n",
       "      <td>Bachelors</td>\n",
       "      <td>13</td>\n",
       "      <td>Married-civ-spouse</td>\n",
       "      <td>Prof-specialty</td>\n",
       "      <td>Wife</td>\n",
       "      <td>Black</td>\n",
       "      <td>Female</td>\n",
       "      <td>0</td>\n",
       "      <td>0</td>\n",
       "      <td>40</td>\n",
       "      <td>Cuba</td>\n",
       "      <td>&lt;=50K</td>\n",
       "    </tr>\n",
       "    <tr>\n",
       "      <th>4</th>\n",
       "      <td>37</td>\n",
       "      <td>Private</td>\n",
       "      <td>284582</td>\n",
       "      <td>Masters</td>\n",
       "      <td>14</td>\n",
       "      <td>Married-civ-spouse</td>\n",
       "      <td>Exec-managerial</td>\n",
       "      <td>Wife</td>\n",
       "      <td>White</td>\n",
       "      <td>Female</td>\n",
       "      <td>0</td>\n",
       "      <td>0</td>\n",
       "      <td>40</td>\n",
       "      <td>United-States</td>\n",
       "      <td>&lt;=50K</td>\n",
       "    </tr>\n",
       "    <tr>\n",
       "      <th>...</th>\n",
       "      <td>...</td>\n",
       "      <td>...</td>\n",
       "      <td>...</td>\n",
       "      <td>...</td>\n",
       "      <td>...</td>\n",
       "      <td>...</td>\n",
       "      <td>...</td>\n",
       "      <td>...</td>\n",
       "      <td>...</td>\n",
       "      <td>...</td>\n",
       "      <td>...</td>\n",
       "      <td>...</td>\n",
       "      <td>...</td>\n",
       "      <td>...</td>\n",
       "      <td>...</td>\n",
       "    </tr>\n",
       "    <tr>\n",
       "      <th>32555</th>\n",
       "      <td>27</td>\n",
       "      <td>Private</td>\n",
       "      <td>257302</td>\n",
       "      <td>Assoc-acdm</td>\n",
       "      <td>12</td>\n",
       "      <td>Married-civ-spouse</td>\n",
       "      <td>Tech-support</td>\n",
       "      <td>Wife</td>\n",
       "      <td>White</td>\n",
       "      <td>Female</td>\n",
       "      <td>0</td>\n",
       "      <td>0</td>\n",
       "      <td>38</td>\n",
       "      <td>United-States</td>\n",
       "      <td>&lt;=50K</td>\n",
       "    </tr>\n",
       "    <tr>\n",
       "      <th>32556</th>\n",
       "      <td>40</td>\n",
       "      <td>Private</td>\n",
       "      <td>154374</td>\n",
       "      <td>HS-grad</td>\n",
       "      <td>9</td>\n",
       "      <td>Married-civ-spouse</td>\n",
       "      <td>Machine-op-inspct</td>\n",
       "      <td>Husband</td>\n",
       "      <td>White</td>\n",
       "      <td>Male</td>\n",
       "      <td>0</td>\n",
       "      <td>0</td>\n",
       "      <td>40</td>\n",
       "      <td>United-States</td>\n",
       "      <td>&gt;50K</td>\n",
       "    </tr>\n",
       "    <tr>\n",
       "      <th>32557</th>\n",
       "      <td>58</td>\n",
       "      <td>Private</td>\n",
       "      <td>151910</td>\n",
       "      <td>HS-grad</td>\n",
       "      <td>9</td>\n",
       "      <td>Widowed</td>\n",
       "      <td>Adm-clerical</td>\n",
       "      <td>Unmarried</td>\n",
       "      <td>White</td>\n",
       "      <td>Female</td>\n",
       "      <td>0</td>\n",
       "      <td>0</td>\n",
       "      <td>40</td>\n",
       "      <td>United-States</td>\n",
       "      <td>&lt;=50K</td>\n",
       "    </tr>\n",
       "    <tr>\n",
       "      <th>32558</th>\n",
       "      <td>22</td>\n",
       "      <td>Private</td>\n",
       "      <td>201490</td>\n",
       "      <td>HS-grad</td>\n",
       "      <td>9</td>\n",
       "      <td>Never-married</td>\n",
       "      <td>Adm-clerical</td>\n",
       "      <td>Own-child</td>\n",
       "      <td>White</td>\n",
       "      <td>Male</td>\n",
       "      <td>0</td>\n",
       "      <td>0</td>\n",
       "      <td>20</td>\n",
       "      <td>United-States</td>\n",
       "      <td>&lt;=50K</td>\n",
       "    </tr>\n",
       "    <tr>\n",
       "      <th>32559</th>\n",
       "      <td>52</td>\n",
       "      <td>Self-emp-inc</td>\n",
       "      <td>287927</td>\n",
       "      <td>HS-grad</td>\n",
       "      <td>9</td>\n",
       "      <td>Married-civ-spouse</td>\n",
       "      <td>Exec-managerial</td>\n",
       "      <td>Wife</td>\n",
       "      <td>White</td>\n",
       "      <td>Female</td>\n",
       "      <td>15024</td>\n",
       "      <td>0</td>\n",
       "      <td>40</td>\n",
       "      <td>United-States</td>\n",
       "      <td>&gt;50K</td>\n",
       "    </tr>\n",
       "  </tbody>\n",
       "</table>\n",
       "<p>32560 rows × 15 columns</p>\n",
       "</div>"
      ],
      "text/plain": [
       "       Age          Workclass  Fnlwgt    Education  Education_num  \\\n",
       "0       50   Self-emp-not-inc   83311    Bachelors             13   \n",
       "1       38            Private  215646      HS-grad              9   \n",
       "2       53            Private  234721         11th              7   \n",
       "3       28            Private  338409    Bachelors             13   \n",
       "4       37            Private  284582      Masters             14   \n",
       "...    ...                ...     ...          ...            ...   \n",
       "32555   27            Private  257302   Assoc-acdm             12   \n",
       "32556   40            Private  154374      HS-grad              9   \n",
       "32557   58            Private  151910      HS-grad              9   \n",
       "32558   22            Private  201490      HS-grad              9   \n",
       "32559   52       Self-emp-inc  287927      HS-grad              9   \n",
       "\n",
       "            Marital_status          Occupation    Relationship    Race  \\\n",
       "0       Married-civ-spouse     Exec-managerial         Husband   White   \n",
       "1                 Divorced   Handlers-cleaners   Not-in-family   White   \n",
       "2       Married-civ-spouse   Handlers-cleaners         Husband   Black   \n",
       "3       Married-civ-spouse      Prof-specialty            Wife   Black   \n",
       "4       Married-civ-spouse     Exec-managerial            Wife   White   \n",
       "...                    ...                 ...             ...     ...   \n",
       "32555   Married-civ-spouse        Tech-support            Wife   White   \n",
       "32556   Married-civ-spouse   Machine-op-inspct         Husband   White   \n",
       "32557              Widowed        Adm-clerical       Unmarried   White   \n",
       "32558        Never-married        Adm-clerical       Own-child   White   \n",
       "32559   Married-civ-spouse     Exec-managerial            Wife   White   \n",
       "\n",
       "           Sex  Capital_gain  Capital_loss  Hours_per_week  Native_country  \\\n",
       "0         Male             0             0              13   United-States   \n",
       "1         Male             0             0              40   United-States   \n",
       "2         Male             0             0              40   United-States   \n",
       "3       Female             0             0              40            Cuba   \n",
       "4       Female             0             0              40   United-States   \n",
       "...        ...           ...           ...             ...             ...   \n",
       "32555   Female             0             0              38   United-States   \n",
       "32556     Male             0             0              40   United-States   \n",
       "32557   Female             0             0              40   United-States   \n",
       "32558     Male             0             0              20   United-States   \n",
       "32559   Female         15024             0              40   United-States   \n",
       "\n",
       "       Income  \n",
       "0       <=50K  \n",
       "1       <=50K  \n",
       "2       <=50K  \n",
       "3       <=50K  \n",
       "4       <=50K  \n",
       "...       ...  \n",
       "32555   <=50K  \n",
       "32556    >50K  \n",
       "32557   <=50K  \n",
       "32558   <=50K  \n",
       "32559    >50K  \n",
       "\n",
       "[32560 rows x 15 columns]"
      ]
     },
     "execution_count": 3,
     "metadata": {},
     "output_type": "execute_result"
    }
   ],
   "source": [
    "df"
   ]
  },
  {
   "cell_type": "code",
   "execution_count": 4,
   "id": "34aa16b6",
   "metadata": {},
   "outputs": [
    {
     "data": {
      "text/plain": [
       "Age               0\n",
       "Workclass         0\n",
       "Fnlwgt            0\n",
       "Education         0\n",
       "Education_num     0\n",
       "Marital_status    0\n",
       "Occupation        0\n",
       "Relationship      0\n",
       "Race              0\n",
       "Sex               0\n",
       "Capital_gain      0\n",
       "Capital_loss      0\n",
       "Hours_per_week    0\n",
       "Native_country    0\n",
       "Income            0\n",
       "dtype: int64"
      ]
     },
     "execution_count": 4,
     "metadata": {},
     "output_type": "execute_result"
    }
   ],
   "source": [
    "df.isnull().sum()"
   ]
  },
  {
   "cell_type": "markdown",
   "id": "200b703a",
   "metadata": {},
   "source": [
    "we see that there are no null values are present."
   ]
  },
  {
   "cell_type": "code",
   "execution_count": 6,
   "id": "1bd568a6",
   "metadata": {},
   "outputs": [
    {
     "data": {
      "text/plain": [
       "array([' <=50K', ' >50K'], dtype=object)"
      ]
     },
     "execution_count": 6,
     "metadata": {},
     "output_type": "execute_result"
    }
   ],
   "source": [
    "df['Income'].unique()"
   ]
  },
  {
   "cell_type": "markdown",
   "id": "6ef3cec3",
   "metadata": {},
   "source": [
    "wee see that our target variable income is only two condotion so we get decision that this is classification method."
   ]
  },
  {
   "cell_type": "code",
   "execution_count": 7,
   "id": "a05b47aa",
   "metadata": {},
   "outputs": [
    {
     "data": {
      "text/plain": [
       "Index(['Age', 'Workclass', 'Fnlwgt', 'Education', 'Education_num',\n",
       "       'Marital_status', 'Occupation', 'Relationship', 'Race', 'Sex',\n",
       "       'Capital_gain', 'Capital_loss', 'Hours_per_week', 'Native_country',\n",
       "       'Income'],\n",
       "      dtype='object')"
      ]
     },
     "execution_count": 7,
     "metadata": {},
     "output_type": "execute_result"
    }
   ],
   "source": [
    "df.columns"
   ]
  },
  {
   "cell_type": "code",
   "execution_count": 8,
   "id": "86fa0dda",
   "metadata": {},
   "outputs": [
    {
     "name": "stdout",
     "output_type": "stream",
     "text": [
      "<class 'pandas.core.frame.DataFrame'>\n",
      "RangeIndex: 32560 entries, 0 to 32559\n",
      "Data columns (total 15 columns):\n",
      " #   Column          Non-Null Count  Dtype \n",
      "---  ------          --------------  ----- \n",
      " 0   Age             32560 non-null  int64 \n",
      " 1   Workclass       32560 non-null  object\n",
      " 2   Fnlwgt          32560 non-null  int64 \n",
      " 3   Education       32560 non-null  object\n",
      " 4   Education_num   32560 non-null  int64 \n",
      " 5   Marital_status  32560 non-null  object\n",
      " 6   Occupation      32560 non-null  object\n",
      " 7   Relationship    32560 non-null  object\n",
      " 8   Race            32560 non-null  object\n",
      " 9   Sex             32560 non-null  object\n",
      " 10  Capital_gain    32560 non-null  int64 \n",
      " 11  Capital_loss    32560 non-null  int64 \n",
      " 12  Hours_per_week  32560 non-null  int64 \n",
      " 13  Native_country  32560 non-null  object\n",
      " 14  Income          32560 non-null  object\n",
      "dtypes: int64(6), object(9)\n",
      "memory usage: 3.7+ MB\n"
     ]
    }
   ],
   "source": [
    "df.info()"
   ]
  },
  {
   "cell_type": "markdown",
   "id": "d453a698",
   "metadata": {},
   "source": [
    "we see that there are some object so we convet to the int."
   ]
  },
  {
   "cell_type": "code",
   "execution_count": 9,
   "id": "05fcacf0",
   "metadata": {},
   "outputs": [],
   "source": [
    "from sklearn.preprocessing import LabelEncoder"
   ]
  },
  {
   "cell_type": "code",
   "execution_count": 10,
   "id": "fc4ce185",
   "metadata": {},
   "outputs": [],
   "source": [
    "df1=df.select_dtypes(object)"
   ]
  },
  {
   "cell_type": "code",
   "execution_count": 11,
   "id": "13d8aef3",
   "metadata": {},
   "outputs": [
    {
     "data": {
      "text/html": [
       "<div>\n",
       "<style scoped>\n",
       "    .dataframe tbody tr th:only-of-type {\n",
       "        vertical-align: middle;\n",
       "    }\n",
       "\n",
       "    .dataframe tbody tr th {\n",
       "        vertical-align: top;\n",
       "    }\n",
       "\n",
       "    .dataframe thead th {\n",
       "        text-align: right;\n",
       "    }\n",
       "</style>\n",
       "<table border=\"1\" class=\"dataframe\">\n",
       "  <thead>\n",
       "    <tr style=\"text-align: right;\">\n",
       "      <th></th>\n",
       "      <th>Workclass</th>\n",
       "      <th>Education</th>\n",
       "      <th>Marital_status</th>\n",
       "      <th>Occupation</th>\n",
       "      <th>Relationship</th>\n",
       "      <th>Race</th>\n",
       "      <th>Sex</th>\n",
       "      <th>Native_country</th>\n",
       "      <th>Income</th>\n",
       "    </tr>\n",
       "  </thead>\n",
       "  <tbody>\n",
       "    <tr>\n",
       "      <th>0</th>\n",
       "      <td>Self-emp-not-inc</td>\n",
       "      <td>Bachelors</td>\n",
       "      <td>Married-civ-spouse</td>\n",
       "      <td>Exec-managerial</td>\n",
       "      <td>Husband</td>\n",
       "      <td>White</td>\n",
       "      <td>Male</td>\n",
       "      <td>United-States</td>\n",
       "      <td>&lt;=50K</td>\n",
       "    </tr>\n",
       "    <tr>\n",
       "      <th>1</th>\n",
       "      <td>Private</td>\n",
       "      <td>HS-grad</td>\n",
       "      <td>Divorced</td>\n",
       "      <td>Handlers-cleaners</td>\n",
       "      <td>Not-in-family</td>\n",
       "      <td>White</td>\n",
       "      <td>Male</td>\n",
       "      <td>United-States</td>\n",
       "      <td>&lt;=50K</td>\n",
       "    </tr>\n",
       "    <tr>\n",
       "      <th>2</th>\n",
       "      <td>Private</td>\n",
       "      <td>11th</td>\n",
       "      <td>Married-civ-spouse</td>\n",
       "      <td>Handlers-cleaners</td>\n",
       "      <td>Husband</td>\n",
       "      <td>Black</td>\n",
       "      <td>Male</td>\n",
       "      <td>United-States</td>\n",
       "      <td>&lt;=50K</td>\n",
       "    </tr>\n",
       "    <tr>\n",
       "      <th>3</th>\n",
       "      <td>Private</td>\n",
       "      <td>Bachelors</td>\n",
       "      <td>Married-civ-spouse</td>\n",
       "      <td>Prof-specialty</td>\n",
       "      <td>Wife</td>\n",
       "      <td>Black</td>\n",
       "      <td>Female</td>\n",
       "      <td>Cuba</td>\n",
       "      <td>&lt;=50K</td>\n",
       "    </tr>\n",
       "    <tr>\n",
       "      <th>4</th>\n",
       "      <td>Private</td>\n",
       "      <td>Masters</td>\n",
       "      <td>Married-civ-spouse</td>\n",
       "      <td>Exec-managerial</td>\n",
       "      <td>Wife</td>\n",
       "      <td>White</td>\n",
       "      <td>Female</td>\n",
       "      <td>United-States</td>\n",
       "      <td>&lt;=50K</td>\n",
       "    </tr>\n",
       "    <tr>\n",
       "      <th>...</th>\n",
       "      <td>...</td>\n",
       "      <td>...</td>\n",
       "      <td>...</td>\n",
       "      <td>...</td>\n",
       "      <td>...</td>\n",
       "      <td>...</td>\n",
       "      <td>...</td>\n",
       "      <td>...</td>\n",
       "      <td>...</td>\n",
       "    </tr>\n",
       "    <tr>\n",
       "      <th>32555</th>\n",
       "      <td>Private</td>\n",
       "      <td>Assoc-acdm</td>\n",
       "      <td>Married-civ-spouse</td>\n",
       "      <td>Tech-support</td>\n",
       "      <td>Wife</td>\n",
       "      <td>White</td>\n",
       "      <td>Female</td>\n",
       "      <td>United-States</td>\n",
       "      <td>&lt;=50K</td>\n",
       "    </tr>\n",
       "    <tr>\n",
       "      <th>32556</th>\n",
       "      <td>Private</td>\n",
       "      <td>HS-grad</td>\n",
       "      <td>Married-civ-spouse</td>\n",
       "      <td>Machine-op-inspct</td>\n",
       "      <td>Husband</td>\n",
       "      <td>White</td>\n",
       "      <td>Male</td>\n",
       "      <td>United-States</td>\n",
       "      <td>&gt;50K</td>\n",
       "    </tr>\n",
       "    <tr>\n",
       "      <th>32557</th>\n",
       "      <td>Private</td>\n",
       "      <td>HS-grad</td>\n",
       "      <td>Widowed</td>\n",
       "      <td>Adm-clerical</td>\n",
       "      <td>Unmarried</td>\n",
       "      <td>White</td>\n",
       "      <td>Female</td>\n",
       "      <td>United-States</td>\n",
       "      <td>&lt;=50K</td>\n",
       "    </tr>\n",
       "    <tr>\n",
       "      <th>32558</th>\n",
       "      <td>Private</td>\n",
       "      <td>HS-grad</td>\n",
       "      <td>Never-married</td>\n",
       "      <td>Adm-clerical</td>\n",
       "      <td>Own-child</td>\n",
       "      <td>White</td>\n",
       "      <td>Male</td>\n",
       "      <td>United-States</td>\n",
       "      <td>&lt;=50K</td>\n",
       "    </tr>\n",
       "    <tr>\n",
       "      <th>32559</th>\n",
       "      <td>Self-emp-inc</td>\n",
       "      <td>HS-grad</td>\n",
       "      <td>Married-civ-spouse</td>\n",
       "      <td>Exec-managerial</td>\n",
       "      <td>Wife</td>\n",
       "      <td>White</td>\n",
       "      <td>Female</td>\n",
       "      <td>United-States</td>\n",
       "      <td>&gt;50K</td>\n",
       "    </tr>\n",
       "  </tbody>\n",
       "</table>\n",
       "<p>32560 rows × 9 columns</p>\n",
       "</div>"
      ],
      "text/plain": [
       "               Workclass    Education       Marital_status  \\\n",
       "0       Self-emp-not-inc    Bachelors   Married-civ-spouse   \n",
       "1                Private      HS-grad             Divorced   \n",
       "2                Private         11th   Married-civ-spouse   \n",
       "3                Private    Bachelors   Married-civ-spouse   \n",
       "4                Private      Masters   Married-civ-spouse   \n",
       "...                  ...          ...                  ...   \n",
       "32555            Private   Assoc-acdm   Married-civ-spouse   \n",
       "32556            Private      HS-grad   Married-civ-spouse   \n",
       "32557            Private      HS-grad              Widowed   \n",
       "32558            Private      HS-grad        Never-married   \n",
       "32559       Self-emp-inc      HS-grad   Married-civ-spouse   \n",
       "\n",
       "               Occupation    Relationship    Race      Sex  Native_country  \\\n",
       "0         Exec-managerial         Husband   White     Male   United-States   \n",
       "1       Handlers-cleaners   Not-in-family   White     Male   United-States   \n",
       "2       Handlers-cleaners         Husband   Black     Male   United-States   \n",
       "3          Prof-specialty            Wife   Black   Female            Cuba   \n",
       "4         Exec-managerial            Wife   White   Female   United-States   \n",
       "...                   ...             ...     ...      ...             ...   \n",
       "32555        Tech-support            Wife   White   Female   United-States   \n",
       "32556   Machine-op-inspct         Husband   White     Male   United-States   \n",
       "32557        Adm-clerical       Unmarried   White   Female   United-States   \n",
       "32558        Adm-clerical       Own-child   White     Male   United-States   \n",
       "32559     Exec-managerial            Wife   White   Female   United-States   \n",
       "\n",
       "       Income  \n",
       "0       <=50K  \n",
       "1       <=50K  \n",
       "2       <=50K  \n",
       "3       <=50K  \n",
       "4       <=50K  \n",
       "...       ...  \n",
       "32555   <=50K  \n",
       "32556    >50K  \n",
       "32557   <=50K  \n",
       "32558   <=50K  \n",
       "32559    >50K  \n",
       "\n",
       "[32560 rows x 9 columns]"
      ]
     },
     "execution_count": 11,
     "metadata": {},
     "output_type": "execute_result"
    }
   ],
   "source": [
    "df1"
   ]
  },
  {
   "cell_type": "code",
   "execution_count": 12,
   "id": "826d1670",
   "metadata": {},
   "outputs": [],
   "source": [
    "for i in df1:\n",
    "    le=LabelEncoder()\n",
    "    df1[i]=le.fit_transform(df1[i])"
   ]
  },
  {
   "cell_type": "code",
   "execution_count": 13,
   "id": "271b5c0b",
   "metadata": {},
   "outputs": [
    {
     "data": {
      "text/html": [
       "<div>\n",
       "<style scoped>\n",
       "    .dataframe tbody tr th:only-of-type {\n",
       "        vertical-align: middle;\n",
       "    }\n",
       "\n",
       "    .dataframe tbody tr th {\n",
       "        vertical-align: top;\n",
       "    }\n",
       "\n",
       "    .dataframe thead th {\n",
       "        text-align: right;\n",
       "    }\n",
       "</style>\n",
       "<table border=\"1\" class=\"dataframe\">\n",
       "  <thead>\n",
       "    <tr style=\"text-align: right;\">\n",
       "      <th></th>\n",
       "      <th>Workclass</th>\n",
       "      <th>Education</th>\n",
       "      <th>Marital_status</th>\n",
       "      <th>Occupation</th>\n",
       "      <th>Relationship</th>\n",
       "      <th>Race</th>\n",
       "      <th>Sex</th>\n",
       "      <th>Native_country</th>\n",
       "      <th>Income</th>\n",
       "    </tr>\n",
       "  </thead>\n",
       "  <tbody>\n",
       "    <tr>\n",
       "      <th>0</th>\n",
       "      <td>6</td>\n",
       "      <td>9</td>\n",
       "      <td>2</td>\n",
       "      <td>4</td>\n",
       "      <td>0</td>\n",
       "      <td>4</td>\n",
       "      <td>1</td>\n",
       "      <td>39</td>\n",
       "      <td>0</td>\n",
       "    </tr>\n",
       "    <tr>\n",
       "      <th>1</th>\n",
       "      <td>4</td>\n",
       "      <td>11</td>\n",
       "      <td>0</td>\n",
       "      <td>6</td>\n",
       "      <td>1</td>\n",
       "      <td>4</td>\n",
       "      <td>1</td>\n",
       "      <td>39</td>\n",
       "      <td>0</td>\n",
       "    </tr>\n",
       "    <tr>\n",
       "      <th>2</th>\n",
       "      <td>4</td>\n",
       "      <td>1</td>\n",
       "      <td>2</td>\n",
       "      <td>6</td>\n",
       "      <td>0</td>\n",
       "      <td>2</td>\n",
       "      <td>1</td>\n",
       "      <td>39</td>\n",
       "      <td>0</td>\n",
       "    </tr>\n",
       "    <tr>\n",
       "      <th>3</th>\n",
       "      <td>4</td>\n",
       "      <td>9</td>\n",
       "      <td>2</td>\n",
       "      <td>10</td>\n",
       "      <td>5</td>\n",
       "      <td>2</td>\n",
       "      <td>0</td>\n",
       "      <td>5</td>\n",
       "      <td>0</td>\n",
       "    </tr>\n",
       "    <tr>\n",
       "      <th>4</th>\n",
       "      <td>4</td>\n",
       "      <td>12</td>\n",
       "      <td>2</td>\n",
       "      <td>4</td>\n",
       "      <td>5</td>\n",
       "      <td>4</td>\n",
       "      <td>0</td>\n",
       "      <td>39</td>\n",
       "      <td>0</td>\n",
       "    </tr>\n",
       "    <tr>\n",
       "      <th>...</th>\n",
       "      <td>...</td>\n",
       "      <td>...</td>\n",
       "      <td>...</td>\n",
       "      <td>...</td>\n",
       "      <td>...</td>\n",
       "      <td>...</td>\n",
       "      <td>...</td>\n",
       "      <td>...</td>\n",
       "      <td>...</td>\n",
       "    </tr>\n",
       "    <tr>\n",
       "      <th>32555</th>\n",
       "      <td>4</td>\n",
       "      <td>7</td>\n",
       "      <td>2</td>\n",
       "      <td>13</td>\n",
       "      <td>5</td>\n",
       "      <td>4</td>\n",
       "      <td>0</td>\n",
       "      <td>39</td>\n",
       "      <td>0</td>\n",
       "    </tr>\n",
       "    <tr>\n",
       "      <th>32556</th>\n",
       "      <td>4</td>\n",
       "      <td>11</td>\n",
       "      <td>2</td>\n",
       "      <td>7</td>\n",
       "      <td>0</td>\n",
       "      <td>4</td>\n",
       "      <td>1</td>\n",
       "      <td>39</td>\n",
       "      <td>1</td>\n",
       "    </tr>\n",
       "    <tr>\n",
       "      <th>32557</th>\n",
       "      <td>4</td>\n",
       "      <td>11</td>\n",
       "      <td>6</td>\n",
       "      <td>1</td>\n",
       "      <td>4</td>\n",
       "      <td>4</td>\n",
       "      <td>0</td>\n",
       "      <td>39</td>\n",
       "      <td>0</td>\n",
       "    </tr>\n",
       "    <tr>\n",
       "      <th>32558</th>\n",
       "      <td>4</td>\n",
       "      <td>11</td>\n",
       "      <td>4</td>\n",
       "      <td>1</td>\n",
       "      <td>3</td>\n",
       "      <td>4</td>\n",
       "      <td>1</td>\n",
       "      <td>39</td>\n",
       "      <td>0</td>\n",
       "    </tr>\n",
       "    <tr>\n",
       "      <th>32559</th>\n",
       "      <td>5</td>\n",
       "      <td>11</td>\n",
       "      <td>2</td>\n",
       "      <td>4</td>\n",
       "      <td>5</td>\n",
       "      <td>4</td>\n",
       "      <td>0</td>\n",
       "      <td>39</td>\n",
       "      <td>1</td>\n",
       "    </tr>\n",
       "  </tbody>\n",
       "</table>\n",
       "<p>32560 rows × 9 columns</p>\n",
       "</div>"
      ],
      "text/plain": [
       "       Workclass  Education  Marital_status  Occupation  Relationship  Race  \\\n",
       "0              6          9               2           4             0     4   \n",
       "1              4         11               0           6             1     4   \n",
       "2              4          1               2           6             0     2   \n",
       "3              4          9               2          10             5     2   \n",
       "4              4         12               2           4             5     4   \n",
       "...          ...        ...             ...         ...           ...   ...   \n",
       "32555          4          7               2          13             5     4   \n",
       "32556          4         11               2           7             0     4   \n",
       "32557          4         11               6           1             4     4   \n",
       "32558          4         11               4           1             3     4   \n",
       "32559          5         11               2           4             5     4   \n",
       "\n",
       "       Sex  Native_country  Income  \n",
       "0        1              39       0  \n",
       "1        1              39       0  \n",
       "2        1              39       0  \n",
       "3        0               5       0  \n",
       "4        0              39       0  \n",
       "...    ...             ...     ...  \n",
       "32555    0              39       0  \n",
       "32556    1              39       1  \n",
       "32557    0              39       0  \n",
       "32558    1              39       0  \n",
       "32559    0              39       1  \n",
       "\n",
       "[32560 rows x 9 columns]"
      ]
     },
     "execution_count": 13,
     "metadata": {},
     "output_type": "execute_result"
    }
   ],
   "source": [
    "df1"
   ]
  },
  {
   "cell_type": "code",
   "execution_count": 16,
   "id": "be58b19a",
   "metadata": {},
   "outputs": [],
   "source": [
    "df2=df.select_dtypes(int)"
   ]
  },
  {
   "cell_type": "code",
   "execution_count": 17,
   "id": "ac8473db",
   "metadata": {},
   "outputs": [
    {
     "data": {
      "text/html": [
       "<div>\n",
       "<style scoped>\n",
       "    .dataframe tbody tr th:only-of-type {\n",
       "        vertical-align: middle;\n",
       "    }\n",
       "\n",
       "    .dataframe tbody tr th {\n",
       "        vertical-align: top;\n",
       "    }\n",
       "\n",
       "    .dataframe thead th {\n",
       "        text-align: right;\n",
       "    }\n",
       "</style>\n",
       "<table border=\"1\" class=\"dataframe\">\n",
       "  <thead>\n",
       "    <tr style=\"text-align: right;\">\n",
       "      <th></th>\n",
       "      <th>Age</th>\n",
       "      <th>Fnlwgt</th>\n",
       "      <th>Education_num</th>\n",
       "      <th>Capital_gain</th>\n",
       "      <th>Capital_loss</th>\n",
       "      <th>Hours_per_week</th>\n",
       "    </tr>\n",
       "  </thead>\n",
       "  <tbody>\n",
       "    <tr>\n",
       "      <th>0</th>\n",
       "      <td>50</td>\n",
       "      <td>83311</td>\n",
       "      <td>13</td>\n",
       "      <td>0</td>\n",
       "      <td>0</td>\n",
       "      <td>13</td>\n",
       "    </tr>\n",
       "    <tr>\n",
       "      <th>1</th>\n",
       "      <td>38</td>\n",
       "      <td>215646</td>\n",
       "      <td>9</td>\n",
       "      <td>0</td>\n",
       "      <td>0</td>\n",
       "      <td>40</td>\n",
       "    </tr>\n",
       "    <tr>\n",
       "      <th>2</th>\n",
       "      <td>53</td>\n",
       "      <td>234721</td>\n",
       "      <td>7</td>\n",
       "      <td>0</td>\n",
       "      <td>0</td>\n",
       "      <td>40</td>\n",
       "    </tr>\n",
       "    <tr>\n",
       "      <th>3</th>\n",
       "      <td>28</td>\n",
       "      <td>338409</td>\n",
       "      <td>13</td>\n",
       "      <td>0</td>\n",
       "      <td>0</td>\n",
       "      <td>40</td>\n",
       "    </tr>\n",
       "    <tr>\n",
       "      <th>4</th>\n",
       "      <td>37</td>\n",
       "      <td>284582</td>\n",
       "      <td>14</td>\n",
       "      <td>0</td>\n",
       "      <td>0</td>\n",
       "      <td>40</td>\n",
       "    </tr>\n",
       "    <tr>\n",
       "      <th>...</th>\n",
       "      <td>...</td>\n",
       "      <td>...</td>\n",
       "      <td>...</td>\n",
       "      <td>...</td>\n",
       "      <td>...</td>\n",
       "      <td>...</td>\n",
       "    </tr>\n",
       "    <tr>\n",
       "      <th>32555</th>\n",
       "      <td>27</td>\n",
       "      <td>257302</td>\n",
       "      <td>12</td>\n",
       "      <td>0</td>\n",
       "      <td>0</td>\n",
       "      <td>38</td>\n",
       "    </tr>\n",
       "    <tr>\n",
       "      <th>32556</th>\n",
       "      <td>40</td>\n",
       "      <td>154374</td>\n",
       "      <td>9</td>\n",
       "      <td>0</td>\n",
       "      <td>0</td>\n",
       "      <td>40</td>\n",
       "    </tr>\n",
       "    <tr>\n",
       "      <th>32557</th>\n",
       "      <td>58</td>\n",
       "      <td>151910</td>\n",
       "      <td>9</td>\n",
       "      <td>0</td>\n",
       "      <td>0</td>\n",
       "      <td>40</td>\n",
       "    </tr>\n",
       "    <tr>\n",
       "      <th>32558</th>\n",
       "      <td>22</td>\n",
       "      <td>201490</td>\n",
       "      <td>9</td>\n",
       "      <td>0</td>\n",
       "      <td>0</td>\n",
       "      <td>20</td>\n",
       "    </tr>\n",
       "    <tr>\n",
       "      <th>32559</th>\n",
       "      <td>52</td>\n",
       "      <td>287927</td>\n",
       "      <td>9</td>\n",
       "      <td>15024</td>\n",
       "      <td>0</td>\n",
       "      <td>40</td>\n",
       "    </tr>\n",
       "  </tbody>\n",
       "</table>\n",
       "<p>32560 rows × 6 columns</p>\n",
       "</div>"
      ],
      "text/plain": [
       "       Age  Fnlwgt  Education_num  Capital_gain  Capital_loss  Hours_per_week\n",
       "0       50   83311             13             0             0              13\n",
       "1       38  215646              9             0             0              40\n",
       "2       53  234721              7             0             0              40\n",
       "3       28  338409             13             0             0              40\n",
       "4       37  284582             14             0             0              40\n",
       "...    ...     ...            ...           ...           ...             ...\n",
       "32555   27  257302             12             0             0              38\n",
       "32556   40  154374              9             0             0              40\n",
       "32557   58  151910              9             0             0              40\n",
       "32558   22  201490              9             0             0              20\n",
       "32559   52  287927              9         15024             0              40\n",
       "\n",
       "[32560 rows x 6 columns]"
      ]
     },
     "execution_count": 17,
     "metadata": {},
     "output_type": "execute_result"
    }
   ],
   "source": [
    "df2"
   ]
  },
  {
   "cell_type": "code",
   "execution_count": 18,
   "id": "fe02d58c",
   "metadata": {},
   "outputs": [],
   "source": [
    "df=pd.concat([df1 , df2], axis=1)"
   ]
  },
  {
   "cell_type": "code",
   "execution_count": 19,
   "id": "40b022a4",
   "metadata": {},
   "outputs": [
    {
     "data": {
      "text/html": [
       "<div>\n",
       "<style scoped>\n",
       "    .dataframe tbody tr th:only-of-type {\n",
       "        vertical-align: middle;\n",
       "    }\n",
       "\n",
       "    .dataframe tbody tr th {\n",
       "        vertical-align: top;\n",
       "    }\n",
       "\n",
       "    .dataframe thead th {\n",
       "        text-align: right;\n",
       "    }\n",
       "</style>\n",
       "<table border=\"1\" class=\"dataframe\">\n",
       "  <thead>\n",
       "    <tr style=\"text-align: right;\">\n",
       "      <th></th>\n",
       "      <th>Workclass</th>\n",
       "      <th>Education</th>\n",
       "      <th>Marital_status</th>\n",
       "      <th>Occupation</th>\n",
       "      <th>Relationship</th>\n",
       "      <th>Race</th>\n",
       "      <th>Sex</th>\n",
       "      <th>Native_country</th>\n",
       "      <th>Income</th>\n",
       "      <th>Age</th>\n",
       "      <th>Fnlwgt</th>\n",
       "      <th>Education_num</th>\n",
       "      <th>Capital_gain</th>\n",
       "      <th>Capital_loss</th>\n",
       "      <th>Hours_per_week</th>\n",
       "    </tr>\n",
       "  </thead>\n",
       "  <tbody>\n",
       "    <tr>\n",
       "      <th>0</th>\n",
       "      <td>6</td>\n",
       "      <td>9</td>\n",
       "      <td>2</td>\n",
       "      <td>4</td>\n",
       "      <td>0</td>\n",
       "      <td>4</td>\n",
       "      <td>1</td>\n",
       "      <td>39</td>\n",
       "      <td>0</td>\n",
       "      <td>50</td>\n",
       "      <td>83311</td>\n",
       "      <td>13</td>\n",
       "      <td>0</td>\n",
       "      <td>0</td>\n",
       "      <td>13</td>\n",
       "    </tr>\n",
       "    <tr>\n",
       "      <th>1</th>\n",
       "      <td>4</td>\n",
       "      <td>11</td>\n",
       "      <td>0</td>\n",
       "      <td>6</td>\n",
       "      <td>1</td>\n",
       "      <td>4</td>\n",
       "      <td>1</td>\n",
       "      <td>39</td>\n",
       "      <td>0</td>\n",
       "      <td>38</td>\n",
       "      <td>215646</td>\n",
       "      <td>9</td>\n",
       "      <td>0</td>\n",
       "      <td>0</td>\n",
       "      <td>40</td>\n",
       "    </tr>\n",
       "    <tr>\n",
       "      <th>2</th>\n",
       "      <td>4</td>\n",
       "      <td>1</td>\n",
       "      <td>2</td>\n",
       "      <td>6</td>\n",
       "      <td>0</td>\n",
       "      <td>2</td>\n",
       "      <td>1</td>\n",
       "      <td>39</td>\n",
       "      <td>0</td>\n",
       "      <td>53</td>\n",
       "      <td>234721</td>\n",
       "      <td>7</td>\n",
       "      <td>0</td>\n",
       "      <td>0</td>\n",
       "      <td>40</td>\n",
       "    </tr>\n",
       "    <tr>\n",
       "      <th>3</th>\n",
       "      <td>4</td>\n",
       "      <td>9</td>\n",
       "      <td>2</td>\n",
       "      <td>10</td>\n",
       "      <td>5</td>\n",
       "      <td>2</td>\n",
       "      <td>0</td>\n",
       "      <td>5</td>\n",
       "      <td>0</td>\n",
       "      <td>28</td>\n",
       "      <td>338409</td>\n",
       "      <td>13</td>\n",
       "      <td>0</td>\n",
       "      <td>0</td>\n",
       "      <td>40</td>\n",
       "    </tr>\n",
       "    <tr>\n",
       "      <th>4</th>\n",
       "      <td>4</td>\n",
       "      <td>12</td>\n",
       "      <td>2</td>\n",
       "      <td>4</td>\n",
       "      <td>5</td>\n",
       "      <td>4</td>\n",
       "      <td>0</td>\n",
       "      <td>39</td>\n",
       "      <td>0</td>\n",
       "      <td>37</td>\n",
       "      <td>284582</td>\n",
       "      <td>14</td>\n",
       "      <td>0</td>\n",
       "      <td>0</td>\n",
       "      <td>40</td>\n",
       "    </tr>\n",
       "    <tr>\n",
       "      <th>...</th>\n",
       "      <td>...</td>\n",
       "      <td>...</td>\n",
       "      <td>...</td>\n",
       "      <td>...</td>\n",
       "      <td>...</td>\n",
       "      <td>...</td>\n",
       "      <td>...</td>\n",
       "      <td>...</td>\n",
       "      <td>...</td>\n",
       "      <td>...</td>\n",
       "      <td>...</td>\n",
       "      <td>...</td>\n",
       "      <td>...</td>\n",
       "      <td>...</td>\n",
       "      <td>...</td>\n",
       "    </tr>\n",
       "    <tr>\n",
       "      <th>32555</th>\n",
       "      <td>4</td>\n",
       "      <td>7</td>\n",
       "      <td>2</td>\n",
       "      <td>13</td>\n",
       "      <td>5</td>\n",
       "      <td>4</td>\n",
       "      <td>0</td>\n",
       "      <td>39</td>\n",
       "      <td>0</td>\n",
       "      <td>27</td>\n",
       "      <td>257302</td>\n",
       "      <td>12</td>\n",
       "      <td>0</td>\n",
       "      <td>0</td>\n",
       "      <td>38</td>\n",
       "    </tr>\n",
       "    <tr>\n",
       "      <th>32556</th>\n",
       "      <td>4</td>\n",
       "      <td>11</td>\n",
       "      <td>2</td>\n",
       "      <td>7</td>\n",
       "      <td>0</td>\n",
       "      <td>4</td>\n",
       "      <td>1</td>\n",
       "      <td>39</td>\n",
       "      <td>1</td>\n",
       "      <td>40</td>\n",
       "      <td>154374</td>\n",
       "      <td>9</td>\n",
       "      <td>0</td>\n",
       "      <td>0</td>\n",
       "      <td>40</td>\n",
       "    </tr>\n",
       "    <tr>\n",
       "      <th>32557</th>\n",
       "      <td>4</td>\n",
       "      <td>11</td>\n",
       "      <td>6</td>\n",
       "      <td>1</td>\n",
       "      <td>4</td>\n",
       "      <td>4</td>\n",
       "      <td>0</td>\n",
       "      <td>39</td>\n",
       "      <td>0</td>\n",
       "      <td>58</td>\n",
       "      <td>151910</td>\n",
       "      <td>9</td>\n",
       "      <td>0</td>\n",
       "      <td>0</td>\n",
       "      <td>40</td>\n",
       "    </tr>\n",
       "    <tr>\n",
       "      <th>32558</th>\n",
       "      <td>4</td>\n",
       "      <td>11</td>\n",
       "      <td>4</td>\n",
       "      <td>1</td>\n",
       "      <td>3</td>\n",
       "      <td>4</td>\n",
       "      <td>1</td>\n",
       "      <td>39</td>\n",
       "      <td>0</td>\n",
       "      <td>22</td>\n",
       "      <td>201490</td>\n",
       "      <td>9</td>\n",
       "      <td>0</td>\n",
       "      <td>0</td>\n",
       "      <td>20</td>\n",
       "    </tr>\n",
       "    <tr>\n",
       "      <th>32559</th>\n",
       "      <td>5</td>\n",
       "      <td>11</td>\n",
       "      <td>2</td>\n",
       "      <td>4</td>\n",
       "      <td>5</td>\n",
       "      <td>4</td>\n",
       "      <td>0</td>\n",
       "      <td>39</td>\n",
       "      <td>1</td>\n",
       "      <td>52</td>\n",
       "      <td>287927</td>\n",
       "      <td>9</td>\n",
       "      <td>15024</td>\n",
       "      <td>0</td>\n",
       "      <td>40</td>\n",
       "    </tr>\n",
       "  </tbody>\n",
       "</table>\n",
       "<p>32560 rows × 15 columns</p>\n",
       "</div>"
      ],
      "text/plain": [
       "       Workclass  Education  Marital_status  Occupation  Relationship  Race  \\\n",
       "0              6          9               2           4             0     4   \n",
       "1              4         11               0           6             1     4   \n",
       "2              4          1               2           6             0     2   \n",
       "3              4          9               2          10             5     2   \n",
       "4              4         12               2           4             5     4   \n",
       "...          ...        ...             ...         ...           ...   ...   \n",
       "32555          4          7               2          13             5     4   \n",
       "32556          4         11               2           7             0     4   \n",
       "32557          4         11               6           1             4     4   \n",
       "32558          4         11               4           1             3     4   \n",
       "32559          5         11               2           4             5     4   \n",
       "\n",
       "       Sex  Native_country  Income  Age  Fnlwgt  Education_num  Capital_gain  \\\n",
       "0        1              39       0   50   83311             13             0   \n",
       "1        1              39       0   38  215646              9             0   \n",
       "2        1              39       0   53  234721              7             0   \n",
       "3        0               5       0   28  338409             13             0   \n",
       "4        0              39       0   37  284582             14             0   \n",
       "...    ...             ...     ...  ...     ...            ...           ...   \n",
       "32555    0              39       0   27  257302             12             0   \n",
       "32556    1              39       1   40  154374              9             0   \n",
       "32557    0              39       0   58  151910              9             0   \n",
       "32558    1              39       0   22  201490              9             0   \n",
       "32559    0              39       1   52  287927              9         15024   \n",
       "\n",
       "       Capital_loss  Hours_per_week  \n",
       "0                 0              13  \n",
       "1                 0              40  \n",
       "2                 0              40  \n",
       "3                 0              40  \n",
       "4                 0              40  \n",
       "...             ...             ...  \n",
       "32555             0              38  \n",
       "32556             0              40  \n",
       "32557             0              40  \n",
       "32558             0              20  \n",
       "32559             0              40  \n",
       "\n",
       "[32560 rows x 15 columns]"
      ]
     },
     "execution_count": 19,
     "metadata": {},
     "output_type": "execute_result"
    }
   ],
   "source": [
    "df"
   ]
  },
  {
   "cell_type": "code",
   "execution_count": 20,
   "id": "78dc0b6d",
   "metadata": {},
   "outputs": [
    {
     "name": "stdout",
     "output_type": "stream",
     "text": [
      "<class 'pandas.core.frame.DataFrame'>\n",
      "RangeIndex: 32560 entries, 0 to 32559\n",
      "Data columns (total 15 columns):\n",
      " #   Column          Non-Null Count  Dtype\n",
      "---  ------          --------------  -----\n",
      " 0   Workclass       32560 non-null  int32\n",
      " 1   Education       32560 non-null  int32\n",
      " 2   Marital_status  32560 non-null  int32\n",
      " 3   Occupation      32560 non-null  int32\n",
      " 4   Relationship    32560 non-null  int32\n",
      " 5   Race            32560 non-null  int32\n",
      " 6   Sex             32560 non-null  int32\n",
      " 7   Native_country  32560 non-null  int32\n",
      " 8   Income          32560 non-null  int32\n",
      " 9   Age             32560 non-null  int64\n",
      " 10  Fnlwgt          32560 non-null  int64\n",
      " 11  Education_num   32560 non-null  int64\n",
      " 12  Capital_gain    32560 non-null  int64\n",
      " 13  Capital_loss    32560 non-null  int64\n",
      " 14  Hours_per_week  32560 non-null  int64\n",
      "dtypes: int32(9), int64(6)\n",
      "memory usage: 2.6 MB\n"
     ]
    }
   ],
   "source": [
    "df.info()"
   ]
  },
  {
   "cell_type": "markdown",
   "id": "dcbf1143",
   "metadata": {},
   "source": [
    "we see that our all the data in the numaric form.so we fertur process that."
   ]
  },
  {
   "cell_type": "markdown",
   "id": "48890511",
   "metadata": {},
   "source": [
    "we visualize the data"
   ]
  },
  {
   "cell_type": "code",
   "execution_count": 21,
   "id": "185872a3",
   "metadata": {},
   "outputs": [
    {
     "data": {
      "text/plain": [
       "<AxesSubplot:xlabel='Workclass', ylabel='Income'>"
      ]
     },
     "execution_count": 21,
     "metadata": {},
     "output_type": "execute_result"
    },
    {
     "data": {
      "image/png": "[encoded data removed]",
      "text/plain": [
       "<Figure size 432x288 with 1 Axes>"
      ]
     },
     "metadata": {
      "needs_background": "light"
     },
     "output_type": "display_data"
    }
   ],
   "source": [
    "import seaborn as sns\n",
    "sns.scatterplot(x='Workclass', y='Income', data=df)"
   ]
  },
  {
   "cell_type": "code",
   "execution_count": 27,
   "id": "a94c83fa",
   "metadata": {},
   "outputs": [
    {
     "name": "stdout",
     "output_type": "stream",
     "text": [
      "0    24719\n",
      "1     7841\n",
      "Name: Income, dtype: int64\n"
     ]
    },
    {
     "data": {
      "image/png": "[encoded data removed]",
      "text/plain": [
       "<Figure size 432x288 with 1 Axes>"
      ]
     },
     "metadata": {
      "needs_background": "light"
     },
     "output_type": "display_data"
    }
   ],
   "source": [
    "sns.countplot('Income', data=df)\n",
    "print(df['Income'].value_counts())"
   ]
  },
  {
   "cell_type": "markdown",
   "id": "ced92d35",
   "metadata": {},
   "source": [
    "we see that the people are mostly income is greather than 50k."
   ]
  },
  {
   "cell_type": "code",
   "execution_count": 28,
   "id": "7d1afdb6",
   "metadata": {},
   "outputs": [
    {
     "name": "stdout",
     "output_type": "stream",
     "text": [
      "4    22696\n",
      "6     2541\n",
      "2     2093\n",
      "0     1836\n",
      "7     1297\n",
      "5     1116\n",
      "1      960\n",
      "8       14\n",
      "3        7\n",
      "Name: Workclass, dtype: int64\n"
     ]
    },
    {
     "data": {
      "image/png": "[encoded data removed]",
      "text/plain": [
       "<Figure size 432x288 with 1 Axes>"
      ]
     },
     "metadata": {
      "needs_background": "light"
     },
     "output_type": "display_data"
    }
   ],
   "source": [
    "sns.countplot('Workclass', data=df)\n",
    "print(df['Workclass'].value_counts())"
   ]
  },
  {
   "cell_type": "markdown",
   "id": "15eea1bf",
   "metadata": {},
   "source": [
    "we see that the private job is very high percent in us."
   ]
  },
  {
   "cell_type": "code",
   "execution_count": 29,
   "id": "37ed9382",
   "metadata": {},
   "outputs": [
    {
     "name": "stdout",
     "output_type": "stream",
     "text": [
      "11    10501\n",
      "15     7291\n",
      "9      5354\n",
      "12     1723\n",
      "8      1382\n",
      "1      1175\n",
      "7      1067\n",
      "0       933\n",
      "5       646\n",
      "14      576\n",
      "6       514\n",
      "2       433\n",
      "10      413\n",
      "4       333\n",
      "3       168\n",
      "13       51\n",
      "Name: Education, dtype: int64\n"
     ]
    },
    {
     "data": {
      "image/png": "[encoded data removed]",
      "text/plain": [
       "<Figure size 432x288 with 1 Axes>"
      ]
     },
     "metadata": {
      "needs_background": "light"
     },
     "output_type": "display_data"
    }
   ],
   "source": [
    "sns.countplot('Education', data=df)\n",
    "print(df['Education'].value_counts())"
   ]
  },
  {
   "cell_type": "markdown",
   "id": "22fb4ae6",
   "metadata": {},
   "source": [
    "HS graduation are mostly education in US."
   ]
  },
  {
   "cell_type": "code",
   "execution_count": 30,
   "id": "3ce140db",
   "metadata": {},
   "outputs": [
    {
     "name": "stdout",
     "output_type": "stream",
     "text": [
      "2    14976\n",
      "4    10682\n",
      "0     4443\n",
      "5     1025\n",
      "6      993\n",
      "3      418\n",
      "1       23\n",
      "Name: Marital_status, dtype: int64\n"
     ]
    },
    {
     "data": {
      "image/png": "[encoded data removed]",
      "text/plain": [
       "<Figure size 432x288 with 1 Axes>"
      ]
     },
     "metadata": {
      "needs_background": "light"
     },
     "output_type": "display_data"
    }
   ],
   "source": [
    "sns.countplot('Marital_status', data=df)\n",
    "print(df['Marital_status'].value_counts())"
   ]
  },
  {
   "cell_type": "markdown",
   "id": "e6fee711",
   "metadata": {},
   "source": [
    "the most people are married see in green bar and violent bar sign that the they are not married."
   ]
  },
  {
   "cell_type": "code",
   "execution_count": 31,
   "id": "570c0848",
   "metadata": {},
   "outputs": [
    {
     "name": "stdout",
     "output_type": "stream",
     "text": [
      "10    4140\n",
      "3     4099\n",
      "4     4066\n",
      "1     3769\n",
      "12    3650\n",
      "8     3295\n",
      "7     2002\n",
      "0     1843\n",
      "14    1597\n",
      "6     1370\n",
      "5      994\n",
      "13     928\n",
      "11     649\n",
      "9      149\n",
      "2        9\n",
      "Name: Occupation, dtype: int64\n"
     ]
    },
    {
     "data": {
      "image/png": "[encoded data removed]",
      "text/plain": [
       "<Figure size 432x288 with 1 Axes>"
      ]
     },
     "metadata": {
      "needs_background": "light"
     },
     "output_type": "display_data"
    }
   ],
   "source": [
    "sns.countplot('Occupation', data=df)\n",
    "print(df['Occupation'].value_counts())"
   ]
  },
  {
   "cell_type": "markdown",
   "id": "772b9ab3",
   "metadata": {},
   "source": [
    "there are lots of occupations."
   ]
  },
  {
   "cell_type": "code",
   "execution_count": 32,
   "id": "23cd7b6a",
   "metadata": {},
   "outputs": [
    {
     "name": "stdout",
     "output_type": "stream",
     "text": [
      "0    13193\n",
      "1     8304\n",
      "3     5068\n",
      "4     3446\n",
      "5     1568\n",
      "2      981\n",
      "Name: Relationship, dtype: int64\n"
     ]
    },
    {
     "data": {
      "image/png": "[encoded data removed]",
      "text/plain": [
       "<Figure size 432x288 with 1 Axes>"
      ]
     },
     "metadata": {
      "needs_background": "light"
     },
     "output_type": "display_data"
    }
   ],
   "source": [
    "sns.countplot('Relationship', data=df)\n",
    "print(df['Relationship'].value_counts())"
   ]
  },
  {
   "cell_type": "markdown",
   "id": "950c43cb",
   "metadata": {},
   "source": [
    "the relationship is mostly a husbund."
   ]
  },
  {
   "cell_type": "code",
   "execution_count": 33,
   "id": "4a67bd0a",
   "metadata": {},
   "outputs": [
    {
     "name": "stdout",
     "output_type": "stream",
     "text": [
      "4    27815\n",
      "2     3124\n",
      "1     1039\n",
      "0      311\n",
      "3      271\n",
      "Name: Race, dtype: int64\n"
     ]
    },
    {
     "data": {
      "image/png": "[encoded data removed]",
      "text/plain": [
       "<Figure size 432x288 with 1 Axes>"
      ]
     },
     "metadata": {
      "needs_background": "light"
     },
     "output_type": "display_data"
    }
   ],
   "source": [
    "sns.countplot('Race', data=df)\n",
    "print(df['Race'].value_counts())"
   ]
  },
  {
   "cell_type": "markdown",
   "id": "96a61edb",
   "metadata": {},
   "source": [
    "white people are most in the dataset."
   ]
  },
  {
   "cell_type": "code",
   "execution_count": 34,
   "id": "f1d17271",
   "metadata": {},
   "outputs": [
    {
     "name": "stdout",
     "output_type": "stream",
     "text": [
      "1    21789\n",
      "0    10771\n",
      "Name: Sex, dtype: int64\n"
     ]
    },
    {
     "data": {
      "image/png": "[encoded data removed]",
      "text/plain": [
       "<Figure size 432x288 with 1 Axes>"
      ]
     },
     "metadata": {
      "needs_background": "light"
     },
     "output_type": "display_data"
    }
   ],
   "source": [
    "sns.countplot('Sex', data=df)\n",
    "print(df['Sex'].value_counts())"
   ]
  },
  {
   "cell_type": "markdown",
   "id": "a76d51dd",
   "metadata": {},
   "source": [
    "we see that the male are 2* more than the womens."
   ]
  },
  {
   "cell_type": "code",
   "execution_count": 35,
   "id": "01014998",
   "metadata": {},
   "outputs": [
    {
     "name": "stdout",
     "output_type": "stream",
     "text": [
      "39    29169\n",
      "26      643\n",
      "0       583\n",
      "30      198\n",
      "11      137\n",
      "2       121\n",
      "33      114\n",
      "8       106\n",
      "19      100\n",
      "5        95\n",
      "9        90\n",
      "23       81\n",
      "35       80\n",
      "3        75\n",
      "22       73\n",
      "6        70\n",
      "40       67\n",
      "13       64\n",
      "24       62\n",
      "31       60\n",
      "4        59\n",
      "36       51\n",
      "14       44\n",
      "20       43\n",
      "32       37\n",
      "27       34\n",
      "29       31\n",
      "10       29\n",
      "12       29\n",
      "7        28\n",
      "21       24\n",
      "17       20\n",
      "1        19\n",
      "38       19\n",
      "25       18\n",
      "37       18\n",
      "41       16\n",
      "28       14\n",
      "16       13\n",
      "18       13\n",
      "34       12\n",
      "15        1\n",
      "Name: Native_country, dtype: int64\n"
     ]
    },
    {
     "data": {
      "image/png": "[encoded data removed]",
      "text/plain": [
       "<Figure size 432x288 with 1 Axes>"
      ]
     },
     "metadata": {
      "needs_background": "light"
     },
     "output_type": "display_data"
    }
   ],
   "source": [
    "sns.countplot('Native_country', data=df)\n",
    "print(df['Native_country'].value_counts())"
   ]
  },
  {
   "cell_type": "markdown",
   "id": "a9c51cd5",
   "metadata": {},
   "source": [
    "US is most peoples Native_country"
   ]
  },
  {
   "cell_type": "code",
   "execution_count": 36,
   "id": "afbbbcd1",
   "metadata": {},
   "outputs": [
    {
     "name": "stdout",
     "output_type": "stream",
     "text": [
      "9     10501\n",
      "10     7291\n",
      "13     5354\n",
      "14     1723\n",
      "11     1382\n",
      "7      1175\n",
      "12     1067\n",
      "6       933\n",
      "4       646\n",
      "15      576\n",
      "5       514\n",
      "8       433\n",
      "16      413\n",
      "3       333\n",
      "2       168\n",
      "1        51\n",
      "Name: Education_num, dtype: int64\n"
     ]
    },
    {
     "data": {
      "image/png": "[encoded data removed]",
      "text/plain": [
       "<Figure size 432x288 with 1 Axes>"
      ]
     },
     "metadata": {
      "needs_background": "light"
     },
     "output_type": "display_data"
    }
   ],
   "source": [
    "sns.countplot('Education_num', data=df)\n",
    "print(df['Education_num'].value_counts())"
   ]
  },
  {
   "cell_type": "markdown",
   "id": "90a701d3",
   "metadata": {},
   "source": [
    "9 and 10 are the most Education_num"
   ]
  },
  {
   "cell_type": "code",
   "execution_count": 38,
   "id": "b665ed7a",
   "metadata": {},
   "outputs": [
    {
     "name": "stdout",
     "output_type": "stream",
     "text": [
      "<class 'pandas.core.frame.DataFrame'>\n",
      "RangeIndex: 32560 entries, 0 to 32559\n",
      "Data columns (total 15 columns):\n",
      " #   Column          Non-Null Count  Dtype\n",
      "---  ------          --------------  -----\n",
      " 0   Workclass       32560 non-null  int32\n",
      " 1   Education       32560 non-null  int32\n",
      " 2   Marital_status  32560 non-null  int32\n",
      " 3   Occupation      32560 non-null  int32\n",
      " 4   Relationship    32560 non-null  int32\n",
      " 5   Race            32560 non-null  int32\n",
      " 6   Sex             32560 non-null  int32\n",
      " 7   Native_country  32560 non-null  int32\n",
      " 8   Income          32560 non-null  int32\n",
      " 9   Age             32560 non-null  int64\n",
      " 10  Fnlwgt          32560 non-null  int64\n",
      " 11  Education_num   32560 non-null  int64\n",
      " 12  Capital_gain    32560 non-null  int64\n",
      " 13  Capital_loss    32560 non-null  int64\n",
      " 14  Hours_per_week  32560 non-null  int64\n",
      "dtypes: int32(9), int64(6)\n",
      "memory usage: 2.6 MB\n"
     ]
    }
   ],
   "source": [
    "df.info()"
   ]
  },
  {
   "cell_type": "code",
   "execution_count": 39,
   "id": "bbb21dd8",
   "metadata": {},
   "outputs": [
    {
     "data": {
      "text/plain": [
       "<AxesSubplot:xlabel='Income', ylabel='Workclass'>"
      ]
     },
     "execution_count": 39,
     "metadata": {},
     "output_type": "execute_result"
    },
    {
     "data": {
      "image/png": "[encoded data removed]",
      "text/plain": [
       "<Figure size 432x288 with 1 Axes>"
      ]
     },
     "metadata": {
      "needs_background": "light"
     },
     "output_type": "display_data"
    }
   ],
   "source": [
    "sns.scatterplot(x='Income',y='Workclass',data=df)"
   ]
  },
  {
   "cell_type": "code",
   "execution_count": 41,
   "id": "77322966",
   "metadata": {},
   "outputs": [
    {
     "data": {
      "text/plain": [
       "<AxesSubplot:xlabel='Education', ylabel='Race'>"
      ]
     },
     "execution_count": 41,
     "metadata": {},
     "output_type": "execute_result"
    },
    {
     "data": {
      "image/png": "[encoded data removed]",
      "text/plain": [
       "<Figure size 432x288 with 1 Axes>"
      ]
     },
     "metadata": {
      "needs_background": "light"
     },
     "output_type": "display_data"
    }
   ],
   "source": [
    "sns.scatterplot(x='Education',y='Race',data=df)"
   ]
  },
  {
   "cell_type": "code",
   "execution_count": 42,
   "id": "5db91d71",
   "metadata": {},
   "outputs": [
    {
     "data": {
      "text/plain": [
       "<AxesSubplot:xlabel='Age', ylabel='Hours_per_week'>"
      ]
     },
     "execution_count": 42,
     "metadata": {},
     "output_type": "execute_result"
    },
    {
     "data": {
      "image/png": "[encoded data removed]",
      "text/plain": [
       "<Figure size 432x288 with 1 Axes>"
      ]
     },
     "metadata": {
      "needs_background": "light"
     },
     "output_type": "display_data"
    }
   ],
   "source": [
    "sns.scatterplot(x='Age',y='Hours_per_week',data=df)"
   ]
  },
  {
   "cell_type": "code",
   "execution_count": 43,
   "id": "60a1fff2",
   "metadata": {},
   "outputs": [
    {
     "data": {
      "text/plain": [
       "<AxesSubplot:xlabel='Age', ylabel='Race'>"
      ]
     },
     "execution_count": 43,
     "metadata": {},
     "output_type": "execute_result"
    },
    {
     "data": {
      "image/png": "[encoded data removed]",
      "text/plain": [
       "<Figure size 432x288 with 1 Axes>"
      ]
     },
     "metadata": {
      "needs_background": "light"
     },
     "output_type": "display_data"
    }
   ],
   "source": [
    "sns.scatterplot(x='Age',y='Race',data=df)"
   ]
  },
  {
   "cell_type": "markdown",
   "id": "ffab6dff",
   "metadata": {},
   "source": [
    "# Describtion of data"
   ]
  },
  {
   "cell_type": "code",
   "execution_count": 44,
   "id": "f99682b1",
   "metadata": {},
   "outputs": [
    {
     "data": {
      "text/html": [
       "<div>\n",
       "<style scoped>\n",
       "    .dataframe tbody tr th:only-of-type {\n",
       "        vertical-align: middle;\n",
       "    }\n",
       "\n",
       "    .dataframe tbody tr th {\n",
       "        vertical-align: top;\n",
       "    }\n",
       "\n",
       "    .dataframe thead th {\n",
       "        text-align: right;\n",
       "    }\n",
       "</style>\n",
       "<table border=\"1\" class=\"dataframe\">\n",
       "  <thead>\n",
       "    <tr style=\"text-align: right;\">\n",
       "      <th></th>\n",
       "      <th>Workclass</th>\n",
       "      <th>Education</th>\n",
       "      <th>Marital_status</th>\n",
       "      <th>Occupation</th>\n",
       "      <th>Relationship</th>\n",
       "      <th>Race</th>\n",
       "      <th>Sex</th>\n",
       "      <th>Native_country</th>\n",
       "      <th>Income</th>\n",
       "      <th>Age</th>\n",
       "      <th>Fnlwgt</th>\n",
       "      <th>Education_num</th>\n",
       "      <th>Capital_gain</th>\n",
       "      <th>Capital_loss</th>\n",
       "      <th>Hours_per_week</th>\n",
       "    </tr>\n",
       "  </thead>\n",
       "  <tbody>\n",
       "    <tr>\n",
       "      <th>count</th>\n",
       "      <td>32560.000000</td>\n",
       "      <td>32560.000000</td>\n",
       "      <td>32560.000000</td>\n",
       "      <td>32560.000000</td>\n",
       "      <td>32560.000000</td>\n",
       "      <td>32560.000000</td>\n",
       "      <td>32560.000000</td>\n",
       "      <td>32560.000000</td>\n",
       "      <td>32560.000000</td>\n",
       "      <td>32560.000000</td>\n",
       "      <td>3.256000e+04</td>\n",
       "      <td>32560.000000</td>\n",
       "      <td>32560.000000</td>\n",
       "      <td>32560.000000</td>\n",
       "      <td>32560.000000</td>\n",
       "    </tr>\n",
       "    <tr>\n",
       "      <th>mean</th>\n",
       "      <td>3.868796</td>\n",
       "      <td>10.298249</td>\n",
       "      <td>2.611794</td>\n",
       "      <td>6.572912</td>\n",
       "      <td>1.446376</td>\n",
       "      <td>3.665848</td>\n",
       "      <td>0.669195</td>\n",
       "      <td>36.718796</td>\n",
       "      <td>0.240817</td>\n",
       "      <td>38.581634</td>\n",
       "      <td>1.897818e+05</td>\n",
       "      <td>10.080590</td>\n",
       "      <td>1077.615172</td>\n",
       "      <td>87.306511</td>\n",
       "      <td>40.437469</td>\n",
       "    </tr>\n",
       "    <tr>\n",
       "      <th>std</th>\n",
       "      <td>1.455879</td>\n",
       "      <td>3.870317</td>\n",
       "      <td>1.506225</td>\n",
       "      <td>4.228809</td>\n",
       "      <td>1.606794</td>\n",
       "      <td>0.848817</td>\n",
       "      <td>0.470510</td>\n",
       "      <td>7.823892</td>\n",
       "      <td>0.427586</td>\n",
       "      <td>13.640642</td>\n",
       "      <td>1.055498e+05</td>\n",
       "      <td>2.572709</td>\n",
       "      <td>7385.402999</td>\n",
       "      <td>402.966116</td>\n",
       "      <td>12.347618</td>\n",
       "    </tr>\n",
       "    <tr>\n",
       "      <th>min</th>\n",
       "      <td>0.000000</td>\n",
       "      <td>0.000000</td>\n",
       "      <td>0.000000</td>\n",
       "      <td>0.000000</td>\n",
       "      <td>0.000000</td>\n",
       "      <td>0.000000</td>\n",
       "      <td>0.000000</td>\n",
       "      <td>0.000000</td>\n",
       "      <td>0.000000</td>\n",
       "      <td>17.000000</td>\n",
       "      <td>1.228500e+04</td>\n",
       "      <td>1.000000</td>\n",
       "      <td>0.000000</td>\n",
       "      <td>0.000000</td>\n",
       "      <td>1.000000</td>\n",
       "    </tr>\n",
       "    <tr>\n",
       "      <th>25%</th>\n",
       "      <td>4.000000</td>\n",
       "      <td>9.000000</td>\n",
       "      <td>2.000000</td>\n",
       "      <td>3.000000</td>\n",
       "      <td>0.000000</td>\n",
       "      <td>4.000000</td>\n",
       "      <td>0.000000</td>\n",
       "      <td>39.000000</td>\n",
       "      <td>0.000000</td>\n",
       "      <td>28.000000</td>\n",
       "      <td>1.178315e+05</td>\n",
       "      <td>9.000000</td>\n",
       "      <td>0.000000</td>\n",
       "      <td>0.000000</td>\n",
       "      <td>40.000000</td>\n",
       "    </tr>\n",
       "    <tr>\n",
       "      <th>50%</th>\n",
       "      <td>4.000000</td>\n",
       "      <td>11.000000</td>\n",
       "      <td>2.000000</td>\n",
       "      <td>7.000000</td>\n",
       "      <td>1.000000</td>\n",
       "      <td>4.000000</td>\n",
       "      <td>1.000000</td>\n",
       "      <td>39.000000</td>\n",
       "      <td>0.000000</td>\n",
       "      <td>37.000000</td>\n",
       "      <td>1.783630e+05</td>\n",
       "      <td>10.000000</td>\n",
       "      <td>0.000000</td>\n",
       "      <td>0.000000</td>\n",
       "      <td>40.000000</td>\n",
       "    </tr>\n",
       "    <tr>\n",
       "      <th>75%</th>\n",
       "      <td>4.000000</td>\n",
       "      <td>12.000000</td>\n",
       "      <td>4.000000</td>\n",
       "      <td>10.000000</td>\n",
       "      <td>3.000000</td>\n",
       "      <td>4.000000</td>\n",
       "      <td>1.000000</td>\n",
       "      <td>39.000000</td>\n",
       "      <td>0.000000</td>\n",
       "      <td>48.000000</td>\n",
       "      <td>2.370545e+05</td>\n",
       "      <td>12.000000</td>\n",
       "      <td>0.000000</td>\n",
       "      <td>0.000000</td>\n",
       "      <td>45.000000</td>\n",
       "    </tr>\n",
       "    <tr>\n",
       "      <th>max</th>\n",
       "      <td>8.000000</td>\n",
       "      <td>15.000000</td>\n",
       "      <td>6.000000</td>\n",
       "      <td>14.000000</td>\n",
       "      <td>5.000000</td>\n",
       "      <td>4.000000</td>\n",
       "      <td>1.000000</td>\n",
       "      <td>41.000000</td>\n",
       "      <td>1.000000</td>\n",
       "      <td>90.000000</td>\n",
       "      <td>1.484705e+06</td>\n",
       "      <td>16.000000</td>\n",
       "      <td>99999.000000</td>\n",
       "      <td>4356.000000</td>\n",
       "      <td>99.000000</td>\n",
       "    </tr>\n",
       "  </tbody>\n",
       "</table>\n",
       "</div>"
      ],
      "text/plain": [
       "          Workclass     Education  Marital_status    Occupation  Relationship  \\\n",
       "count  32560.000000  32560.000000    32560.000000  32560.000000  32560.000000   \n",
       "mean       3.868796     10.298249        2.611794      6.572912      1.446376   \n",
       "std        1.455879      3.870317        1.506225      4.228809      1.606794   \n",
       "min        0.000000      0.000000        0.000000      0.000000      0.000000   \n",
       "25%        4.000000      9.000000        2.000000      3.000000      0.000000   \n",
       "50%        4.000000     11.000000        2.000000      7.000000      1.000000   \n",
       "75%        4.000000     12.000000        4.000000     10.000000      3.000000   \n",
       "max        8.000000     15.000000        6.000000     14.000000      5.000000   \n",
       "\n",
       "               Race           Sex  Native_country        Income           Age  \\\n",
       "count  32560.000000  32560.000000    32560.000000  32560.000000  32560.000000   \n",
       "mean       3.665848      0.669195       36.718796      0.240817     38.581634   \n",
       "std        0.848817      0.470510        7.823892      0.427586     13.640642   \n",
       "min        0.000000      0.000000        0.000000      0.000000     17.000000   \n",
       "25%        4.000000      0.000000       39.000000      0.000000     28.000000   \n",
       "50%        4.000000      1.000000       39.000000      0.000000     37.000000   \n",
       "75%        4.000000      1.000000       39.000000      0.000000     48.000000   \n",
       "max        4.000000      1.000000       41.000000      1.000000     90.000000   \n",
       "\n",
       "             Fnlwgt  Education_num  Capital_gain  Capital_loss  Hours_per_week  \n",
       "count  3.256000e+04   32560.000000  32560.000000  32560.000000    32560.000000  \n",
       "mean   1.897818e+05      10.080590   1077.615172     87.306511       40.437469  \n",
       "std    1.055498e+05       2.572709   7385.402999    402.966116       12.347618  \n",
       "min    1.228500e+04       1.000000      0.000000      0.000000        1.000000  \n",
       "25%    1.178315e+05       9.000000      0.000000      0.000000       40.000000  \n",
       "50%    1.783630e+05      10.000000      0.000000      0.000000       40.000000  \n",
       "75%    2.370545e+05      12.000000      0.000000      0.000000       45.000000  \n",
       "max    1.484705e+06      16.000000  99999.000000   4356.000000       99.000000  "
      ]
     },
     "execution_count": 44,
     "metadata": {},
     "output_type": "execute_result"
    }
   ],
   "source": [
    "df.describe()"
   ]
  },
  {
   "cell_type": "raw",
   "id": "459a8f84",
   "metadata": {},
   "source": [
    "in that dataset wee see that the all columns mean values and standard deviation.\n",
    "\n",
    "all columns information is see in describtion minimun values of the each column\n",
    "25th percentile of each column\n",
    "50th percentile of each column\n",
    "75th percentile of the each column\n",
    "as well as we see the maximum value of the each columns.\n",
    "we see the count of each columns are present in respresctive column"
   ]
  },
  {
   "cell_type": "markdown",
   "id": "74379a3f",
   "metadata": {},
   "source": [
    "# correlation"
   ]
  },
  {
   "cell_type": "code",
   "execution_count": 45,
   "id": "b77482f7",
   "metadata": {},
   "outputs": [
    {
     "data": {
      "text/html": [
       "<div>\n",
       "<style scoped>\n",
       "    .dataframe tbody tr th:only-of-type {\n",
       "        vertical-align: middle;\n",
       "    }\n",
       "\n",
       "    .dataframe tbody tr th {\n",
       "        vertical-align: top;\n",
       "    }\n",
       "\n",
       "    .dataframe thead th {\n",
       "        text-align: right;\n",
       "    }\n",
       "</style>\n",
       "<table border=\"1\" class=\"dataframe\">\n",
       "  <thead>\n",
       "    <tr style=\"text-align: right;\">\n",
       "      <th></th>\n",
       "      <th>Workclass</th>\n",
       "      <th>Education</th>\n",
       "      <th>Marital_status</th>\n",
       "      <th>Occupation</th>\n",
       "      <th>Relationship</th>\n",
       "      <th>Race</th>\n",
       "      <th>Sex</th>\n",
       "      <th>Native_country</th>\n",
       "      <th>Income</th>\n",
       "      <th>Age</th>\n",
       "      <th>Fnlwgt</th>\n",
       "      <th>Education_num</th>\n",
       "      <th>Capital_gain</th>\n",
       "      <th>Capital_loss</th>\n",
       "      <th>Hours_per_week</th>\n",
       "    </tr>\n",
       "  </thead>\n",
       "  <tbody>\n",
       "    <tr>\n",
       "      <th>Workclass</th>\n",
       "      <td>1.000000</td>\n",
       "      <td>0.023537</td>\n",
       "      <td>-0.064798</td>\n",
       "      <td>0.255004</td>\n",
       "      <td>-0.090449</td>\n",
       "      <td>0.049720</td>\n",
       "      <td>0.095942</td>\n",
       "      <td>-0.007710</td>\n",
       "      <td>0.051645</td>\n",
       "      <td>0.003786</td>\n",
       "      <td>-0.016587</td>\n",
       "      <td>0.052015</td>\n",
       "      <td>0.033828</td>\n",
       "      <td>0.012231</td>\n",
       "      <td>0.138974</td>\n",
       "    </tr>\n",
       "    <tr>\n",
       "      <th>Education</th>\n",
       "      <td>0.023537</td>\n",
       "      <td>1.000000</td>\n",
       "      <td>-0.038398</td>\n",
       "      <td>-0.021274</td>\n",
       "      <td>-0.010879</td>\n",
       "      <td>0.014135</td>\n",
       "      <td>-0.027349</td>\n",
       "      <td>0.064291</td>\n",
       "      <td>0.079311</td>\n",
       "      <td>-0.010508</td>\n",
       "      <td>-0.028156</td>\n",
       "      <td>0.359172</td>\n",
       "      <td>0.030047</td>\n",
       "      <td>0.016744</td>\n",
       "      <td>0.055510</td>\n",
       "    </tr>\n",
       "    <tr>\n",
       "      <th>Marital_status</th>\n",
       "      <td>-0.064798</td>\n",
       "      <td>-0.038398</td>\n",
       "      <td>1.000000</td>\n",
       "      <td>-0.009617</td>\n",
       "      <td>0.185461</td>\n",
       "      <td>-0.068025</td>\n",
       "      <td>-0.129337</td>\n",
       "      <td>-0.023827</td>\n",
       "      <td>-0.199295</td>\n",
       "      <td>-0.266292</td>\n",
       "      <td>0.028184</td>\n",
       "      <td>-0.069338</td>\n",
       "      <td>-0.043398</td>\n",
       "      <td>-0.034182</td>\n",
       "      <td>-0.190521</td>\n",
       "    </tr>\n",
       "    <tr>\n",
       "      <th>Occupation</th>\n",
       "      <td>0.255004</td>\n",
       "      <td>-0.021274</td>\n",
       "      <td>-0.009617</td>\n",
       "      <td>1.000000</td>\n",
       "      <td>-0.075620</td>\n",
       "      <td>0.006779</td>\n",
       "      <td>0.080328</td>\n",
       "      <td>-0.012532</td>\n",
       "      <td>0.075448</td>\n",
       "      <td>-0.020946</td>\n",
       "      <td>0.001554</td>\n",
       "      <td>0.109748</td>\n",
       "      <td>0.025511</td>\n",
       "      <td>0.017979</td>\n",
       "      <td>0.080384</td>\n",
       "    </tr>\n",
       "    <tr>\n",
       "      <th>Relationship</th>\n",
       "      <td>-0.090449</td>\n",
       "      <td>-0.010879</td>\n",
       "      <td>0.185461</td>\n",
       "      <td>-0.075620</td>\n",
       "      <td>1.000000</td>\n",
       "      <td>-0.116052</td>\n",
       "      <td>-0.582453</td>\n",
       "      <td>-0.005504</td>\n",
       "      <td>-0.250924</td>\n",
       "      <td>-0.263698</td>\n",
       "      <td>0.008922</td>\n",
       "      <td>-0.094145</td>\n",
       "      <td>-0.057918</td>\n",
       "      <td>-0.061064</td>\n",
       "      <td>-0.248975</td>\n",
       "    </tr>\n",
       "    <tr>\n",
       "      <th>Race</th>\n",
       "      <td>0.049720</td>\n",
       "      <td>0.014135</td>\n",
       "      <td>-0.068025</td>\n",
       "      <td>0.006779</td>\n",
       "      <td>-0.116052</td>\n",
       "      <td>1.000000</td>\n",
       "      <td>0.087197</td>\n",
       "      <td>0.137849</td>\n",
       "      <td>0.071853</td>\n",
       "      <td>0.028718</td>\n",
       "      <td>-0.021278</td>\n",
       "      <td>0.031825</td>\n",
       "      <td>0.011143</td>\n",
       "      <td>0.018902</td>\n",
       "      <td>0.041910</td>\n",
       "    </tr>\n",
       "    <tr>\n",
       "      <th>Sex</th>\n",
       "      <td>0.095942</td>\n",
       "      <td>-0.027349</td>\n",
       "      <td>-0.129337</td>\n",
       "      <td>0.080328</td>\n",
       "      <td>-0.582453</td>\n",
       "      <td>0.087197</td>\n",
       "      <td>1.000000</td>\n",
       "      <td>-0.008125</td>\n",
       "      <td>0.215995</td>\n",
       "      <td>0.088832</td>\n",
       "      <td>0.026882</td>\n",
       "      <td>0.012256</td>\n",
       "      <td>0.048477</td>\n",
       "      <td>0.045572</td>\n",
       "      <td>0.229312</td>\n",
       "    </tr>\n",
       "    <tr>\n",
       "      <th>Native_country</th>\n",
       "      <td>-0.007710</td>\n",
       "      <td>0.064291</td>\n",
       "      <td>-0.023827</td>\n",
       "      <td>-0.012532</td>\n",
       "      <td>-0.005504</td>\n",
       "      <td>0.137849</td>\n",
       "      <td>-0.008125</td>\n",
       "      <td>1.000000</td>\n",
       "      <td>0.015845</td>\n",
       "      <td>-0.001151</td>\n",
       "      <td>-0.051957</td>\n",
       "      <td>0.050831</td>\n",
       "      <td>-0.001984</td>\n",
       "      <td>0.000420</td>\n",
       "      <td>-0.002671</td>\n",
       "    </tr>\n",
       "    <tr>\n",
       "      <th>Income</th>\n",
       "      <td>0.051645</td>\n",
       "      <td>0.079311</td>\n",
       "      <td>-0.199295</td>\n",
       "      <td>0.075448</td>\n",
       "      <td>-0.250924</td>\n",
       "      <td>0.071853</td>\n",
       "      <td>0.215995</td>\n",
       "      <td>0.015845</td>\n",
       "      <td>1.000000</td>\n",
       "      <td>0.234039</td>\n",
       "      <td>-0.009481</td>\n",
       "      <td>0.335182</td>\n",
       "      <td>0.223333</td>\n",
       "      <td>0.150523</td>\n",
       "      <td>0.229690</td>\n",
       "    </tr>\n",
       "    <tr>\n",
       "      <th>Age</th>\n",
       "      <td>0.003786</td>\n",
       "      <td>-0.010508</td>\n",
       "      <td>-0.266292</td>\n",
       "      <td>-0.020946</td>\n",
       "      <td>-0.263698</td>\n",
       "      <td>0.028718</td>\n",
       "      <td>0.088832</td>\n",
       "      <td>-0.001151</td>\n",
       "      <td>0.234039</td>\n",
       "      <td>1.000000</td>\n",
       "      <td>-0.076646</td>\n",
       "      <td>0.036527</td>\n",
       "      <td>0.077674</td>\n",
       "      <td>0.057775</td>\n",
       "      <td>0.068756</td>\n",
       "    </tr>\n",
       "    <tr>\n",
       "      <th>Fnlwgt</th>\n",
       "      <td>-0.016587</td>\n",
       "      <td>-0.028156</td>\n",
       "      <td>0.028184</td>\n",
       "      <td>0.001554</td>\n",
       "      <td>0.008922</td>\n",
       "      <td>-0.021278</td>\n",
       "      <td>0.026882</td>\n",
       "      <td>-0.051957</td>\n",
       "      <td>-0.009481</td>\n",
       "      <td>-0.076646</td>\n",
       "      <td>1.000000</td>\n",
       "      <td>-0.043159</td>\n",
       "      <td>0.000437</td>\n",
       "      <td>-0.010259</td>\n",
       "      <td>-0.018770</td>\n",
       "    </tr>\n",
       "    <tr>\n",
       "      <th>Education_num</th>\n",
       "      <td>0.052015</td>\n",
       "      <td>0.359172</td>\n",
       "      <td>-0.069338</td>\n",
       "      <td>0.109748</td>\n",
       "      <td>-0.094145</td>\n",
       "      <td>0.031825</td>\n",
       "      <td>0.012256</td>\n",
       "      <td>0.050831</td>\n",
       "      <td>0.335182</td>\n",
       "      <td>0.036527</td>\n",
       "      <td>-0.043159</td>\n",
       "      <td>1.000000</td>\n",
       "      <td>0.122627</td>\n",
       "      <td>0.079932</td>\n",
       "      <td>0.148127</td>\n",
       "    </tr>\n",
       "    <tr>\n",
       "      <th>Capital_gain</th>\n",
       "      <td>0.033828</td>\n",
       "      <td>0.030047</td>\n",
       "      <td>-0.043398</td>\n",
       "      <td>0.025511</td>\n",
       "      <td>-0.057918</td>\n",
       "      <td>0.011143</td>\n",
       "      <td>0.048477</td>\n",
       "      <td>-0.001984</td>\n",
       "      <td>0.223333</td>\n",
       "      <td>0.077674</td>\n",
       "      <td>0.000437</td>\n",
       "      <td>0.122627</td>\n",
       "      <td>1.000000</td>\n",
       "      <td>-0.031614</td>\n",
       "      <td>0.078409</td>\n",
       "    </tr>\n",
       "    <tr>\n",
       "      <th>Capital_loss</th>\n",
       "      <td>0.012231</td>\n",
       "      <td>0.016744</td>\n",
       "      <td>-0.034182</td>\n",
       "      <td>0.017979</td>\n",
       "      <td>-0.061064</td>\n",
       "      <td>0.018902</td>\n",
       "      <td>0.045572</td>\n",
       "      <td>0.000420</td>\n",
       "      <td>0.150523</td>\n",
       "      <td>0.057775</td>\n",
       "      <td>-0.010259</td>\n",
       "      <td>0.079932</td>\n",
       "      <td>-0.031614</td>\n",
       "      <td>1.000000</td>\n",
       "      <td>0.054256</td>\n",
       "    </tr>\n",
       "    <tr>\n",
       "      <th>Hours_per_week</th>\n",
       "      <td>0.138974</td>\n",
       "      <td>0.055510</td>\n",
       "      <td>-0.190521</td>\n",
       "      <td>0.080384</td>\n",
       "      <td>-0.248975</td>\n",
       "      <td>0.041910</td>\n",
       "      <td>0.229312</td>\n",
       "      <td>-0.002671</td>\n",
       "      <td>0.229690</td>\n",
       "      <td>0.068756</td>\n",
       "      <td>-0.018770</td>\n",
       "      <td>0.148127</td>\n",
       "      <td>0.078409</td>\n",
       "      <td>0.054256</td>\n",
       "      <td>1.000000</td>\n",
       "    </tr>\n",
       "  </tbody>\n",
       "</table>\n",
       "</div>"
      ],
      "text/plain": [
       "                Workclass  Education  Marital_status  Occupation  \\\n",
       "Workclass        1.000000   0.023537       -0.064798    0.255004   \n",
       "Education        0.023537   1.000000       -0.038398   -0.021274   \n",
       "Marital_status  -0.064798  -0.038398        1.000000   -0.009617   \n",
       "Occupation       0.255004  -0.021274       -0.009617    1.000000   \n",
       "Relationship    -0.090449  -0.010879        0.185461   -0.075620   \n",
       "Race             0.049720   0.014135       -0.068025    0.006779   \n",
       "Sex              0.095942  -0.027349       -0.129337    0.080328   \n",
       "Native_country  -0.007710   0.064291       -0.023827   -0.012532   \n",
       "Income           0.051645   0.079311       -0.199295    0.075448   \n",
       "Age              0.003786  -0.010508       -0.266292   -0.020946   \n",
       "Fnlwgt          -0.016587  -0.028156        0.028184    0.001554   \n",
       "Education_num    0.052015   0.359172       -0.069338    0.109748   \n",
       "Capital_gain     0.033828   0.030047       -0.043398    0.025511   \n",
       "Capital_loss     0.012231   0.016744       -0.034182    0.017979   \n",
       "Hours_per_week   0.138974   0.055510       -0.190521    0.080384   \n",
       "\n",
       "                Relationship      Race       Sex  Native_country    Income  \\\n",
       "Workclass          -0.090449  0.049720  0.095942       -0.007710  0.051645   \n",
       "Education          -0.010879  0.014135 -0.027349        0.064291  0.079311   \n",
       "Marital_status      0.185461 -0.068025 -0.129337       -0.023827 -0.199295   \n",
       "Occupation         -0.075620  0.006779  0.080328       -0.012532  0.075448   \n",
       "Relationship        1.000000 -0.116052 -0.582453       -0.005504 -0.250924   \n",
       "Race               -0.116052  1.000000  0.087197        0.137849  0.071853   \n",
       "Sex                -0.582453  0.087197  1.000000       -0.008125  0.215995   \n",
       "Native_country     -0.005504  0.137849 -0.008125        1.000000  0.015845   \n",
       "Income             -0.250924  0.071853  0.215995        0.015845  1.000000   \n",
       "Age                -0.263698  0.028718  0.088832       -0.001151  0.234039   \n",
       "Fnlwgt              0.008922 -0.021278  0.026882       -0.051957 -0.009481   \n",
       "Education_num      -0.094145  0.031825  0.012256        0.050831  0.335182   \n",
       "Capital_gain       -0.057918  0.011143  0.048477       -0.001984  0.223333   \n",
       "Capital_loss       -0.061064  0.018902  0.045572        0.000420  0.150523   \n",
       "Hours_per_week     -0.248975  0.041910  0.229312       -0.002671  0.229690   \n",
       "\n",
       "                     Age    Fnlwgt  Education_num  Capital_gain  Capital_loss  \\\n",
       "Workclass       0.003786 -0.016587       0.052015      0.033828      0.012231   \n",
       "Education      -0.010508 -0.028156       0.359172      0.030047      0.016744   \n",
       "Marital_status -0.266292  0.028184      -0.069338     -0.043398     -0.034182   \n",
       "Occupation     -0.020946  0.001554       0.109748      0.025511      0.017979   \n",
       "Relationship   -0.263698  0.008922      -0.094145     -0.057918     -0.061064   \n",
       "Race            0.028718 -0.021278       0.031825      0.011143      0.018902   \n",
       "Sex             0.088832  0.026882       0.012256      0.048477      0.045572   \n",
       "Native_country -0.001151 -0.051957       0.050831     -0.001984      0.000420   \n",
       "Income          0.234039 -0.009481       0.335182      0.223333      0.150523   \n",
       "Age             1.000000 -0.076646       0.036527      0.077674      0.057775   \n",
       "Fnlwgt         -0.076646  1.000000      -0.043159      0.000437     -0.010259   \n",
       "Education_num   0.036527 -0.043159       1.000000      0.122627      0.079932   \n",
       "Capital_gain    0.077674  0.000437       0.122627      1.000000     -0.031614   \n",
       "Capital_loss    0.057775 -0.010259       0.079932     -0.031614      1.000000   \n",
       "Hours_per_week  0.068756 -0.018770       0.148127      0.078409      0.054256   \n",
       "\n",
       "                Hours_per_week  \n",
       "Workclass             0.138974  \n",
       "Education             0.055510  \n",
       "Marital_status       -0.190521  \n",
       "Occupation            0.080384  \n",
       "Relationship         -0.248975  \n",
       "Race                  0.041910  \n",
       "Sex                   0.229312  \n",
       "Native_country       -0.002671  \n",
       "Income                0.229690  \n",
       "Age                   0.068756  \n",
       "Fnlwgt               -0.018770  \n",
       "Education_num         0.148127  \n",
       "Capital_gain          0.078409  \n",
       "Capital_loss          0.054256  \n",
       "Hours_per_week        1.000000  "
      ]
     },
     "execution_count": 45,
     "metadata": {},
     "output_type": "execute_result"
    }
   ],
   "source": [
    "df.corr()"
   ]
  },
  {
   "cell_type": "markdown",
   "id": "9476daaf",
   "metadata": {},
   "source": [
    "we see the correlation of each columns."
   ]
  },
  {
   "cell_type": "code",
   "execution_count": 46,
   "id": "e85fff41",
   "metadata": {},
   "outputs": [
    {
     "data": {
      "text/plain": [
       "<AxesSubplot:>"
      ]
     },
     "execution_count": 46,
     "metadata": {},
     "output_type": "execute_result"
    },
    {
     "data": {
      "image/png": "[encoded data removed]",
      "text/plain": [
       "<Figure size 720x432 with 2 Axes>"
      ]
     },
     "metadata": {
      "needs_background": "light"
     },
     "output_type": "display_data"
    }
   ],
   "source": [
    "plt.figure(figsize=(10,6))\n",
    "sns.heatmap(df.corr(), cmap='Blues', annot=True)"
   ]
  },
  {
   "cell_type": "markdown",
   "id": "91d83b8a",
   "metadata": {},
   "source": [
    "our target variable is income so we focus on that."
   ]
  },
  {
   "cell_type": "raw",
   "id": "12945ed3",
   "metadata": {},
   "source": [
    "we see that the our target variable are the region and averageprice and see the correlation with that columns.\n",
    "the correlation is near to 1 is sign that there are very good correlation with each others.\n",
    "the correlation is near to 0 is sign that there are very bad correlation with each others."
   ]
  },
  {
   "cell_type": "code",
   "execution_count": 48,
   "id": "d084a1ae",
   "metadata": {},
   "outputs": [
    {
     "data": {
      "text/plain": [
       "Workclass         0.051645\n",
       "Education         0.079311\n",
       "Marital_status   -0.199295\n",
       "Occupation        0.075448\n",
       "Relationship     -0.250924\n",
       "Race              0.071853\n",
       "Sex               0.215995\n",
       "Native_country    0.015845\n",
       "Income            1.000000\n",
       "Age               0.234039\n",
       "Fnlwgt           -0.009481\n",
       "Education_num     0.335182\n",
       "Capital_gain      0.223333\n",
       "Capital_loss      0.150523\n",
       "Hours_per_week    0.229690\n",
       "Name: Income, dtype: float64"
      ]
     },
     "execution_count": 48,
     "metadata": {},
     "output_type": "execute_result"
    }
   ],
   "source": [
    "df.corr()['Income']"
   ]
  },
  {
   "cell_type": "markdown",
   "id": "c323341f",
   "metadata": {},
   "source": [
    "we see that the correlation of incometo each columns are not very good "
   ]
  },
  {
   "cell_type": "markdown",
   "id": "570c08ec",
   "metadata": {},
   "source": [
    "# skewness"
   ]
  },
  {
   "cell_type": "code",
   "execution_count": 49,
   "id": "b9cb0f5a",
   "metadata": {
    "scrolled": true
   },
   "outputs": [
    {
     "data": {
      "text/plain": [
       "Workclass         -0.752280\n",
       "Education         -0.934063\n",
       "Marital_status    -0.013448\n",
       "Occupation         0.114540\n",
       "Relationship       0.786784\n",
       "Race              -2.435332\n",
       "Sex               -0.719244\n",
       "Native_country    -3.658235\n",
       "Income             1.212383\n",
       "Age                0.558738\n",
       "Fnlwgt             1.446972\n",
       "Education_num     -0.311630\n",
       "Capital_gain      11.953690\n",
       "Capital_loss       4.594549\n",
       "Hours_per_week     0.227636\n",
       "dtype: float64"
      ]
     },
     "execution_count": 49,
     "metadata": {},
     "output_type": "execute_result"
    }
   ],
   "source": [
    "df.skew()"
   ]
  },
  {
   "cell_type": "markdown",
   "id": "62378704",
   "metadata": {},
   "source": [
    "thw skewness between +-0.80 is good skewness"
   ]
  },
  {
   "cell_type": "code",
   "execution_count": 51,
   "id": "1f9be989",
   "metadata": {},
   "outputs": [
    {
     "data": {
      "text/plain": [
       "<AxesSubplot:xlabel='Workclass', ylabel='Density'>"
      ]
     },
     "execution_count": 51,
     "metadata": {},
     "output_type": "execute_result"
    },
    {
     "data": {
      "image/png": "[encoded data removed]",
      "text/plain": [
       "<Figure size 432x288 with 1 Axes>"
      ]
     },
     "metadata": {
      "needs_background": "light"
     },
     "output_type": "display_data"
    }
   ],
   "source": [
    "sns.distplot(df['Workclass'])"
   ]
  },
  {
   "cell_type": "code",
   "execution_count": 52,
   "id": "d56b2bb4",
   "metadata": {},
   "outputs": [
    {
     "data": {
      "text/plain": [
       "<AxesSubplot:xlabel='Education', ylabel='Density'>"
      ]
     },
     "execution_count": 52,
     "metadata": {},
     "output_type": "execute_result"
    },
    {
     "data": {
      "image/png": "[encoded data removed]",
      "text/plain": [
       "<Figure size 432x288 with 1 Axes>"
      ]
     },
     "metadata": {
      "needs_background": "light"
     },
     "output_type": "display_data"
    }
   ],
   "source": [
    "sns.distplot(df['Education'])"
   ]
  },
  {
   "cell_type": "code",
   "execution_count": 53,
   "id": "6ac597d1",
   "metadata": {},
   "outputs": [
    {
     "data": {
      "text/plain": [
       "<AxesSubplot:xlabel='Marital_status', ylabel='Density'>"
      ]
     },
     "execution_count": 53,
     "metadata": {},
     "output_type": "execute_result"
    },
    {
     "data": {
      "image/png": "[encoded data removed]",
      "text/plain": [
       "<Figure size 432x288 with 1 Axes>"
      ]
     },
     "metadata": {
      "needs_background": "light"
     },
     "output_type": "display_data"
    }
   ],
   "source": [
    "sns.distplot(df['Marital_status'])"
   ]
  },
  {
   "cell_type": "code",
   "execution_count": 54,
   "id": "721c1bfe",
   "metadata": {},
   "outputs": [
    {
     "data": {
      "text/plain": [
       "<AxesSubplot:xlabel='Occupation', ylabel='Density'>"
      ]
     },
     "execution_count": 54,
     "metadata": {},
     "output_type": "execute_result"
    },
    {
     "data": {
      "image/png": "[encoded data removed]",
      "text/plain": [
       "<Figure size 432x288 with 1 Axes>"
      ]
     },
     "metadata": {
      "needs_background": "light"
     },
     "output_type": "display_data"
    }
   ],
   "source": [
    "sns.distplot(df['Occupation'])"
   ]
  },
  {
   "cell_type": "code",
   "execution_count": 55,
   "id": "cee9114f",
   "metadata": {},
   "outputs": [
    {
     "data": {
      "text/plain": [
       "<AxesSubplot:xlabel='Relationship', ylabel='Density'>"
      ]
     },
     "execution_count": 55,
     "metadata": {},
     "output_type": "execute_result"
    },
    {
     "data": {
      "image/png": "[encoded data removed]",
      "text/plain": [
       "<Figure size 432x288 with 1 Axes>"
      ]
     },
     "metadata": {
      "needs_background": "light"
     },
     "output_type": "display_data"
    }
   ],
   "source": [
    "sns.distplot(df['Relationship'])"
   ]
  },
  {
   "cell_type": "code",
   "execution_count": 56,
   "id": "92383cf3",
   "metadata": {},
   "outputs": [
    {
     "data": {
      "text/plain": [
       "<AxesSubplot:xlabel='Race', ylabel='Density'>"
      ]
     },
     "execution_count": 56,
     "metadata": {},
     "output_type": "execute_result"
    },
    {
     "data": {
      "image/png": "[encoded data removed]",
      "text/plain": [
       "<Figure size 432x288 with 1 Axes>"
      ]
     },
     "metadata": {
      "needs_background": "light"
     },
     "output_type": "display_data"
    }
   ],
   "source": [
    "sns.distplot(df['Race'])"
   ]
  },
  {
   "cell_type": "code",
   "execution_count": 57,
   "id": "4717ead7",
   "metadata": {},
   "outputs": [
    {
     "data": {
      "text/plain": [
       "<AxesSubplot:xlabel='Sex', ylabel='Density'>"
      ]
     },
     "execution_count": 57,
     "metadata": {},
     "output_type": "execute_result"
    },
    {
     "data": {
      "image/png": "[encoded data removed]",
      "text/plain": [
       "<Figure size 432x288 with 1 Axes>"
      ]
     },
     "metadata": {
      "needs_background": "light"
     },
     "output_type": "display_data"
    }
   ],
   "source": [
    "sns.distplot(df['Sex'])"
   ]
  },
  {
   "cell_type": "code",
   "execution_count": 58,
   "id": "f5b3a3a1",
   "metadata": {},
   "outputs": [
    {
     "data": {
      "text/plain": [
       "<AxesSubplot:xlabel='Native_country', ylabel='Density'>"
      ]
     },
     "execution_count": 58,
     "metadata": {},
     "output_type": "execute_result"
    },
    {
     "data": {
      "image/png": "[encoded data removed]",
      "text/plain": [
       "<Figure size 432x288 with 1 Axes>"
      ]
     },
     "metadata": {
      "needs_background": "light"
     },
     "output_type": "display_data"
    }
   ],
   "source": [
    "sns.distplot(df['Native_country'])"
   ]
  },
  {
   "cell_type": "code",
   "execution_count": 59,
   "id": "2ce85fb4",
   "metadata": {},
   "outputs": [
    {
     "data": {
      "text/plain": [
       "<AxesSubplot:xlabel='Income', ylabel='Density'>"
      ]
     },
     "execution_count": 59,
     "metadata": {},
     "output_type": "execute_result"
    },
    {
     "data": {
      "image/png": "[encoded data removed]",
      "text/plain": [
       "<Figure size 432x288 with 1 Axes>"
      ]
     },
     "metadata": {
      "needs_background": "light"
     },
     "output_type": "display_data"
    }
   ],
   "source": [
    "sns.distplot(df['Income'])"
   ]
  },
  {
   "cell_type": "code",
   "execution_count": 60,
   "id": "aa9da92e",
   "metadata": {},
   "outputs": [
    {
     "data": {
      "text/plain": [
       "<AxesSubplot:xlabel='Age', ylabel='Density'>"
      ]
     },
     "execution_count": 60,
     "metadata": {},
     "output_type": "execute_result"
    },
    {
     "data": {
      "image/png": "[encoded data removed]",
      "text/plain": [
       "<Figure size 432x288 with 1 Axes>"
      ]
     },
     "metadata": {
      "needs_background": "light"
     },
     "output_type": "display_data"
    }
   ],
   "source": [
    "sns.distplot(df['Age'])"
   ]
  },
  {
   "cell_type": "code",
   "execution_count": 61,
   "id": "8081869b",
   "metadata": {},
   "outputs": [
    {
     "data": {
      "text/plain": [
       "<AxesSubplot:xlabel='Fnlwgt', ylabel='Density'>"
      ]
     },
     "execution_count": 61,
     "metadata": {},
     "output_type": "execute_result"
    },
    {
     "data": {
      "image/png": "[encoded data removed]",
      "text/plain": [
       "<Figure size 432x288 with 1 Axes>"
      ]
     },
     "metadata": {
      "needs_background": "light"
     },
     "output_type": "display_data"
    }
   ],
   "source": [
    "sns.distplot(df['Fnlwgt'])"
   ]
  },
  {
   "cell_type": "code",
   "execution_count": 62,
   "id": "34e227d5",
   "metadata": {},
   "outputs": [
    {
     "data": {
      "text/plain": [
       "<AxesSubplot:xlabel='Capital_gain', ylabel='Density'>"
      ]
     },
     "execution_count": 62,
     "metadata": {},
     "output_type": "execute_result"
    },
    {
     "data": {
      "image/png": "[encoded data removed]",
      "text/plain": [
       "<Figure size 432x288 with 1 Axes>"
      ]
     },
     "metadata": {
      "needs_background": "light"
     },
     "output_type": "display_data"
    }
   ],
   "source": [
    "sns.distplot(df['Capital_gain'])"
   ]
  },
  {
   "cell_type": "code",
   "execution_count": 63,
   "id": "53081caa",
   "metadata": {},
   "outputs": [
    {
     "data": {
      "text/plain": [
       "<AxesSubplot:xlabel='Education_num', ylabel='Density'>"
      ]
     },
     "execution_count": 63,
     "metadata": {},
     "output_type": "execute_result"
    },
    {
     "data": {
      "image/png": "[encoded data removed]",
      "text/plain": [
       "<Figure size 432x288 with 1 Axes>"
      ]
     },
     "metadata": {
      "needs_background": "light"
     },
     "output_type": "display_data"
    }
   ],
   "source": [
    "sns.distplot(df['Education_num'])"
   ]
  },
  {
   "cell_type": "code",
   "execution_count": 64,
   "id": "3d50c54d",
   "metadata": {},
   "outputs": [
    {
     "data": {
      "text/plain": [
       "<AxesSubplot:xlabel='Hours_per_week', ylabel='Density'>"
      ]
     },
     "execution_count": 64,
     "metadata": {},
     "output_type": "execute_result"
    },
    {
     "data": {
      "image/png": "[encoded data removed]",
      "text/plain": [
       "<Figure size 432x288 with 1 Axes>"
      ]
     },
     "metadata": {
      "needs_background": "light"
     },
     "output_type": "display_data"
    }
   ],
   "source": [
    "sns.distplot(df['Hours_per_week'])"
   ]
  },
  {
   "cell_type": "code",
   "execution_count": 65,
   "id": "1205ee96",
   "metadata": {},
   "outputs": [
    {
     "data": {
      "text/plain": [
       "(array([  736.,  2192.,  2317., 17734.,  3119.,  3877.,  1796.,   448.,\n",
       "          202.,   139.]),\n",
       " array([ 1. , 10.8, 20.6, 30.4, 40.2, 50. , 59.8, 69.6, 79.4, 89.2, 99. ]),\n",
       " <BarContainer object of 10 artists>)"
      ]
     },
     "execution_count": 65,
     "metadata": {},
     "output_type": "execute_result"
    },
    {
     "data": {
      "image/png": "[encoded data removed]",
      "text/plain": [
       "<Figure size 432x288 with 1 Axes>"
      ]
     },
     "metadata": {
      "needs_background": "light"
     },
     "output_type": "display_data"
    }
   ],
   "source": [
    "plt.hist('Hours_per_week',data=df, bins=10)"
   ]
  },
  {
   "cell_type": "code",
   "execution_count": 66,
   "id": "6d8b716d",
   "metadata": {},
   "outputs": [
    {
     "data": {
      "text/plain": [
       "(array([  219.,   333.,  1160.,   933.,  1608., 10501.,  8673.,  1067.,\n",
       "         7077.,   989.]),\n",
       " array([ 1. ,  2.5,  4. ,  5.5,  7. ,  8.5, 10. , 11.5, 13. , 14.5, 16. ]),\n",
       " <BarContainer object of 10 artists>)"
      ]
     },
     "execution_count": 66,
     "metadata": {},
     "output_type": "execute_result"
    },
    {
     "data": {
      "image/png": "[encoded data removed]",
      "text/plain": [
       "<Figure size 432x288 with 1 Axes>"
      ]
     },
     "metadata": {
      "needs_background": "light"
     },
     "output_type": "display_data"
    }
   ],
   "source": [
    "plt.hist('Education_num',data=df, bins=10)"
   ]
  },
  {
   "cell_type": "markdown",
   "id": "1687ccc5",
   "metadata": {},
   "source": [
    "we see the outliers so get the box plot"
   ]
  },
  {
   "cell_type": "code",
   "execution_count": 67,
   "id": "c6827557",
   "metadata": {},
   "outputs": [
    {
     "name": "stdout",
     "output_type": "stream",
     "text": [
      "<class 'pandas.core.frame.DataFrame'>\n",
      "RangeIndex: 32560 entries, 0 to 32559\n",
      "Data columns (total 15 columns):\n",
      " #   Column          Non-Null Count  Dtype\n",
      "---  ------          --------------  -----\n",
      " 0   Workclass       32560 non-null  int32\n",
      " 1   Education       32560 non-null  int32\n",
      " 2   Marital_status  32560 non-null  int32\n",
      " 3   Occupation      32560 non-null  int32\n",
      " 4   Relationship    32560 non-null  int32\n",
      " 5   Race            32560 non-null  int32\n",
      " 6   Sex             32560 non-null  int32\n",
      " 7   Native_country  32560 non-null  int32\n",
      " 8   Income          32560 non-null  int32\n",
      " 9   Age             32560 non-null  int64\n",
      " 10  Fnlwgt          32560 non-null  int64\n",
      " 11  Education_num   32560 non-null  int64\n",
      " 12  Capital_gain    32560 non-null  int64\n",
      " 13  Capital_loss    32560 non-null  int64\n",
      " 14  Hours_per_week  32560 non-null  int64\n",
      "dtypes: int32(9), int64(6)\n",
      "memory usage: 2.6 MB\n"
     ]
    }
   ],
   "source": [
    "df.info()"
   ]
  },
  {
   "cell_type": "code",
   "execution_count": 69,
   "id": "b6ee06e9",
   "metadata": {},
   "outputs": [
    {
     "data": {
      "text/plain": [
       "<AxesSubplot:>"
      ]
     },
     "execution_count": 69,
     "metadata": {},
     "output_type": "execute_result"
    },
    {
     "data": {
      "image/png": "[encoded data removed]",
      "text/plain": [
       "<Figure size 432x288 with 1 Axes>"
      ]
     },
     "metadata": {
      "needs_background": "light"
     },
     "output_type": "display_data"
    }
   ],
   "source": [
    "df['Workclass'].plot.box()"
   ]
  },
  {
   "cell_type": "markdown",
   "id": "f96d53ac",
   "metadata": {},
   "source": [
    "outliers are present"
   ]
  },
  {
   "cell_type": "code",
   "execution_count": 70,
   "id": "03848dbb",
   "metadata": {},
   "outputs": [
    {
     "data": {
      "text/plain": [
       "<AxesSubplot:>"
      ]
     },
     "execution_count": 70,
     "metadata": {},
     "output_type": "execute_result"
    },
    {
     "data": {
      "image/png": "[encoded data removed]",
      "text/plain": [
       "<Figure size 432x288 with 1 Axes>"
      ]
     },
     "metadata": {
      "needs_background": "light"
     },
     "output_type": "display_data"
    }
   ],
   "source": [
    "df['Education'].plot.box()"
   ]
  },
  {
   "cell_type": "markdown",
   "id": "949e906e",
   "metadata": {},
   "source": [
    "outliers are present"
   ]
  },
  {
   "cell_type": "code",
   "execution_count": 72,
   "id": "2afbf3a0",
   "metadata": {},
   "outputs": [
    {
     "data": {
      "text/plain": [
       "<AxesSubplot:>"
      ]
     },
     "execution_count": 72,
     "metadata": {},
     "output_type": "execute_result"
    },
    {
     "data": {
      "image/png": "[encoded data removed]",
      "text/plain": [
       "<Figure size 432x288 with 1 Axes>"
      ]
     },
     "metadata": {
      "needs_background": "light"
     },
     "output_type": "display_data"
    }
   ],
   "source": [
    "df['Marital_status'].plot.box()"
   ]
  },
  {
   "cell_type": "code",
   "execution_count": 74,
   "id": "d891dc90",
   "metadata": {},
   "outputs": [
    {
     "data": {
      "text/plain": [
       "<AxesSubplot:>"
      ]
     },
     "execution_count": 74,
     "metadata": {},
     "output_type": "execute_result"
    },
    {
     "data": {
      "image/png": "[encoded data removed]",
      "text/plain": [
       "<Figure size 432x288 with 1 Axes>"
      ]
     },
     "metadata": {
      "needs_background": "light"
     },
     "output_type": "display_data"
    }
   ],
   "source": [
    "df['Occupation'].plot.box()"
   ]
  },
  {
   "cell_type": "code",
   "execution_count": 75,
   "id": "93986e4c",
   "metadata": {},
   "outputs": [
    {
     "data": {
      "text/plain": [
       "<AxesSubplot:>"
      ]
     },
     "execution_count": 75,
     "metadata": {},
     "output_type": "execute_result"
    },
    {
     "data": {
      "image/png": "[encoded data removed]",
      "text/plain": [
       "<Figure size 432x288 with 1 Axes>"
      ]
     },
     "metadata": {
      "needs_background": "light"
     },
     "output_type": "display_data"
    }
   ],
   "source": [
    "df['Relationship'].plot.box()"
   ]
  },
  {
   "cell_type": "code",
   "execution_count": 76,
   "id": "b16db434",
   "metadata": {},
   "outputs": [
    {
     "data": {
      "text/plain": [
       "<AxesSubplot:>"
      ]
     },
     "execution_count": 76,
     "metadata": {},
     "output_type": "execute_result"
    },
    {
     "data": {
      "image/png": "[encoded data removed]",
      "text/plain": [
       "<Figure size 432x288 with 1 Axes>"
      ]
     },
     "metadata": {
      "needs_background": "light"
     },
     "output_type": "display_data"
    }
   ],
   "source": [
    "df['Race'].plot.box()"
   ]
  },
  {
   "cell_type": "markdown",
   "id": "8c199126",
   "metadata": {},
   "source": [
    "outliers are present"
   ]
  },
  {
   "cell_type": "code",
   "execution_count": 77,
   "id": "e9793071",
   "metadata": {},
   "outputs": [
    {
     "data": {
      "text/plain": [
       "<AxesSubplot:>"
      ]
     },
     "execution_count": 77,
     "metadata": {},
     "output_type": "execute_result"
    },
    {
     "data": {
      "image/png": "[encoded data removed]",
      "text/plain": [
       "<Figure size 432x288 with 1 Axes>"
      ]
     },
     "metadata": {
      "needs_background": "light"
     },
     "output_type": "display_data"
    }
   ],
   "source": [
    "df['Sex'].plot.box()"
   ]
  },
  {
   "cell_type": "code",
   "execution_count": 78,
   "id": "fa164c51",
   "metadata": {},
   "outputs": [
    {
     "data": {
      "text/plain": [
       "<AxesSubplot:>"
      ]
     },
     "execution_count": 78,
     "metadata": {},
     "output_type": "execute_result"
    },
    {
     "data": {
      "image/png": "[encoded data removed]",
      "text/plain": [
       "<Figure size 432x288 with 1 Axes>"
      ]
     },
     "metadata": {
      "needs_background": "light"
     },
     "output_type": "display_data"
    }
   ],
   "source": [
    "df['Native_country'].plot.box()"
   ]
  },
  {
   "cell_type": "markdown",
   "id": "4964df83",
   "metadata": {},
   "source": [
    "outliers are present"
   ]
  },
  {
   "cell_type": "code",
   "execution_count": 79,
   "id": "55cf1943",
   "metadata": {},
   "outputs": [
    {
     "data": {
      "text/plain": [
       "<AxesSubplot:>"
      ]
     },
     "execution_count": 79,
     "metadata": {},
     "output_type": "execute_result"
    },
    {
     "data": {
      "image/png": "[encoded data removed]",
      "text/plain": [
       "<Figure size 432x288 with 1 Axes>"
      ]
     },
     "metadata": {
      "needs_background": "light"
     },
     "output_type": "display_data"
    }
   ],
   "source": [
    "df['Income'].plot.box()"
   ]
  },
  {
   "cell_type": "code",
   "execution_count": 81,
   "id": "aa7e335c",
   "metadata": {},
   "outputs": [
    {
     "data": {
      "text/plain": [
       "<AxesSubplot:>"
      ]
     },
     "execution_count": 81,
     "metadata": {},
     "output_type": "execute_result"
    },
    {
     "data": {
      "image/png": "[encoded data removed]",
      "text/plain": [
       "<Figure size 432x288 with 1 Axes>"
      ]
     },
     "metadata": {
      "needs_background": "light"
     },
     "output_type": "display_data"
    }
   ],
   "source": [
    "df['Age'].plot.box()"
   ]
  },
  {
   "cell_type": "markdown",
   "id": "4e53486c",
   "metadata": {},
   "source": [
    "outliers are present"
   ]
  },
  {
   "cell_type": "code",
   "execution_count": 82,
   "id": "1fdf11ab",
   "metadata": {},
   "outputs": [
    {
     "data": {
      "text/plain": [
       "<AxesSubplot:>"
      ]
     },
     "execution_count": 82,
     "metadata": {},
     "output_type": "execute_result"
    },
    {
     "data": {
      "image/png": "[encoded data removed]",
      "text/plain": [
       "<Figure size 432x288 with 1 Axes>"
      ]
     },
     "metadata": {
      "needs_background": "light"
     },
     "output_type": "display_data"
    }
   ],
   "source": [
    "df['Fnlwgt'].plot.box()"
   ]
  },
  {
   "cell_type": "markdown",
   "id": "59bab424",
   "metadata": {},
   "source": [
    "outliers are present"
   ]
  },
  {
   "cell_type": "code",
   "execution_count": 83,
   "id": "1bb8d249",
   "metadata": {},
   "outputs": [
    {
     "data": {
      "text/plain": [
       "<AxesSubplot:>"
      ]
     },
     "execution_count": 83,
     "metadata": {},
     "output_type": "execute_result"
    },
    {
     "data": {
      "image/png": "[encoded data removed]",
      "text/plain": [
       "<Figure size 432x288 with 1 Axes>"
      ]
     },
     "metadata": {
      "needs_background": "light"
     },
     "output_type": "display_data"
    }
   ],
   "source": [
    "df['Education_num'].plot.box()"
   ]
  },
  {
   "cell_type": "markdown",
   "id": "189748c9",
   "metadata": {},
   "source": [
    "outliers are present"
   ]
  },
  {
   "cell_type": "code",
   "execution_count": 84,
   "id": "cab35fcb",
   "metadata": {},
   "outputs": [
    {
     "data": {
      "text/plain": [
       "<AxesSubplot:>"
      ]
     },
     "execution_count": 84,
     "metadata": {},
     "output_type": "execute_result"
    },
    {
     "data": {
      "image/png": "[encoded data removed]",
      "text/plain": [
       "<Figure size 432x288 with 1 Axes>"
      ]
     },
     "metadata": {
      "needs_background": "light"
     },
     "output_type": "display_data"
    }
   ],
   "source": [
    "df['Capital_gain'].plot.box()"
   ]
  },
  {
   "cell_type": "markdown",
   "id": "937bef03",
   "metadata": {},
   "source": [
    "outliers are present"
   ]
  },
  {
   "cell_type": "code",
   "execution_count": 85,
   "id": "9cb3588c",
   "metadata": {},
   "outputs": [
    {
     "data": {
      "text/plain": [
       "<AxesSubplot:>"
      ]
     },
     "execution_count": 85,
     "metadata": {},
     "output_type": "execute_result"
    },
    {
     "data": {
      "image/png": "[encoded data removed]",
      "text/plain": [
       "<Figure size 432x288 with 1 Axes>"
      ]
     },
     "metadata": {
      "needs_background": "light"
     },
     "output_type": "display_data"
    }
   ],
   "source": [
    "df['Capital_loss'].plot.box()"
   ]
  },
  {
   "cell_type": "markdown",
   "id": "8ec0fe4f",
   "metadata": {},
   "source": [
    "outliers are present"
   ]
  },
  {
   "cell_type": "code",
   "execution_count": 86,
   "id": "b1f422fa",
   "metadata": {},
   "outputs": [
    {
     "data": {
      "text/plain": [
       "<AxesSubplot:>"
      ]
     },
     "execution_count": 86,
     "metadata": {},
     "output_type": "execute_result"
    },
    {
     "data": {
      "image/png": "[encoded data removed]",
      "text/plain": [
       "<Figure size 432x288 with 1 Axes>"
      ]
     },
     "metadata": {
      "needs_background": "light"
     },
     "output_type": "display_data"
    }
   ],
   "source": [
    "df['Hours_per_week'].plot.box()"
   ]
  },
  {
   "cell_type": "markdown",
   "id": "1e1cc738",
   "metadata": {},
   "source": [
    "outliers are present"
   ]
  },
  {
   "cell_type": "markdown",
   "id": "334b7b06",
   "metadata": {},
   "source": [
    "# using the zscore removing the outliers."
   ]
  },
  {
   "cell_type": "code",
   "execution_count": 89,
   "id": "7cd9c7b2",
   "metadata": {},
   "outputs": [
    {
     "data": {
      "text/plain": [
       "(array([    3,     9,    10, ..., 32532, 32550, 32552], dtype=int64),\n",
       " array([ 7, 14,  5, ...,  5,  5,  5], dtype=int64))"
      ]
     },
     "execution_count": 89,
     "metadata": {},
     "output_type": "execute_result"
    }
   ],
   "source": [
    "from scipy.stats import zscore\n",
    "import numpy as np\n",
    "z=np.abs(zscore(df))\n",
    "threshold=3\n",
    "np.where(z>3)"
   ]
  },
  {
   "cell_type": "code",
   "execution_count": 90,
   "id": "03227038",
   "metadata": {},
   "outputs": [
    {
     "data": {
      "text/html": [
       "<div>\n",
       "<style scoped>\n",
       "    .dataframe tbody tr th:only-of-type {\n",
       "        vertical-align: middle;\n",
       "    }\n",
       "\n",
       "    .dataframe tbody tr th {\n",
       "        vertical-align: top;\n",
       "    }\n",
       "\n",
       "    .dataframe thead th {\n",
       "        text-align: right;\n",
       "    }\n",
       "</style>\n",
       "<table border=\"1\" class=\"dataframe\">\n",
       "  <thead>\n",
       "    <tr style=\"text-align: right;\">\n",
       "      <th></th>\n",
       "      <th>Workclass</th>\n",
       "      <th>Education</th>\n",
       "      <th>Marital_status</th>\n",
       "      <th>Occupation</th>\n",
       "      <th>Relationship</th>\n",
       "      <th>Race</th>\n",
       "      <th>Sex</th>\n",
       "      <th>Native_country</th>\n",
       "      <th>Income</th>\n",
       "      <th>Age</th>\n",
       "      <th>Fnlwgt</th>\n",
       "      <th>Education_num</th>\n",
       "      <th>Capital_gain</th>\n",
       "      <th>Capital_loss</th>\n",
       "      <th>Hours_per_week</th>\n",
       "    </tr>\n",
       "  </thead>\n",
       "  <tbody>\n",
       "    <tr>\n",
       "      <th>0</th>\n",
       "      <td>6</td>\n",
       "      <td>9</td>\n",
       "      <td>2</td>\n",
       "      <td>4</td>\n",
       "      <td>0</td>\n",
       "      <td>4</td>\n",
       "      <td>1</td>\n",
       "      <td>39</td>\n",
       "      <td>0</td>\n",
       "      <td>50</td>\n",
       "      <td>83311</td>\n",
       "      <td>13</td>\n",
       "      <td>0</td>\n",
       "      <td>0</td>\n",
       "      <td>13</td>\n",
       "    </tr>\n",
       "    <tr>\n",
       "      <th>1</th>\n",
       "      <td>4</td>\n",
       "      <td>11</td>\n",
       "      <td>0</td>\n",
       "      <td>6</td>\n",
       "      <td>1</td>\n",
       "      <td>4</td>\n",
       "      <td>1</td>\n",
       "      <td>39</td>\n",
       "      <td>0</td>\n",
       "      <td>38</td>\n",
       "      <td>215646</td>\n",
       "      <td>9</td>\n",
       "      <td>0</td>\n",
       "      <td>0</td>\n",
       "      <td>40</td>\n",
       "    </tr>\n",
       "    <tr>\n",
       "      <th>2</th>\n",
       "      <td>4</td>\n",
       "      <td>1</td>\n",
       "      <td>2</td>\n",
       "      <td>6</td>\n",
       "      <td>0</td>\n",
       "      <td>2</td>\n",
       "      <td>1</td>\n",
       "      <td>39</td>\n",
       "      <td>0</td>\n",
       "      <td>53</td>\n",
       "      <td>234721</td>\n",
       "      <td>7</td>\n",
       "      <td>0</td>\n",
       "      <td>0</td>\n",
       "      <td>40</td>\n",
       "    </tr>\n",
       "    <tr>\n",
       "      <th>4</th>\n",
       "      <td>4</td>\n",
       "      <td>12</td>\n",
       "      <td>2</td>\n",
       "      <td>4</td>\n",
       "      <td>5</td>\n",
       "      <td>4</td>\n",
       "      <td>0</td>\n",
       "      <td>39</td>\n",
       "      <td>0</td>\n",
       "      <td>37</td>\n",
       "      <td>284582</td>\n",
       "      <td>14</td>\n",
       "      <td>0</td>\n",
       "      <td>0</td>\n",
       "      <td>40</td>\n",
       "    </tr>\n",
       "    <tr>\n",
       "      <th>5</th>\n",
       "      <td>4</td>\n",
       "      <td>6</td>\n",
       "      <td>3</td>\n",
       "      <td>8</td>\n",
       "      <td>1</td>\n",
       "      <td>2</td>\n",
       "      <td>0</td>\n",
       "      <td>23</td>\n",
       "      <td>0</td>\n",
       "      <td>49</td>\n",
       "      <td>160187</td>\n",
       "      <td>5</td>\n",
       "      <td>0</td>\n",
       "      <td>0</td>\n",
       "      <td>16</td>\n",
       "    </tr>\n",
       "    <tr>\n",
       "      <th>...</th>\n",
       "      <td>...</td>\n",
       "      <td>...</td>\n",
       "      <td>...</td>\n",
       "      <td>...</td>\n",
       "      <td>...</td>\n",
       "      <td>...</td>\n",
       "      <td>...</td>\n",
       "      <td>...</td>\n",
       "      <td>...</td>\n",
       "      <td>...</td>\n",
       "      <td>...</td>\n",
       "      <td>...</td>\n",
       "      <td>...</td>\n",
       "      <td>...</td>\n",
       "      <td>...</td>\n",
       "    </tr>\n",
       "    <tr>\n",
       "      <th>32555</th>\n",
       "      <td>4</td>\n",
       "      <td>7</td>\n",
       "      <td>2</td>\n",
       "      <td>13</td>\n",
       "      <td>5</td>\n",
       "      <td>4</td>\n",
       "      <td>0</td>\n",
       "      <td>39</td>\n",
       "      <td>0</td>\n",
       "      <td>27</td>\n",
       "      <td>257302</td>\n",
       "      <td>12</td>\n",
       "      <td>0</td>\n",
       "      <td>0</td>\n",
       "      <td>38</td>\n",
       "    </tr>\n",
       "    <tr>\n",
       "      <th>32556</th>\n",
       "      <td>4</td>\n",
       "      <td>11</td>\n",
       "      <td>2</td>\n",
       "      <td>7</td>\n",
       "      <td>0</td>\n",
       "      <td>4</td>\n",
       "      <td>1</td>\n",
       "      <td>39</td>\n",
       "      <td>1</td>\n",
       "      <td>40</td>\n",
       "      <td>154374</td>\n",
       "      <td>9</td>\n",
       "      <td>0</td>\n",
       "      <td>0</td>\n",
       "      <td>40</td>\n",
       "    </tr>\n",
       "    <tr>\n",
       "      <th>32557</th>\n",
       "      <td>4</td>\n",
       "      <td>11</td>\n",
       "      <td>6</td>\n",
       "      <td>1</td>\n",
       "      <td>4</td>\n",
       "      <td>4</td>\n",
       "      <td>0</td>\n",
       "      <td>39</td>\n",
       "      <td>0</td>\n",
       "      <td>58</td>\n",
       "      <td>151910</td>\n",
       "      <td>9</td>\n",
       "      <td>0</td>\n",
       "      <td>0</td>\n",
       "      <td>40</td>\n",
       "    </tr>\n",
       "    <tr>\n",
       "      <th>32558</th>\n",
       "      <td>4</td>\n",
       "      <td>11</td>\n",
       "      <td>4</td>\n",
       "      <td>1</td>\n",
       "      <td>3</td>\n",
       "      <td>4</td>\n",
       "      <td>1</td>\n",
       "      <td>39</td>\n",
       "      <td>0</td>\n",
       "      <td>22</td>\n",
       "      <td>201490</td>\n",
       "      <td>9</td>\n",
       "      <td>0</td>\n",
       "      <td>0</td>\n",
       "      <td>20</td>\n",
       "    </tr>\n",
       "    <tr>\n",
       "      <th>32559</th>\n",
       "      <td>5</td>\n",
       "      <td>11</td>\n",
       "      <td>2</td>\n",
       "      <td>4</td>\n",
       "      <td>5</td>\n",
       "      <td>4</td>\n",
       "      <td>0</td>\n",
       "      <td>39</td>\n",
       "      <td>1</td>\n",
       "      <td>52</td>\n",
       "      <td>287927</td>\n",
       "      <td>9</td>\n",
       "      <td>15024</td>\n",
       "      <td>0</td>\n",
       "      <td>40</td>\n",
       "    </tr>\n",
       "  </tbody>\n",
       "</table>\n",
       "<p>27417 rows × 15 columns</p>\n",
       "</div>"
      ],
      "text/plain": [
       "       Workclass  Education  Marital_status  Occupation  Relationship  Race  \\\n",
       "0              6          9               2           4             0     4   \n",
       "1              4         11               0           6             1     4   \n",
       "2              4          1               2           6             0     2   \n",
       "4              4         12               2           4             5     4   \n",
       "5              4          6               3           8             1     2   \n",
       "...          ...        ...             ...         ...           ...   ...   \n",
       "32555          4          7               2          13             5     4   \n",
       "32556          4         11               2           7             0     4   \n",
       "32557          4         11               6           1             4     4   \n",
       "32558          4         11               4           1             3     4   \n",
       "32559          5         11               2           4             5     4   \n",
       "\n",
       "       Sex  Native_country  Income  Age  Fnlwgt  Education_num  Capital_gain  \\\n",
       "0        1              39       0   50   83311             13             0   \n",
       "1        1              39       0   38  215646              9             0   \n",
       "2        1              39       0   53  234721              7             0   \n",
       "4        0              39       0   37  284582             14             0   \n",
       "5        0              23       0   49  160187              5             0   \n",
       "...    ...             ...     ...  ...     ...            ...           ...   \n",
       "32555    0              39       0   27  257302             12             0   \n",
       "32556    1              39       1   40  154374              9             0   \n",
       "32557    0              39       0   58  151910              9             0   \n",
       "32558    1              39       0   22  201490              9             0   \n",
       "32559    0              39       1   52  287927              9         15024   \n",
       "\n",
       "       Capital_loss  Hours_per_week  \n",
       "0                 0              13  \n",
       "1                 0              40  \n",
       "2                 0              40  \n",
       "4                 0              40  \n",
       "5                 0              16  \n",
       "...             ...             ...  \n",
       "32555             0              38  \n",
       "32556             0              40  \n",
       "32557             0              40  \n",
       "32558             0              20  \n",
       "32559             0              40  \n",
       "\n",
       "[27417 rows x 15 columns]"
      ]
     },
     "execution_count": 90,
     "metadata": {},
     "output_type": "execute_result"
    }
   ],
   "source": [
    "df1=df[(z<3).all(axis=1)]\n",
    "df1"
   ]
  },
  {
   "cell_type": "code",
   "execution_count": 99,
   "id": "3963424c",
   "metadata": {},
   "outputs": [
    {
     "name": "stdout",
     "output_type": "stream",
     "text": [
      "old dataframe (32560, 15)\n",
      "new dataframe (27417, 15)\n",
      "total dropped rows 5143\n"
     ]
    }
   ],
   "source": [
    "df1=df[(z<3).all(axis=1)]\n",
    "print('old dataframe', df.shape)\n",
    "print('new dataframe',df1.shape)\n",
    "print('total dropped rows', df.shape[0]-df1.shape[0])"
   ]
  },
  {
   "cell_type": "markdown",
   "id": "251bd4e9",
   "metadata": {},
   "source": [
    "# percentage loss data"
   ]
  },
  {
   "cell_type": "code",
   "execution_count": 100,
   "id": "66cade98",
   "metadata": {},
   "outputs": [
    {
     "name": "stdout",
     "output_type": "stream",
     "text": [
      "15.795454545454547 %\n"
     ]
    }
   ],
   "source": [
    "loss_percent=(32560-27417)/32560*100\n",
    "print(loss_percent, '%')"
   ]
  },
  {
   "cell_type": "code",
   "execution_count": 101,
   "id": "f1d28a49",
   "metadata": {},
   "outputs": [],
   "source": [
    "from sklearn.preprocessing import power_transform\n",
    "x=power_transform(x,method='yeo-johnson')"
   ]
  },
  {
   "cell_type": "code",
   "execution_count": 102,
   "id": "2bf007c4",
   "metadata": {},
   "outputs": [
    {
     "data": {
      "text/plain": [
       "array([[ 1.6452641 , -0.53885469, -0.40164314, ..., -0.29704426,\n",
       "        -0.04054646, -2.2500184 ],\n",
       "       [ 0.02043118,  0.0143002 , -1.7206208 , ..., -0.29704426,\n",
       "        -0.04054646, -0.02842845],\n",
       "       [ 0.02043118, -1.91923437, -0.40164314, ..., -0.29704426,\n",
       "        -0.04054646, -0.02842845],\n",
       "       ...,\n",
       "       [ 0.02043118,  0.0143002 ,  2.2350409 , ..., -0.29704426,\n",
       "        -0.04054646, -0.02842845],\n",
       "       [ 0.02043118,  0.0143002 ,  0.91045284, ..., -0.29704426,\n",
       "        -0.04054646, -1.74035651],\n",
       "       [ 0.80204545,  0.0143002 , -0.40164314, ...,  3.36650165,\n",
       "        -0.04054646, -0.02842845]])"
      ]
     },
     "execution_count": 102,
     "metadata": {},
     "output_type": "execute_result"
    }
   ],
   "source": [
    "x"
   ]
  },
  {
   "cell_type": "code",
   "execution_count": 103,
   "id": "ac2e7b82",
   "metadata": {},
   "outputs": [
    {
     "data": {
      "text/plain": [
       "0        0\n",
       "1        0\n",
       "2        0\n",
       "4        0\n",
       "5        0\n",
       "        ..\n",
       "32555    0\n",
       "32556    1\n",
       "32557    0\n",
       "32558    0\n",
       "32559    1\n",
       "Name: Income, Length: 27417, dtype: int32"
      ]
     },
     "execution_count": 103,
     "metadata": {},
     "output_type": "execute_result"
    }
   ],
   "source": [
    "y"
   ]
  },
  {
   "cell_type": "code",
   "execution_count": 104,
   "id": "2a1c03dd",
   "metadata": {},
   "outputs": [
    {
     "data": {
      "text/plain": [
       "0      0.036929\n",
       "1     -0.051002\n",
       "2     -0.044351\n",
       "3     -0.041958\n",
       "4      0.057919\n",
       "5     -2.533432\n",
       "6     -0.684115\n",
       "7      5.689972\n",
       "8      0.008656\n",
       "9      0.014425\n",
       "10    -0.118886\n",
       "11     3.069625\n",
       "12    24.623864\n",
       "13     0.016155\n",
       "dtype: float64"
      ]
     },
     "execution_count": 104,
     "metadata": {},
     "output_type": "execute_result"
    }
   ],
   "source": [
    "pd.DataFrame(x).skew()"
   ]
  },
  {
   "cell_type": "code",
   "execution_count": 105,
   "id": "0081ffc6",
   "metadata": {},
   "outputs": [
    {
     "data": {
      "text/plain": [
       "array([[ 1.6452641 , -0.53885469, -0.40164314, ..., -0.29704426,\n",
       "        -0.04054646, -2.2500184 ],\n",
       "       [ 0.02043118,  0.0143002 , -1.7206208 , ..., -0.29704426,\n",
       "        -0.04054646, -0.02842845],\n",
       "       [ 0.02043118, -1.91923437, -0.40164314, ..., -0.29704426,\n",
       "        -0.04054646, -0.02842845],\n",
       "       ...,\n",
       "       [ 0.02043118,  0.0143002 ,  2.2350409 , ..., -0.29704426,\n",
       "        -0.04054646, -0.02842845],\n",
       "       [ 0.02043118,  0.0143002 ,  0.91045284, ..., -0.29704426,\n",
       "        -0.04054646, -1.74035651],\n",
       "       [ 0.80204545,  0.0143002 , -0.40164314, ...,  3.36650165,\n",
       "        -0.04054646, -0.02842845]])"
      ]
     },
     "execution_count": 105,
     "metadata": {},
     "output_type": "execute_result"
    }
   ],
   "source": [
    "from sklearn.preprocessing import StandardScaler\n",
    "sc=StandardScaler()\n",
    "x=sc.fit_transform(x)\n",
    "x"
   ]
  },
  {
   "cell_type": "code",
   "execution_count": 106,
   "id": "684d2eb2",
   "metadata": {},
   "outputs": [],
   "source": [
    "from sklearn.model_selection import train_test_split\n",
    "from sklearn.linear_model import LogisticRegression\n",
    "lr=LogisticRegression()\n",
    "from sklearn.metrics import accuracy_score"
   ]
  },
  {
   "cell_type": "code",
   "execution_count": 107,
   "id": "7e6e4443",
   "metadata": {},
   "outputs": [],
   "source": [
    "x_train,x_test,y_train,y_test=train_test_split(x,y,test_size=0.20, random_state=87)"
   ]
  },
  {
   "cell_type": "code",
   "execution_count": 108,
   "id": "75152030",
   "metadata": {},
   "outputs": [],
   "source": [
    "lr.fit(x_train,y_train)\n",
    "pred_train=lr.predict(x_train)\n",
    "pred_test=lr.predict(x_test)"
   ]
  },
  {
   "cell_type": "code",
   "execution_count": 109,
   "id": "4cd681fe",
   "metadata": {},
   "outputs": [
    {
     "name": "stdout",
     "output_type": "stream",
     "text": [
      "              precision    recall  f1-score   support\n",
      "\n",
      "           0       0.85      0.94      0.89      4223\n",
      "           1       0.68      0.43      0.52      1261\n",
      "\n",
      "    accuracy                           0.82      5484\n",
      "   macro avg       0.76      0.68      0.71      5484\n",
      "weighted avg       0.81      0.82      0.81      5484\n",
      "\n"
     ]
    }
   ],
   "source": [
    "from sklearn.metrics import classification_report\n",
    "print(classification_report(y_test,pred_test))"
   ]
  },
  {
   "cell_type": "markdown",
   "id": "5631f594",
   "metadata": {},
   "source": [
    "# cross validation score for logistic regression"
   ]
  },
  {
   "cell_type": "code",
   "execution_count": 110,
   "id": "dc515052",
   "metadata": {},
   "outputs": [
    {
     "name": "stdout",
     "output_type": "stream",
     "text": [
      "At cv 2\n",
      "cross validation score is  82.87924107543382\n",
      "accuracy score is 82.20277169948942\n",
      "\n",
      "\n",
      "At cv 3\n",
      "cross validation score is  82.84640916219863\n",
      "accuracy score is 82.20277169948942\n",
      "\n",
      "\n",
      "At cv 4\n",
      "cross validation score is  82.86830436719431\n",
      "accuracy score is 82.20277169948942\n",
      "\n",
      "\n",
      "At cv 5\n",
      "cross validation score is  82.89748513840205\n",
      "accuracy score is 82.20277169948942\n",
      "\n",
      "\n",
      "At cv 6\n",
      "cross validation score is  82.87194854359741\n",
      "accuracy score is 82.20277169948942\n",
      "\n",
      "\n",
      "At cv 7\n",
      "cross validation score is  82.89019070415632\n",
      "accuracy score is 82.20277169948942\n",
      "\n",
      "\n",
      "At cv 8\n",
      "cross validation score is  82.90844757926534\n",
      "accuracy score is 82.20277169948942\n",
      "\n",
      "\n",
      "At cv 9\n",
      "cross validation score is  82.87562005226883\n",
      "accuracy score is 82.20277169948942\n",
      "\n",
      "\n"
     ]
    }
   ],
   "source": [
    "pred_lr=lr.predict(x_test)\n",
    "from sklearn.model_selection import cross_val_score\n",
    "lss=accuracy_score(y_test,pred_lr)\n",
    "for j in range(2,10):\n",
    "    lsscore=cross_val_score(lr,x,y,cv=j)\n",
    "    lsc=lsscore.mean()\n",
    "    print('At cv', j)\n",
    "    print('cross validation score is ',lsc*100)\n",
    "    print('accuracy score is', lss*100)\n",
    "    print('\\n')"
   ]
  },
  {
   "cell_type": "code",
   "execution_count": 111,
   "id": "94509a82",
   "metadata": {},
   "outputs": [
    {
     "name": "stdout",
     "output_type": "stream",
     "text": [
      "the cv score is- 0.8287194854359741 \n",
      " the accuracy score is- 0.8220277169948942\n"
     ]
    }
   ],
   "source": [
    "# select on cv value\n",
    "lsscore_selected=cross_val_score(lr,x,y,cv=6).mean()\n",
    "print('the cv score is-',lsscore_selected,'\\n the accuracy score is-',lss)"
   ]
  },
  {
   "cell_type": "markdown",
   "id": "cbed38aa",
   "metadata": {},
   "source": [
    "# AUC ROC Curve"
   ]
  },
  {
   "cell_type": "code",
   "execution_count": 112,
   "id": "20cf0ce5",
   "metadata": {},
   "outputs": [
    {
     "data": {
      "image/png": "[encoded data removed]",
      "text/plain": [
       "<Figure size 432x288 with 1 Axes>"
      ]
     },
     "metadata": {
      "needs_background": "light"
     },
     "output_type": "display_data"
    }
   ],
   "source": [
    "from sklearn.metrics import roc_curve, auc\n",
    "fpr, tpr, thresholds=roc_curve(pred_test, y_test)\n",
    "roc_auc =auc(fpr,tpr)\n",
    "\n",
    "plt.figure()\n",
    "plt.plot(fpr, tpr, color='darkorange', lw=10,label='Roc curve(area=%0.2f)'% roc_auc)\n",
    "plt.plot([0,1],[0,1],color='navy',lw=10, linestyle='--')\n",
    "plt.xlim([0.0,1.0])\n",
    "plt.ylim([0.0,1.05])\n",
    "plt.xlabel('false positive rate')\n",
    "plt.ylabel('true positive rate')\n",
    "plt.title('reciver operating characterstics')\n",
    "plt.legend(loc='lower right')\n",
    "plt.show()"
   ]
  },
  {
   "cell_type": "markdown",
   "id": "08749c8f",
   "metadata": {},
   "source": [
    "since the model without outliers performing well we will select that dataframe."
   ]
  },
  {
   "cell_type": "code",
   "execution_count": 113,
   "id": "cb368f06",
   "metadata": {},
   "outputs": [],
   "source": [
    "import pickle\n",
    "filename='income.pkl'\n",
    "pickle.dump(lr, open(filename, 'wb'))"
   ]
  },
  {
   "cell_type": "markdown",
   "id": "701b5571",
   "metadata": {},
   "source": [
    "conclusion"
   ]
  },
  {
   "cell_type": "code",
   "execution_count": 114,
   "id": "49841a30",
   "metadata": {},
   "outputs": [
    {
     "data": {
      "text/html": [
       "<div>\n",
       "<style scoped>\n",
       "    .dataframe tbody tr th:only-of-type {\n",
       "        vertical-align: middle;\n",
       "    }\n",
       "\n",
       "    .dataframe tbody tr th {\n",
       "        vertical-align: top;\n",
       "    }\n",
       "\n",
       "    .dataframe thead th {\n",
       "        text-align: right;\n",
       "    }\n",
       "</style>\n",
       "<table border=\"1\" class=\"dataframe\">\n",
       "  <thead>\n",
       "    <tr style=\"text-align: right;\">\n",
       "      <th></th>\n",
       "      <th>original</th>\n",
       "      <th>predicted</th>\n",
       "    </tr>\n",
       "  </thead>\n",
       "  <tbody>\n",
       "    <tr>\n",
       "      <th>0</th>\n",
       "      <td>1</td>\n",
       "      <td>1</td>\n",
       "    </tr>\n",
       "    <tr>\n",
       "      <th>1</th>\n",
       "      <td>0</td>\n",
       "      <td>0</td>\n",
       "    </tr>\n",
       "    <tr>\n",
       "      <th>2</th>\n",
       "      <td>0</td>\n",
       "      <td>0</td>\n",
       "    </tr>\n",
       "    <tr>\n",
       "      <th>3</th>\n",
       "      <td>0</td>\n",
       "      <td>0</td>\n",
       "    </tr>\n",
       "    <tr>\n",
       "      <th>4</th>\n",
       "      <td>0</td>\n",
       "      <td>0</td>\n",
       "    </tr>\n",
       "    <tr>\n",
       "      <th>...</th>\n",
       "      <td>...</td>\n",
       "      <td>...</td>\n",
       "    </tr>\n",
       "    <tr>\n",
       "      <th>5479</th>\n",
       "      <td>0</td>\n",
       "      <td>0</td>\n",
       "    </tr>\n",
       "    <tr>\n",
       "      <th>5480</th>\n",
       "      <td>1</td>\n",
       "      <td>0</td>\n",
       "    </tr>\n",
       "    <tr>\n",
       "      <th>5481</th>\n",
       "      <td>0</td>\n",
       "      <td>0</td>\n",
       "    </tr>\n",
       "    <tr>\n",
       "      <th>5482</th>\n",
       "      <td>0</td>\n",
       "      <td>0</td>\n",
       "    </tr>\n",
       "    <tr>\n",
       "      <th>5483</th>\n",
       "      <td>1</td>\n",
       "      <td>1</td>\n",
       "    </tr>\n",
       "  </tbody>\n",
       "</table>\n",
       "<p>5484 rows × 2 columns</p>\n",
       "</div>"
      ],
      "text/plain": [
       "      original  predicted\n",
       "0            1          1\n",
       "1            0          0\n",
       "2            0          0\n",
       "3            0          0\n",
       "4            0          0\n",
       "...        ...        ...\n",
       "5479         0          0\n",
       "5480         1          0\n",
       "5481         0          0\n",
       "5482         0          0\n",
       "5483         1          1\n",
       "\n",
       "[5484 rows x 2 columns]"
      ]
     },
     "execution_count": 114,
     "metadata": {},
     "output_type": "execute_result"
    }
   ],
   "source": [
    "import numpy as np\n",
    "a=np.array(y_test)\n",
    "predicted=np.array(lr.predict(x_test))\n",
    "df_com=pd.DataFrame({'original':a, 'predicted':predicted}, index=range(len(a)))\n",
    "df_comA"
   ]
  },
  {
   "cell_type": "markdown",
   "id": "c59f7538",
   "metadata": {},
   "source": [
    "# our project will done.."
   ]
  },
  {
   "cell_type": "markdown",
   "id": "c655d24e",
   "metadata": {},
   "source": [
    "# next is for only practice."
   ]
  },
  {
   "cell_type": "code",
   "execution_count": 115,
   "id": "5a97a655",
   "metadata": {},
   "outputs": [],
   "source": [
    "from sklearn.linear_model import LogisticRegression\n",
    "from sklearn.metrics import accuracy_score\n",
    "from sklearn.metrics import confusion_matrix, classification_report\n",
    "from sklearn.model_selection import train_test_split"
   ]
  },
  {
   "cell_type": "code",
   "execution_count": 121,
   "id": "216c6b6d",
   "metadata": {},
   "outputs": [
    {
     "name": "stdout",
     "output_type": "stream",
     "text": [
      "accuracy 0.8322392414296135 random state 1\n",
      "accuracy 0.8347921225382933 random state 2\n",
      "accuracy 0.8298687089715536 random state 3\n",
      "accuracy 0.8282275711159738 random state 4\n",
      "accuracy 0.8260393873085339 random state 5\n",
      "accuracy 0.8278628738147338 random state 6\n",
      "accuracy 0.8326039387308534 random state 7\n",
      "accuracy 0.8284099197665937 random state 8\n",
      "accuracy 0.8313274981765135 random state 9\n",
      "accuracy 0.8234865061998541 random state 10\n",
      "accuracy 0.8284099197665937 random state 11\n",
      "accuracy 0.8267687819110139 random state 12\n",
      "accuracy 0.824945295404814 random state 13\n",
      "accuracy 0.8242159008023341 random state 14\n",
      "accuracy 0.824945295404814 random state 15\n",
      "accuracy 0.8269511305616338 random state 16\n",
      "accuracy 0.825309992706054 random state 17\n",
      "accuracy 0.8289569657184537 random state 18\n",
      "accuracy 0.8192924872355944 random state 19\n",
      "accuracy 0.8278628738147338 random state 20\n",
      "accuracy 0.825309992706054 random state 21\n",
      "accuracy 0.8284099197665937 random state 22\n",
      "accuracy 0.8335156819839533 random state 23\n",
      "accuracy 0.8282275711159738 random state 24\n",
      "accuracy 0.8309628008752735 random state 25\n",
      "accuracy 0.8360685630926331 random state 26\n",
      "accuracy 0.8304157549234136 random state 27\n",
      "accuracy 0.8207512764405543 random state 28\n",
      "accuracy 0.824580598103574 random state 29\n",
      "accuracy 0.8258570386579139 random state 30\n",
      "accuracy 0.825127644055434 random state 31\n",
      "accuracy 0.8298687089715536 random state 32\n",
      "accuracy 0.8274981765134938 random state 33\n",
      "accuracy 0.8227571115973742 random state 34\n",
      "accuracy 0.8327862873814734 random state 35\n",
      "accuracy 0.8295040116703136 random state 36\n",
      "accuracy 0.8398978847556529 random state 37\n",
      "accuracy 0.824033552151714 random state 38\n",
      "accuracy 0.8336980306345733 random state 39\n",
      "accuracy 0.8227571115973742 random state 40\n",
      "accuracy 0.8349744711889132 random state 41\n",
      "accuracy 0.8273158278628738 random state 42\n",
      "accuracy 0.8298687089715536 random state 43\n",
      "accuracy 0.8258570386579139 random state 44\n",
      "accuracy 0.8254923413566739 random state 45\n",
      "accuracy 0.8335156819839533 random state 46\n",
      "accuracy 0.8262217359591539 random state 47\n",
      "accuracy 0.8357038657913931 random state 48\n",
      "accuracy 0.8336980306345733 random state 49\n",
      "accuracy 0.8242159008023341 random state 50\n",
      "accuracy 0.824762946754194 random state 51\n",
      "accuracy 0.8362509117432531 random state 52\n",
      "accuracy 0.8302334062727936 random state 53\n",
      "accuracy 0.8229394602479941 random state 54\n",
      "accuracy 0.8315098468271335 random state 55\n",
      "accuracy 0.8318745441283735 random state 56\n",
      "accuracy 0.8280452224653537 random state 57\n",
      "accuracy 0.8267687819110139 random state 58\n",
      "accuracy 0.8181983953318746 random state 59\n",
      "accuracy 0.8316921954777534 random state 60\n",
      "accuracy 0.8329686360320934 random state 61\n",
      "accuracy 0.8264040846097739 random state 62\n",
      "accuracy 0.8366156090444931 random state 63\n",
      "accuracy 0.8202042304886944 random state 64\n",
      "accuracy 0.8285922684172137 random state 65\n",
      "accuracy 0.8304157549234136 random state 66\n",
      "accuracy 0.8203865791393143 random state 67\n",
      "accuracy 0.824945295404814 random state 68\n",
      "accuracy 0.8223924142961342 random state 69\n",
      "accuracy 0.8265864332603938 random state 70\n",
      "accuracy 0.8278628738147338 random state 71\n",
      "accuracy 0.8344274252370533 random state 72\n",
      "accuracy 0.8307804522246536 random state 73\n",
      "accuracy 0.8276805251641138 random state 74\n",
      "accuracy 0.837527352297593 random state 75\n",
      "accuracy 0.8291393143690736 random state 76\n",
      "accuracy 0.8389861415025529 random state 77\n",
      "accuracy 0.836797957695113 random state 78\n",
      "accuracy 0.8338803792851933 random state 79\n",
      "accuracy 0.8344274252370533 random state 80\n",
      "accuracy 0.8406272793581328 random state 81\n",
      "accuracy 0.824033552151714 random state 82\n",
      "accuracy 0.8238512035010941 random state 83\n",
      "accuracy 0.8342450765864332 random state 84\n",
      "accuracy 0.8369803063457331 random state 85\n",
      "accuracy 0.8267687819110139 random state 86\n",
      "accuracy 0.8220277169948942 random state 87\n",
      "accuracy 0.8258570386579139 random state 88\n",
      "accuracy 0.8347921225382933 random state 89\n",
      "accuracy 0.8329686360320934 random state 90\n",
      "accuracy 0.8198395331874544 random state 91\n",
      "accuracy 0.8189277899343544 random state 92\n",
      "accuracy 0.824762946754194 random state 93\n",
      "accuracy 0.8353391684901532 random state 94\n",
      "accuracy 0.824580598103574 random state 95\n",
      "accuracy 0.8271334792122538 random state 96\n",
      "accuracy 0.8318745441283735 random state 97\n",
      "accuracy 0.8234865061998541 random state 98\n",
      "accuracy 0.8338803792851933 random state 99\n",
      "accuracy 0.8282275711159738 random state 100\n",
      "accuracy 0.8333333333333334 random state 101\n",
      "accuracy 0.8322392414296135 random state 102\n",
      "accuracy 0.8291393143690736 random state 103\n",
      "accuracy 0.824762946754194 random state 104\n",
      "accuracy 0.8260393873085339 random state 105\n",
      "accuracy 0.8276805251641138 random state 106\n",
      "accuracy 0.8305981035740335 random state 107\n",
      "accuracy 0.8273158278628738 random state 108\n",
      "accuracy 0.8322392414296135 random state 109\n",
      "accuracy 0.8315098468271335 random state 110\n",
      "accuracy 0.8366156090444931 random state 111\n",
      "accuracy 0.825674690007294 random state 112\n",
      "accuracy 0.8364332603938731 random state 113\n",
      "accuracy 0.8331509846827133 random state 114\n",
      "accuracy 0.8311451495258935 random state 115\n",
      "accuracy 0.8313274981765135 random state 116\n",
      "accuracy 0.8313274981765135 random state 117\n",
      "accuracy 0.8293216630196937 random state 118\n",
      "accuracy 0.8267687819110139 random state 119\n",
      "accuracy 0.8300510576221736 random state 120\n",
      "accuracy 0.8254923413566739 random state 121\n",
      "accuracy 0.8242159008023341 random state 122\n",
      "accuracy 0.8313274981765135 random state 123\n",
      "accuracy 0.8276805251641138 random state 124\n",
      "accuracy 0.824945295404814 random state 125\n",
      "accuracy 0.8284099197665937 random state 126\n",
      "accuracy 0.8322392414296135 random state 127\n",
      "accuracy 0.8229394602479941 random state 128\n",
      "accuracy 0.8287746170678337 random state 129\n",
      "accuracy 0.824398249452954 random state 130\n",
      "accuracy 0.8218453683442742 random state 131\n",
      "accuracy 0.8262217359591539 random state 132\n",
      "accuracy 0.8267687819110139 random state 133\n",
      "accuracy 0.8212983223924143 random state 134\n",
      "accuracy 0.824398249452954 random state 135\n",
      "accuracy 0.824945295404814 random state 136\n",
      "accuracy 0.824580598103574 random state 137\n",
      "accuracy 0.8318745441283735 random state 138\n",
      "accuracy 0.8258570386579139 random state 139\n",
      "accuracy 0.8254923413566739 random state 140\n",
      "accuracy 0.8304157549234136 random state 141\n",
      "accuracy 0.8282275711159738 random state 142\n",
      "accuracy 0.8273158278628738 random state 143\n",
      "accuracy 0.8274981765134938 random state 144\n",
      "accuracy 0.8327862873814734 random state 145\n",
      "accuracy 0.8298687089715536 random state 146\n",
      "accuracy 0.8238512035010941 random state 147\n",
      "accuracy 0.8362509117432531 random state 148\n",
      "accuracy 0.8307804522246536 random state 149\n",
      "accuracy 0.8315098468271335 random state 150\n",
      "accuracy 0.8358862144420132 random state 151\n",
      "accuracy 0.8326039387308534 random state 152\n",
      "accuracy 0.824945295404814 random state 153\n",
      "accuracy 0.8358862144420132 random state 154\n",
      "accuracy 0.8287746170678337 random state 155\n",
      "accuracy 0.8300510576221736 random state 156\n",
      "accuracy 0.8295040116703136 random state 157\n",
      "accuracy 0.8355215171407732 random state 158\n",
      "accuracy 0.8238512035010941 random state 159\n",
      "accuracy 0.824945295404814 random state 160\n",
      "accuracy 0.8309628008752735 random state 161\n",
      "accuracy 0.8335156819839533 random state 162\n",
      "accuracy 0.8316921954777534 random state 163\n",
      "accuracy 0.8305981035740335 random state 164\n",
      "accuracy 0.8254923413566739 random state 165\n",
      "accuracy 0.8273158278628738 random state 166\n",
      "accuracy 0.824945295404814 random state 167\n",
      "accuracy 0.8336980306345733 random state 168\n",
      "accuracy 0.8291393143690736 random state 169\n",
      "accuracy 0.8322392414296135 random state 170\n",
      "accuracy 0.8203865791393143 random state 171\n",
      "accuracy 0.8316921954777534 random state 172\n",
      "accuracy 0.8282275711159738 random state 173\n",
      "accuracy 0.8284099197665937 random state 174\n",
      "accuracy 0.8324215900802334 random state 175\n",
      "accuracy 0.8209336250911743 random state 176\n",
      "accuracy 0.8287746170678337 random state 177\n",
      "accuracy 0.8326039387308534 random state 178\n",
      "accuracy 0.8322392414296135 random state 179\n",
      "accuracy 0.8274981765134938 random state 180\n",
      "accuracy 0.824398249452954 random state 181\n",
      "accuracy 0.8331509846827133 random state 182\n",
      "accuracy 0.8373450036469731 random state 183\n",
      "accuracy 0.8262217359591539 random state 184\n",
      "accuracy 0.8311451495258935 random state 185\n",
      "accuracy 0.8329686360320934 random state 186\n"
     ]
    },
    {
     "name": "stdout",
     "output_type": "stream",
     "text": [
      "accuracy 0.8238512035010941 random state 187\n",
      "accuracy 0.8309628008752735 random state 188\n",
      "accuracy 0.8389861415025529 random state 189\n",
      "accuracy 0.8360685630926331 random state 190\n",
      "accuracy 0.8225747629467542 random state 191\n",
      "accuracy 0.8304157549234136 random state 192\n",
      "accuracy 0.8344274252370533 random state 193\n",
      "accuracy 0.825309992706054 random state 194\n",
      "accuracy 0.8231218088986142 random state 195\n",
      "accuracy 0.8309628008752735 random state 196\n",
      "accuracy 0.8313274981765135 random state 197\n",
      "accuracy 0.8327862873814734 random state 198\n",
      "accuracy 0.824762946754194 random state 199\n"
     ]
    }
   ],
   "source": [
    "maxAccu=0\n",
    "maxRS=0\n",
    "\n",
    "for i in range(1,200):\n",
    "    x_train,x_test,y_train,y_test=train_test_split(x,y,test_size=0.20, random_state=i)\n",
    "    LR=LogisticRegression()\n",
    "    LR.fit(x_train, y_train)\n",
    "    predrf=LR.predict(x_test)\n",
    "    acc=accuracy_score(y_test, predrf)\n",
    "    print('accuracy',acc,'random state',i)\n",
    "\n",
    "if acc>maxAccu:\n",
    "    maxAccu=acc\n",
    "    maxRS=i"
   ]
  },
  {
   "cell_type": "code",
   "execution_count": 122,
   "id": "eeff9f84",
   "metadata": {},
   "outputs": [
    {
     "name": "stdout",
     "output_type": "stream",
     "text": [
      "best accuracy is 0.824762946754194 on random state 199\n"
     ]
    }
   ],
   "source": [
    "print('best accuracy is',maxAccu,'on random state',maxRS)"
   ]
  },
  {
   "cell_type": "code",
   "execution_count": 132,
   "id": "0931fec1",
   "metadata": {},
   "outputs": [],
   "source": [
    "x_train,x_test,y_train,y_test=train_test_split(x,y,test_size=0.20,random_state=199)"
   ]
  },
  {
   "cell_type": "markdown",
   "id": "b0668121",
   "metadata": {},
   "source": [
    "# Decision tree classifier"
   ]
  },
  {
   "cell_type": "code",
   "execution_count": 136,
   "id": "f8e3bc3a",
   "metadata": {},
   "outputs": [
    {
     "name": "stdout",
     "output_type": "stream",
     "text": [
      "accuracy 79.61342086068564\n",
      "[[3678  561]\n",
      " [ 557  688]]\n",
      "              precision    recall  f1-score   support\n",
      "\n",
      "           0       0.87      0.87      0.87      4239\n",
      "           1       0.55      0.55      0.55      1245\n",
      "\n",
      "    accuracy                           0.80      5484\n",
      "   macro avg       0.71      0.71      0.71      5484\n",
      "weighted avg       0.80      0.80      0.80      5484\n",
      "\n"
     ]
    }
   ],
   "source": [
    "from sklearn.tree import DecisionTreeClassifier\n",
    "dt=DecisionTreeClassifier()\n",
    "dt.fit(x_train,y_train)\n",
    "preddt=dt.predict(x_test)\n",
    "print('accuracy', accuracy_score(y_test, preddt)*100)\n",
    "print(confusion_matrix(y_test,preddt))\n",
    "print(classification_report(y_test,preddt))"
   ]
  },
  {
   "cell_type": "markdown",
   "id": "2ea6c726",
   "metadata": {},
   "source": [
    "# Random Forest Classifier"
   ]
  },
  {
   "cell_type": "code",
   "execution_count": 138,
   "id": "1fdbe48f",
   "metadata": {},
   "outputs": [
    {
     "name": "stdout",
     "output_type": "stream",
     "text": [
      "accuracy 84.13566739606127\n",
      "[[3900  339]\n",
      " [ 531  714]]\n",
      "              precision    recall  f1-score   support\n",
      "\n",
      "           0       0.88      0.92      0.90      4239\n",
      "           1       0.68      0.57      0.62      1245\n",
      "\n",
      "    accuracy                           0.84      5484\n",
      "   macro avg       0.78      0.75      0.76      5484\n",
      "weighted avg       0.83      0.84      0.84      5484\n",
      "\n"
     ]
    }
   ],
   "source": [
    "from sklearn.ensemble import RandomForestClassifier\n",
    "\n",
    "rf=RandomForestClassifier()\n",
    "rf.fit(x_train,y_train)\n",
    "predrf=rf.predict(x_test)\n",
    "print('accuracy', accuracy_score(y_test, predrf)*100)\n",
    "print(confusion_matrix(y_test,predrf))\n",
    "print(classification_report(y_test,predrf))"
   ]
  },
  {
   "cell_type": "markdown",
   "id": "e1ad0d83",
   "metadata": {},
   "source": [
    "# Support Vector Classifier"
   ]
  },
  {
   "cell_type": "code",
   "execution_count": 140,
   "id": "98432680",
   "metadata": {},
   "outputs": [
    {
     "name": "stdout",
     "output_type": "stream",
     "text": [
      "accuracy 83.51568198395331\n",
      "[[4004  235]\n",
      " [ 669  576]]\n",
      "              precision    recall  f1-score   support\n",
      "\n",
      "           0       0.86      0.94      0.90      4239\n",
      "           1       0.71      0.46      0.56      1245\n",
      "\n",
      "    accuracy                           0.84      5484\n",
      "   macro avg       0.78      0.70      0.73      5484\n",
      "weighted avg       0.82      0.84      0.82      5484\n",
      "\n"
     ]
    }
   ],
   "source": [
    "from sklearn.svm import SVC\n",
    "\n",
    "svc=SVC()\n",
    "svc.fit(x_train,y_train)\n",
    "ad_pred=svc.predict(x_test)\n",
    "print('accuracy', accuracy_score(y_test, ad_pred)*100)\n",
    "print(confusion_matrix(y_test,ad_pred))\n",
    "print(classification_report(y_test,ad_pred))"
   ]
  },
  {
   "cell_type": "code",
   "execution_count": null,
   "id": "020fc979",
   "metadata": {},
   "outputs": [],
   "source": []
  }
 ],
 "metadata": {
  "kernelspec": {
   "display_name": "Python 3 (ipykernel)",
   "language": "python",
   "name": "python3"
  },
  "language_info": {
   "codemirror_mode": {
    "name": "ipython",
    "version": 3
   },
   "file_extension": ".py",
   "mimetype": "text/x-python",
   "name": "python",
   "nbconvert_exporter": "python",
   "pygments_lexer": "ipython3",
   "version": "3.9.7"
  }
 },
 "nbformat": 4,
 "nbformat_minor": 5
}
