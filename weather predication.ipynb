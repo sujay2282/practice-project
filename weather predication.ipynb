{
 "cells": [
  {
   "cell_type": "code",
   "execution_count": 1,
   "id": "6903a140",
   "metadata": {},
   "outputs": [],
   "source": [
    "import pandas as pd\n",
    "import numpy as np\n",
    "import matplotlib.pyplot as plt\n",
    "import seaborn as sns\n",
    "import warnings\n",
    "warnings.filterwarnings('ignore')"
   ]
  },
  {
   "cell_type": "code",
   "execution_count": 2,
   "id": "17f5aca2",
   "metadata": {},
   "outputs": [],
   "source": [
    "df=pd.read_csv('weather.csv')"
   ]
  },
  {
   "cell_type": "code",
   "execution_count": 3,
   "id": "c37e0bac",
   "metadata": {},
   "outputs": [
    {
     "data": {
      "text/html": [
       "<div>\n",
       "<style scoped>\n",
       "    .dataframe tbody tr th:only-of-type {\n",
       "        vertical-align: middle;\n",
       "    }\n",
       "\n",
       "    .dataframe tbody tr th {\n",
       "        vertical-align: top;\n",
       "    }\n",
       "\n",
       "    .dataframe thead th {\n",
       "        text-align: right;\n",
       "    }\n",
       "</style>\n",
       "<table border=\"1\" class=\"dataframe\">\n",
       "  <thead>\n",
       "    <tr style=\"text-align: right;\">\n",
       "      <th></th>\n",
       "      <th>Date</th>\n",
       "      <th>Location</th>\n",
       "      <th>MinTemp</th>\n",
       "      <th>MaxTemp</th>\n",
       "      <th>Rainfall</th>\n",
       "      <th>Evaporation</th>\n",
       "      <th>Sunshine</th>\n",
       "      <th>WindGustDir</th>\n",
       "      <th>WindGustSpeed</th>\n",
       "      <th>WindDir9am</th>\n",
       "      <th>...</th>\n",
       "      <th>Humidity9am</th>\n",
       "      <th>Humidity3pm</th>\n",
       "      <th>Pressure9am</th>\n",
       "      <th>Pressure3pm</th>\n",
       "      <th>Cloud9am</th>\n",
       "      <th>Cloud3pm</th>\n",
       "      <th>Temp9am</th>\n",
       "      <th>Temp3pm</th>\n",
       "      <th>RainToday</th>\n",
       "      <th>RainTomorrow</th>\n",
       "    </tr>\n",
       "  </thead>\n",
       "  <tbody>\n",
       "    <tr>\n",
       "      <th>0</th>\n",
       "      <td>2008-12-01</td>\n",
       "      <td>Albury</td>\n",
       "      <td>13.4</td>\n",
       "      <td>22.9</td>\n",
       "      <td>0.6</td>\n",
       "      <td>NaN</td>\n",
       "      <td>NaN</td>\n",
       "      <td>W</td>\n",
       "      <td>44.0</td>\n",
       "      <td>W</td>\n",
       "      <td>...</td>\n",
       "      <td>71.0</td>\n",
       "      <td>22.0</td>\n",
       "      <td>1007.7</td>\n",
       "      <td>1007.1</td>\n",
       "      <td>8.0</td>\n",
       "      <td>NaN</td>\n",
       "      <td>16.9</td>\n",
       "      <td>21.8</td>\n",
       "      <td>No</td>\n",
       "      <td>No</td>\n",
       "    </tr>\n",
       "    <tr>\n",
       "      <th>1</th>\n",
       "      <td>2008-12-02</td>\n",
       "      <td>Albury</td>\n",
       "      <td>7.4</td>\n",
       "      <td>25.1</td>\n",
       "      <td>0.0</td>\n",
       "      <td>NaN</td>\n",
       "      <td>NaN</td>\n",
       "      <td>WNW</td>\n",
       "      <td>44.0</td>\n",
       "      <td>NNW</td>\n",
       "      <td>...</td>\n",
       "      <td>44.0</td>\n",
       "      <td>25.0</td>\n",
       "      <td>1010.6</td>\n",
       "      <td>1007.8</td>\n",
       "      <td>NaN</td>\n",
       "      <td>NaN</td>\n",
       "      <td>17.2</td>\n",
       "      <td>24.3</td>\n",
       "      <td>No</td>\n",
       "      <td>No</td>\n",
       "    </tr>\n",
       "    <tr>\n",
       "      <th>2</th>\n",
       "      <td>2008-12-03</td>\n",
       "      <td>Albury</td>\n",
       "      <td>12.9</td>\n",
       "      <td>25.7</td>\n",
       "      <td>0.0</td>\n",
       "      <td>NaN</td>\n",
       "      <td>NaN</td>\n",
       "      <td>WSW</td>\n",
       "      <td>46.0</td>\n",
       "      <td>W</td>\n",
       "      <td>...</td>\n",
       "      <td>38.0</td>\n",
       "      <td>30.0</td>\n",
       "      <td>1007.6</td>\n",
       "      <td>1008.7</td>\n",
       "      <td>NaN</td>\n",
       "      <td>2.0</td>\n",
       "      <td>21.0</td>\n",
       "      <td>23.2</td>\n",
       "      <td>No</td>\n",
       "      <td>No</td>\n",
       "    </tr>\n",
       "    <tr>\n",
       "      <th>3</th>\n",
       "      <td>2008-12-04</td>\n",
       "      <td>Albury</td>\n",
       "      <td>9.2</td>\n",
       "      <td>28.0</td>\n",
       "      <td>0.0</td>\n",
       "      <td>NaN</td>\n",
       "      <td>NaN</td>\n",
       "      <td>NE</td>\n",
       "      <td>24.0</td>\n",
       "      <td>SE</td>\n",
       "      <td>...</td>\n",
       "      <td>45.0</td>\n",
       "      <td>16.0</td>\n",
       "      <td>1017.6</td>\n",
       "      <td>1012.8</td>\n",
       "      <td>NaN</td>\n",
       "      <td>NaN</td>\n",
       "      <td>18.1</td>\n",
       "      <td>26.5</td>\n",
       "      <td>No</td>\n",
       "      <td>No</td>\n",
       "    </tr>\n",
       "    <tr>\n",
       "      <th>4</th>\n",
       "      <td>2008-12-05</td>\n",
       "      <td>Albury</td>\n",
       "      <td>17.5</td>\n",
       "      <td>32.3</td>\n",
       "      <td>1.0</td>\n",
       "      <td>NaN</td>\n",
       "      <td>NaN</td>\n",
       "      <td>W</td>\n",
       "      <td>41.0</td>\n",
       "      <td>ENE</td>\n",
       "      <td>...</td>\n",
       "      <td>82.0</td>\n",
       "      <td>33.0</td>\n",
       "      <td>1010.8</td>\n",
       "      <td>1006.0</td>\n",
       "      <td>7.0</td>\n",
       "      <td>8.0</td>\n",
       "      <td>17.8</td>\n",
       "      <td>29.7</td>\n",
       "      <td>No</td>\n",
       "      <td>No</td>\n",
       "    </tr>\n",
       "    <tr>\n",
       "      <th>...</th>\n",
       "      <td>...</td>\n",
       "      <td>...</td>\n",
       "      <td>...</td>\n",
       "      <td>...</td>\n",
       "      <td>...</td>\n",
       "      <td>...</td>\n",
       "      <td>...</td>\n",
       "      <td>...</td>\n",
       "      <td>...</td>\n",
       "      <td>...</td>\n",
       "      <td>...</td>\n",
       "      <td>...</td>\n",
       "      <td>...</td>\n",
       "      <td>...</td>\n",
       "      <td>...</td>\n",
       "      <td>...</td>\n",
       "      <td>...</td>\n",
       "      <td>...</td>\n",
       "      <td>...</td>\n",
       "      <td>...</td>\n",
       "      <td>...</td>\n",
       "    </tr>\n",
       "    <tr>\n",
       "      <th>8420</th>\n",
       "      <td>2017-06-21</td>\n",
       "      <td>Uluru</td>\n",
       "      <td>2.8</td>\n",
       "      <td>23.4</td>\n",
       "      <td>0.0</td>\n",
       "      <td>NaN</td>\n",
       "      <td>NaN</td>\n",
       "      <td>E</td>\n",
       "      <td>31.0</td>\n",
       "      <td>SE</td>\n",
       "      <td>...</td>\n",
       "      <td>51.0</td>\n",
       "      <td>24.0</td>\n",
       "      <td>1024.6</td>\n",
       "      <td>1020.3</td>\n",
       "      <td>NaN</td>\n",
       "      <td>NaN</td>\n",
       "      <td>10.1</td>\n",
       "      <td>22.4</td>\n",
       "      <td>No</td>\n",
       "      <td>No</td>\n",
       "    </tr>\n",
       "    <tr>\n",
       "      <th>8421</th>\n",
       "      <td>2017-06-22</td>\n",
       "      <td>Uluru</td>\n",
       "      <td>3.6</td>\n",
       "      <td>25.3</td>\n",
       "      <td>0.0</td>\n",
       "      <td>NaN</td>\n",
       "      <td>NaN</td>\n",
       "      <td>NNW</td>\n",
       "      <td>22.0</td>\n",
       "      <td>SE</td>\n",
       "      <td>...</td>\n",
       "      <td>56.0</td>\n",
       "      <td>21.0</td>\n",
       "      <td>1023.5</td>\n",
       "      <td>1019.1</td>\n",
       "      <td>NaN</td>\n",
       "      <td>NaN</td>\n",
       "      <td>10.9</td>\n",
       "      <td>24.5</td>\n",
       "      <td>No</td>\n",
       "      <td>No</td>\n",
       "    </tr>\n",
       "    <tr>\n",
       "      <th>8422</th>\n",
       "      <td>2017-06-23</td>\n",
       "      <td>Uluru</td>\n",
       "      <td>5.4</td>\n",
       "      <td>26.9</td>\n",
       "      <td>0.0</td>\n",
       "      <td>NaN</td>\n",
       "      <td>NaN</td>\n",
       "      <td>N</td>\n",
       "      <td>37.0</td>\n",
       "      <td>SE</td>\n",
       "      <td>...</td>\n",
       "      <td>53.0</td>\n",
       "      <td>24.0</td>\n",
       "      <td>1021.0</td>\n",
       "      <td>1016.8</td>\n",
       "      <td>NaN</td>\n",
       "      <td>NaN</td>\n",
       "      <td>12.5</td>\n",
       "      <td>26.1</td>\n",
       "      <td>No</td>\n",
       "      <td>No</td>\n",
       "    </tr>\n",
       "    <tr>\n",
       "      <th>8423</th>\n",
       "      <td>2017-06-24</td>\n",
       "      <td>Uluru</td>\n",
       "      <td>7.8</td>\n",
       "      <td>27.0</td>\n",
       "      <td>0.0</td>\n",
       "      <td>NaN</td>\n",
       "      <td>NaN</td>\n",
       "      <td>SE</td>\n",
       "      <td>28.0</td>\n",
       "      <td>SSE</td>\n",
       "      <td>...</td>\n",
       "      <td>51.0</td>\n",
       "      <td>24.0</td>\n",
       "      <td>1019.4</td>\n",
       "      <td>1016.5</td>\n",
       "      <td>3.0</td>\n",
       "      <td>2.0</td>\n",
       "      <td>15.1</td>\n",
       "      <td>26.0</td>\n",
       "      <td>No</td>\n",
       "      <td>No</td>\n",
       "    </tr>\n",
       "    <tr>\n",
       "      <th>8424</th>\n",
       "      <td>2017-06-25</td>\n",
       "      <td>Uluru</td>\n",
       "      <td>14.9</td>\n",
       "      <td>NaN</td>\n",
       "      <td>0.0</td>\n",
       "      <td>NaN</td>\n",
       "      <td>NaN</td>\n",
       "      <td>NaN</td>\n",
       "      <td>NaN</td>\n",
       "      <td>ESE</td>\n",
       "      <td>...</td>\n",
       "      <td>62.0</td>\n",
       "      <td>36.0</td>\n",
       "      <td>1020.2</td>\n",
       "      <td>1017.9</td>\n",
       "      <td>8.0</td>\n",
       "      <td>8.0</td>\n",
       "      <td>15.0</td>\n",
       "      <td>20.9</td>\n",
       "      <td>No</td>\n",
       "      <td>NaN</td>\n",
       "    </tr>\n",
       "  </tbody>\n",
       "</table>\n",
       "<p>8425 rows × 23 columns</p>\n",
       "</div>"
      ],
      "text/plain": [
       "            Date Location  MinTemp  MaxTemp  Rainfall  Evaporation  Sunshine  \\\n",
       "0     2008-12-01   Albury     13.4     22.9       0.6          NaN       NaN   \n",
       "1     2008-12-02   Albury      7.4     25.1       0.0          NaN       NaN   \n",
       "2     2008-12-03   Albury     12.9     25.7       0.0          NaN       NaN   \n",
       "3     2008-12-04   Albury      9.2     28.0       0.0          NaN       NaN   \n",
       "4     2008-12-05   Albury     17.5     32.3       1.0          NaN       NaN   \n",
       "...          ...      ...      ...      ...       ...          ...       ...   \n",
       "8420  2017-06-21    Uluru      2.8     23.4       0.0          NaN       NaN   \n",
       "8421  2017-06-22    Uluru      3.6     25.3       0.0          NaN       NaN   \n",
       "8422  2017-06-23    Uluru      5.4     26.9       0.0          NaN       NaN   \n",
       "8423  2017-06-24    Uluru      7.8     27.0       0.0          NaN       NaN   \n",
       "8424  2017-06-25    Uluru     14.9      NaN       0.0          NaN       NaN   \n",
       "\n",
       "     WindGustDir  WindGustSpeed WindDir9am  ... Humidity9am  Humidity3pm  \\\n",
       "0              W           44.0          W  ...        71.0         22.0   \n",
       "1            WNW           44.0        NNW  ...        44.0         25.0   \n",
       "2            WSW           46.0          W  ...        38.0         30.0   \n",
       "3             NE           24.0         SE  ...        45.0         16.0   \n",
       "4              W           41.0        ENE  ...        82.0         33.0   \n",
       "...          ...            ...        ...  ...         ...          ...   \n",
       "8420           E           31.0         SE  ...        51.0         24.0   \n",
       "8421         NNW           22.0         SE  ...        56.0         21.0   \n",
       "8422           N           37.0         SE  ...        53.0         24.0   \n",
       "8423          SE           28.0        SSE  ...        51.0         24.0   \n",
       "8424         NaN            NaN        ESE  ...        62.0         36.0   \n",
       "\n",
       "      Pressure9am  Pressure3pm  Cloud9am  Cloud3pm  Temp9am  Temp3pm  \\\n",
       "0          1007.7       1007.1       8.0       NaN     16.9     21.8   \n",
       "1          1010.6       1007.8       NaN       NaN     17.2     24.3   \n",
       "2          1007.6       1008.7       NaN       2.0     21.0     23.2   \n",
       "3          1017.6       1012.8       NaN       NaN     18.1     26.5   \n",
       "4          1010.8       1006.0       7.0       8.0     17.8     29.7   \n",
       "...           ...          ...       ...       ...      ...      ...   \n",
       "8420       1024.6       1020.3       NaN       NaN     10.1     22.4   \n",
       "8421       1023.5       1019.1       NaN       NaN     10.9     24.5   \n",
       "8422       1021.0       1016.8       NaN       NaN     12.5     26.1   \n",
       "8423       1019.4       1016.5       3.0       2.0     15.1     26.0   \n",
       "8424       1020.2       1017.9       8.0       8.0     15.0     20.9   \n",
       "\n",
       "      RainToday  RainTomorrow  \n",
       "0            No            No  \n",
       "1            No            No  \n",
       "2            No            No  \n",
       "3            No            No  \n",
       "4            No            No  \n",
       "...         ...           ...  \n",
       "8420         No            No  \n",
       "8421         No            No  \n",
       "8422         No            No  \n",
       "8423         No            No  \n",
       "8424         No           NaN  \n",
       "\n",
       "[8425 rows x 23 columns]"
      ]
     },
     "execution_count": 3,
     "metadata": {},
     "output_type": "execute_result"
    }
   ],
   "source": [
    "df"
   ]
  },
  {
   "cell_type": "markdown",
   "id": "d257e7d6",
   "metadata": {},
   "source": [
    "in that dataset there are 8425 rows and 23 columns."
   ]
  },
  {
   "cell_type": "code",
   "execution_count": 4,
   "id": "2038150f",
   "metadata": {},
   "outputs": [
    {
     "data": {
      "text/plain": [
       "Date                0\n",
       "Location            0\n",
       "MinTemp            75\n",
       "MaxTemp            60\n",
       "Rainfall          240\n",
       "Evaporation      3512\n",
       "Sunshine         3994\n",
       "WindGustDir       991\n",
       "WindGustSpeed     991\n",
       "WindDir9am        829\n",
       "WindDir3pm        308\n",
       "WindSpeed9am       76\n",
       "WindSpeed3pm      107\n",
       "Humidity9am        59\n",
       "Humidity3pm       102\n",
       "Pressure9am      1309\n",
       "Pressure3pm      1312\n",
       "Cloud9am         2421\n",
       "Cloud3pm         2455\n",
       "Temp9am            56\n",
       "Temp3pm            96\n",
       "RainToday         240\n",
       "RainTomorrow      239\n",
       "dtype: int64"
      ]
     },
     "execution_count": 4,
     "metadata": {},
     "output_type": "execute_result"
    }
   ],
   "source": [
    "df.isnull().sum()"
   ]
  },
  {
   "cell_type": "markdown",
   "id": "5a7e9f71",
   "metadata": {},
   "source": [
    "we see that there are high numbers of null values are present so where the null value are more than 1000 so we drop that columns."
   ]
  },
  {
   "cell_type": "code",
   "execution_count": 5,
   "id": "4daab8b2",
   "metadata": {},
   "outputs": [],
   "source": [
    "df=df.drop(['Evaporation','Sunshine','Pressure9am','Pressure3pm','Cloud9am','Cloud3pm','WindGustDir','WindGustSpeed'],axis=1)"
   ]
  },
  {
   "cell_type": "code",
   "execution_count": 6,
   "id": "096010b1",
   "metadata": {},
   "outputs": [
    {
     "data": {
      "text/html": [
       "<div>\n",
       "<style scoped>\n",
       "    .dataframe tbody tr th:only-of-type {\n",
       "        vertical-align: middle;\n",
       "    }\n",
       "\n",
       "    .dataframe tbody tr th {\n",
       "        vertical-align: top;\n",
       "    }\n",
       "\n",
       "    .dataframe thead th {\n",
       "        text-align: right;\n",
       "    }\n",
       "</style>\n",
       "<table border=\"1\" class=\"dataframe\">\n",
       "  <thead>\n",
       "    <tr style=\"text-align: right;\">\n",
       "      <th></th>\n",
       "      <th>Date</th>\n",
       "      <th>Location</th>\n",
       "      <th>MinTemp</th>\n",
       "      <th>MaxTemp</th>\n",
       "      <th>Rainfall</th>\n",
       "      <th>WindDir9am</th>\n",
       "      <th>WindDir3pm</th>\n",
       "      <th>WindSpeed9am</th>\n",
       "      <th>WindSpeed3pm</th>\n",
       "      <th>Humidity9am</th>\n",
       "      <th>Humidity3pm</th>\n",
       "      <th>Temp9am</th>\n",
       "      <th>Temp3pm</th>\n",
       "      <th>RainToday</th>\n",
       "      <th>RainTomorrow</th>\n",
       "    </tr>\n",
       "  </thead>\n",
       "  <tbody>\n",
       "    <tr>\n",
       "      <th>0</th>\n",
       "      <td>2008-12-01</td>\n",
       "      <td>Albury</td>\n",
       "      <td>13.4</td>\n",
       "      <td>22.9</td>\n",
       "      <td>0.6</td>\n",
       "      <td>W</td>\n",
       "      <td>WNW</td>\n",
       "      <td>20.0</td>\n",
       "      <td>24.0</td>\n",
       "      <td>71.0</td>\n",
       "      <td>22.0</td>\n",
       "      <td>16.9</td>\n",
       "      <td>21.8</td>\n",
       "      <td>No</td>\n",
       "      <td>No</td>\n",
       "    </tr>\n",
       "    <tr>\n",
       "      <th>1</th>\n",
       "      <td>2008-12-02</td>\n",
       "      <td>Albury</td>\n",
       "      <td>7.4</td>\n",
       "      <td>25.1</td>\n",
       "      <td>0.0</td>\n",
       "      <td>NNW</td>\n",
       "      <td>WSW</td>\n",
       "      <td>4.0</td>\n",
       "      <td>22.0</td>\n",
       "      <td>44.0</td>\n",
       "      <td>25.0</td>\n",
       "      <td>17.2</td>\n",
       "      <td>24.3</td>\n",
       "      <td>No</td>\n",
       "      <td>No</td>\n",
       "    </tr>\n",
       "    <tr>\n",
       "      <th>2</th>\n",
       "      <td>2008-12-03</td>\n",
       "      <td>Albury</td>\n",
       "      <td>12.9</td>\n",
       "      <td>25.7</td>\n",
       "      <td>0.0</td>\n",
       "      <td>W</td>\n",
       "      <td>WSW</td>\n",
       "      <td>19.0</td>\n",
       "      <td>26.0</td>\n",
       "      <td>38.0</td>\n",
       "      <td>30.0</td>\n",
       "      <td>21.0</td>\n",
       "      <td>23.2</td>\n",
       "      <td>No</td>\n",
       "      <td>No</td>\n",
       "    </tr>\n",
       "    <tr>\n",
       "      <th>3</th>\n",
       "      <td>2008-12-04</td>\n",
       "      <td>Albury</td>\n",
       "      <td>9.2</td>\n",
       "      <td>28.0</td>\n",
       "      <td>0.0</td>\n",
       "      <td>SE</td>\n",
       "      <td>E</td>\n",
       "      <td>11.0</td>\n",
       "      <td>9.0</td>\n",
       "      <td>45.0</td>\n",
       "      <td>16.0</td>\n",
       "      <td>18.1</td>\n",
       "      <td>26.5</td>\n",
       "      <td>No</td>\n",
       "      <td>No</td>\n",
       "    </tr>\n",
       "    <tr>\n",
       "      <th>4</th>\n",
       "      <td>2008-12-05</td>\n",
       "      <td>Albury</td>\n",
       "      <td>17.5</td>\n",
       "      <td>32.3</td>\n",
       "      <td>1.0</td>\n",
       "      <td>ENE</td>\n",
       "      <td>NW</td>\n",
       "      <td>7.0</td>\n",
       "      <td>20.0</td>\n",
       "      <td>82.0</td>\n",
       "      <td>33.0</td>\n",
       "      <td>17.8</td>\n",
       "      <td>29.7</td>\n",
       "      <td>No</td>\n",
       "      <td>No</td>\n",
       "    </tr>\n",
       "  </tbody>\n",
       "</table>\n",
       "</div>"
      ],
      "text/plain": [
       "         Date Location  MinTemp  MaxTemp  Rainfall WindDir9am WindDir3pm  \\\n",
       "0  2008-12-01   Albury     13.4     22.9       0.6          W        WNW   \n",
       "1  2008-12-02   Albury      7.4     25.1       0.0        NNW        WSW   \n",
       "2  2008-12-03   Albury     12.9     25.7       0.0          W        WSW   \n",
       "3  2008-12-04   Albury      9.2     28.0       0.0         SE          E   \n",
       "4  2008-12-05   Albury     17.5     32.3       1.0        ENE         NW   \n",
       "\n",
       "   WindSpeed9am  WindSpeed3pm  Humidity9am  Humidity3pm  Temp9am  Temp3pm  \\\n",
       "0          20.0          24.0         71.0         22.0     16.9     21.8   \n",
       "1           4.0          22.0         44.0         25.0     17.2     24.3   \n",
       "2          19.0          26.0         38.0         30.0     21.0     23.2   \n",
       "3          11.0           9.0         45.0         16.0     18.1     26.5   \n",
       "4           7.0          20.0         82.0         33.0     17.8     29.7   \n",
       "\n",
       "  RainToday RainTomorrow  \n",
       "0        No           No  \n",
       "1        No           No  \n",
       "2        No           No  \n",
       "3        No           No  \n",
       "4        No           No  "
      ]
     },
     "execution_count": 6,
     "metadata": {},
     "output_type": "execute_result"
    }
   ],
   "source": [
    "df.head()"
   ]
  },
  {
   "cell_type": "code",
   "execution_count": 7,
   "id": "b8a438e8",
   "metadata": {},
   "outputs": [
    {
     "data": {
      "text/plain": [
       "(8425, 15)"
      ]
     },
     "execution_count": 7,
     "metadata": {},
     "output_type": "execute_result"
    }
   ],
   "source": [
    "df.shape"
   ]
  },
  {
   "cell_type": "code",
   "execution_count": 8,
   "id": "1b29866d",
   "metadata": {},
   "outputs": [
    {
     "data": {
      "text/plain": [
       "Date              0\n",
       "Location          0\n",
       "MinTemp          75\n",
       "MaxTemp          60\n",
       "Rainfall        240\n",
       "WindDir9am      829\n",
       "WindDir3pm      308\n",
       "WindSpeed9am     76\n",
       "WindSpeed3pm    107\n",
       "Humidity9am      59\n",
       "Humidity3pm     102\n",
       "Temp9am          56\n",
       "Temp3pm          96\n",
       "RainToday       240\n",
       "RainTomorrow    239\n",
       "dtype: int64"
      ]
     },
     "execution_count": 8,
     "metadata": {},
     "output_type": "execute_result"
    }
   ],
   "source": [
    "df.isnull().sum()"
   ]
  },
  {
   "cell_type": "code",
   "execution_count": 9,
   "id": "255328b4",
   "metadata": {},
   "outputs": [],
   "source": [
    "df=df.dropna(how='all',axis=1)"
   ]
  },
  {
   "cell_type": "code",
   "execution_count": 10,
   "id": "3b5c6470",
   "metadata": {},
   "outputs": [
    {
     "data": {
      "text/plain": [
       "(8425, 15)"
      ]
     },
     "execution_count": 10,
     "metadata": {},
     "output_type": "execute_result"
    }
   ],
   "source": [
    "df.shape"
   ]
  },
  {
   "cell_type": "code",
   "execution_count": 11,
   "id": "6fec59bb",
   "metadata": {},
   "outputs": [],
   "source": [
    "df=df.dropna(thresh=4)"
   ]
  },
  {
   "cell_type": "code",
   "execution_count": 12,
   "id": "846d8b59",
   "metadata": {},
   "outputs": [
    {
     "data": {
      "text/plain": [
       "(8411, 15)"
      ]
     },
     "execution_count": 12,
     "metadata": {},
     "output_type": "execute_result"
    }
   ],
   "source": [
    "df.shape"
   ]
  },
  {
   "cell_type": "code",
   "execution_count": 13,
   "id": "66937ce9",
   "metadata": {},
   "outputs": [
    {
     "data": {
      "text/html": [
       "<div>\n",
       "<style scoped>\n",
       "    .dataframe tbody tr th:only-of-type {\n",
       "        vertical-align: middle;\n",
       "    }\n",
       "\n",
       "    .dataframe tbody tr th {\n",
       "        vertical-align: top;\n",
       "    }\n",
       "\n",
       "    .dataframe thead th {\n",
       "        text-align: right;\n",
       "    }\n",
       "</style>\n",
       "<table border=\"1\" class=\"dataframe\">\n",
       "  <thead>\n",
       "    <tr style=\"text-align: right;\">\n",
       "      <th></th>\n",
       "      <th>Date</th>\n",
       "      <th>Location</th>\n",
       "      <th>MinTemp</th>\n",
       "      <th>MaxTemp</th>\n",
       "      <th>Rainfall</th>\n",
       "      <th>WindDir9am</th>\n",
       "      <th>WindDir3pm</th>\n",
       "      <th>WindSpeed9am</th>\n",
       "      <th>WindSpeed3pm</th>\n",
       "      <th>Humidity9am</th>\n",
       "      <th>Humidity3pm</th>\n",
       "      <th>Temp9am</th>\n",
       "      <th>Temp3pm</th>\n",
       "      <th>RainToday</th>\n",
       "      <th>RainTomorrow</th>\n",
       "    </tr>\n",
       "  </thead>\n",
       "  <tbody>\n",
       "    <tr>\n",
       "      <th>0</th>\n",
       "      <td>2008-12-01</td>\n",
       "      <td>Albury</td>\n",
       "      <td>13.4</td>\n",
       "      <td>22.9</td>\n",
       "      <td>0.6</td>\n",
       "      <td>W</td>\n",
       "      <td>WNW</td>\n",
       "      <td>20.0</td>\n",
       "      <td>24.0</td>\n",
       "      <td>71.0</td>\n",
       "      <td>22.0</td>\n",
       "      <td>16.9</td>\n",
       "      <td>21.8</td>\n",
       "      <td>No</td>\n",
       "      <td>No</td>\n",
       "    </tr>\n",
       "    <tr>\n",
       "      <th>1</th>\n",
       "      <td>2008-12-02</td>\n",
       "      <td>Albury</td>\n",
       "      <td>7.4</td>\n",
       "      <td>25.1</td>\n",
       "      <td>0.0</td>\n",
       "      <td>NNW</td>\n",
       "      <td>WSW</td>\n",
       "      <td>4.0</td>\n",
       "      <td>22.0</td>\n",
       "      <td>44.0</td>\n",
       "      <td>25.0</td>\n",
       "      <td>17.2</td>\n",
       "      <td>24.3</td>\n",
       "      <td>No</td>\n",
       "      <td>No</td>\n",
       "    </tr>\n",
       "    <tr>\n",
       "      <th>2</th>\n",
       "      <td>2008-12-03</td>\n",
       "      <td>Albury</td>\n",
       "      <td>12.9</td>\n",
       "      <td>25.7</td>\n",
       "      <td>0.0</td>\n",
       "      <td>W</td>\n",
       "      <td>WSW</td>\n",
       "      <td>19.0</td>\n",
       "      <td>26.0</td>\n",
       "      <td>38.0</td>\n",
       "      <td>30.0</td>\n",
       "      <td>21.0</td>\n",
       "      <td>23.2</td>\n",
       "      <td>No</td>\n",
       "      <td>No</td>\n",
       "    </tr>\n",
       "    <tr>\n",
       "      <th>3</th>\n",
       "      <td>2008-12-04</td>\n",
       "      <td>Albury</td>\n",
       "      <td>9.2</td>\n",
       "      <td>28.0</td>\n",
       "      <td>0.0</td>\n",
       "      <td>SE</td>\n",
       "      <td>E</td>\n",
       "      <td>11.0</td>\n",
       "      <td>9.0</td>\n",
       "      <td>45.0</td>\n",
       "      <td>16.0</td>\n",
       "      <td>18.1</td>\n",
       "      <td>26.5</td>\n",
       "      <td>No</td>\n",
       "      <td>No</td>\n",
       "    </tr>\n",
       "    <tr>\n",
       "      <th>4</th>\n",
       "      <td>2008-12-05</td>\n",
       "      <td>Albury</td>\n",
       "      <td>17.5</td>\n",
       "      <td>32.3</td>\n",
       "      <td>1.0</td>\n",
       "      <td>ENE</td>\n",
       "      <td>NW</td>\n",
       "      <td>7.0</td>\n",
       "      <td>20.0</td>\n",
       "      <td>82.0</td>\n",
       "      <td>33.0</td>\n",
       "      <td>17.8</td>\n",
       "      <td>29.7</td>\n",
       "      <td>No</td>\n",
       "      <td>No</td>\n",
       "    </tr>\n",
       "    <tr>\n",
       "      <th>...</th>\n",
       "      <td>...</td>\n",
       "      <td>...</td>\n",
       "      <td>...</td>\n",
       "      <td>...</td>\n",
       "      <td>...</td>\n",
       "      <td>...</td>\n",
       "      <td>...</td>\n",
       "      <td>...</td>\n",
       "      <td>...</td>\n",
       "      <td>...</td>\n",
       "      <td>...</td>\n",
       "      <td>...</td>\n",
       "      <td>...</td>\n",
       "      <td>...</td>\n",
       "      <td>...</td>\n",
       "    </tr>\n",
       "    <tr>\n",
       "      <th>8420</th>\n",
       "      <td>2017-06-21</td>\n",
       "      <td>Uluru</td>\n",
       "      <td>2.8</td>\n",
       "      <td>23.4</td>\n",
       "      <td>0.0</td>\n",
       "      <td>SE</td>\n",
       "      <td>ENE</td>\n",
       "      <td>13.0</td>\n",
       "      <td>11.0</td>\n",
       "      <td>51.0</td>\n",
       "      <td>24.0</td>\n",
       "      <td>10.1</td>\n",
       "      <td>22.4</td>\n",
       "      <td>No</td>\n",
       "      <td>No</td>\n",
       "    </tr>\n",
       "    <tr>\n",
       "      <th>8421</th>\n",
       "      <td>2017-06-22</td>\n",
       "      <td>Uluru</td>\n",
       "      <td>3.6</td>\n",
       "      <td>25.3</td>\n",
       "      <td>0.0</td>\n",
       "      <td>SE</td>\n",
       "      <td>N</td>\n",
       "      <td>13.0</td>\n",
       "      <td>9.0</td>\n",
       "      <td>56.0</td>\n",
       "      <td>21.0</td>\n",
       "      <td>10.9</td>\n",
       "      <td>24.5</td>\n",
       "      <td>No</td>\n",
       "      <td>No</td>\n",
       "    </tr>\n",
       "    <tr>\n",
       "      <th>8422</th>\n",
       "      <td>2017-06-23</td>\n",
       "      <td>Uluru</td>\n",
       "      <td>5.4</td>\n",
       "      <td>26.9</td>\n",
       "      <td>0.0</td>\n",
       "      <td>SE</td>\n",
       "      <td>WNW</td>\n",
       "      <td>9.0</td>\n",
       "      <td>9.0</td>\n",
       "      <td>53.0</td>\n",
       "      <td>24.0</td>\n",
       "      <td>12.5</td>\n",
       "      <td>26.1</td>\n",
       "      <td>No</td>\n",
       "      <td>No</td>\n",
       "    </tr>\n",
       "    <tr>\n",
       "      <th>8423</th>\n",
       "      <td>2017-06-24</td>\n",
       "      <td>Uluru</td>\n",
       "      <td>7.8</td>\n",
       "      <td>27.0</td>\n",
       "      <td>0.0</td>\n",
       "      <td>SSE</td>\n",
       "      <td>N</td>\n",
       "      <td>13.0</td>\n",
       "      <td>7.0</td>\n",
       "      <td>51.0</td>\n",
       "      <td>24.0</td>\n",
       "      <td>15.1</td>\n",
       "      <td>26.0</td>\n",
       "      <td>No</td>\n",
       "      <td>No</td>\n",
       "    </tr>\n",
       "    <tr>\n",
       "      <th>8424</th>\n",
       "      <td>2017-06-25</td>\n",
       "      <td>Uluru</td>\n",
       "      <td>14.9</td>\n",
       "      <td>27.0</td>\n",
       "      <td>0.0</td>\n",
       "      <td>ESE</td>\n",
       "      <td>ESE</td>\n",
       "      <td>17.0</td>\n",
       "      <td>17.0</td>\n",
       "      <td>62.0</td>\n",
       "      <td>36.0</td>\n",
       "      <td>15.0</td>\n",
       "      <td>20.9</td>\n",
       "      <td>No</td>\n",
       "      <td>No</td>\n",
       "    </tr>\n",
       "  </tbody>\n",
       "</table>\n",
       "<p>8411 rows × 15 columns</p>\n",
       "</div>"
      ],
      "text/plain": [
       "            Date Location  MinTemp  MaxTemp  Rainfall WindDir9am WindDir3pm  \\\n",
       "0     2008-12-01   Albury     13.4     22.9       0.6          W        WNW   \n",
       "1     2008-12-02   Albury      7.4     25.1       0.0        NNW        WSW   \n",
       "2     2008-12-03   Albury     12.9     25.7       0.0          W        WSW   \n",
       "3     2008-12-04   Albury      9.2     28.0       0.0         SE          E   \n",
       "4     2008-12-05   Albury     17.5     32.3       1.0        ENE         NW   \n",
       "...          ...      ...      ...      ...       ...        ...        ...   \n",
       "8420  2017-06-21    Uluru      2.8     23.4       0.0         SE        ENE   \n",
       "8421  2017-06-22    Uluru      3.6     25.3       0.0         SE          N   \n",
       "8422  2017-06-23    Uluru      5.4     26.9       0.0         SE        WNW   \n",
       "8423  2017-06-24    Uluru      7.8     27.0       0.0        SSE          N   \n",
       "8424  2017-06-25    Uluru     14.9     27.0       0.0        ESE        ESE   \n",
       "\n",
       "      WindSpeed9am  WindSpeed3pm  Humidity9am  Humidity3pm  Temp9am  Temp3pm  \\\n",
       "0             20.0          24.0         71.0         22.0     16.9     21.8   \n",
       "1              4.0          22.0         44.0         25.0     17.2     24.3   \n",
       "2             19.0          26.0         38.0         30.0     21.0     23.2   \n",
       "3             11.0           9.0         45.0         16.0     18.1     26.5   \n",
       "4              7.0          20.0         82.0         33.0     17.8     29.7   \n",
       "...            ...           ...          ...          ...      ...      ...   \n",
       "8420          13.0          11.0         51.0         24.0     10.1     22.4   \n",
       "8421          13.0           9.0         56.0         21.0     10.9     24.5   \n",
       "8422           9.0           9.0         53.0         24.0     12.5     26.1   \n",
       "8423          13.0           7.0         51.0         24.0     15.1     26.0   \n",
       "8424          17.0          17.0         62.0         36.0     15.0     20.9   \n",
       "\n",
       "     RainToday RainTomorrow  \n",
       "0           No           No  \n",
       "1           No           No  \n",
       "2           No           No  \n",
       "3           No           No  \n",
       "4           No           No  \n",
       "...        ...          ...  \n",
       "8420        No           No  \n",
       "8421        No           No  \n",
       "8422        No           No  \n",
       "8423        No           No  \n",
       "8424        No           No  \n",
       "\n",
       "[8411 rows x 15 columns]"
      ]
     },
     "execution_count": 13,
     "metadata": {},
     "output_type": "execute_result"
    }
   ],
   "source": [
    "df=df.fillna(method='pad')\n",
    "df"
   ]
  },
  {
   "cell_type": "code",
   "execution_count": 14,
   "id": "00dc2452",
   "metadata": {},
   "outputs": [
    {
     "data": {
      "text/plain": [
       "Date            0\n",
       "Location        0\n",
       "MinTemp         0\n",
       "MaxTemp         0\n",
       "Rainfall        0\n",
       "WindDir9am      0\n",
       "WindDir3pm      0\n",
       "WindSpeed9am    0\n",
       "WindSpeed3pm    0\n",
       "Humidity9am     0\n",
       "Humidity3pm     0\n",
       "Temp9am         0\n",
       "Temp3pm         0\n",
       "RainToday       0\n",
       "RainTomorrow    0\n",
       "dtype: int64"
      ]
     },
     "execution_count": 14,
     "metadata": {},
     "output_type": "execute_result"
    }
   ],
   "source": [
    "df.isnull().sum()"
   ]
  },
  {
   "cell_type": "code",
   "execution_count": 15,
   "id": "ccd674bf",
   "metadata": {},
   "outputs": [
    {
     "data": {
      "text/plain": [
       "Index(['Date', 'Location', 'MinTemp', 'MaxTemp', 'Rainfall', 'WindDir9am',\n",
       "       'WindDir3pm', 'WindSpeed9am', 'WindSpeed3pm', 'Humidity9am',\n",
       "       'Humidity3pm', 'Temp9am', 'Temp3pm', 'RainToday', 'RainTomorrow'],\n",
       "      dtype='object')"
      ]
     },
     "execution_count": 15,
     "metadata": {},
     "output_type": "execute_result"
    }
   ],
   "source": [
    "df.columns"
   ]
  },
  {
   "cell_type": "markdown",
   "id": "476fe6c0",
   "metadata": {},
   "source": [
    "we see that all the null values are removed. so we do furthr process."
   ]
  },
  {
   "cell_type": "code",
   "execution_count": 16,
   "id": "ebe132aa",
   "metadata": {},
   "outputs": [
    {
     "name": "stdout",
     "output_type": "stream",
     "text": [
      "Melbourne       1622\n",
      "Williamtown     1230\n",
      "PerthAirport    1204\n",
      "Albury           907\n",
      "Newcastle        812\n",
      "CoffsHarbour     611\n",
      "Brisbane         579\n",
      "Penrith          482\n",
      "Wollongong       470\n",
      "Darwin           250\n",
      "Adelaide         205\n",
      "Uluru             39\n",
      "Name: Location, dtype: int64\n"
     ]
    },
    {
     "data": {
      "image/png": "[encoded data removed]",
      "text/plain": [
       "<Figure size 432x288 with 1 Axes>"
      ]
     },
     "metadata": {
      "needs_background": "light"
     },
     "output_type": "display_data"
    }
   ],
   "source": [
    "sns.countplot('Location', data=df)\n",
    "print(df['Location'].value_counts())"
   ]
  },
  {
   "cell_type": "markdown",
   "id": "755911f2",
   "metadata": {},
   "source": [
    "mostly location are in the melbourne and williamtown city."
   ]
  },
  {
   "cell_type": "code",
   "execution_count": 17,
   "id": "322a3ca9",
   "metadata": {},
   "outputs": [
    {
     "name": "stdout",
     "output_type": "stream",
     "text": [
      " 12.0    75\n",
      " 13.2    71\n",
      " 13.8    69\n",
      " 12.7    68\n",
      " 14.8    67\n",
      "         ..\n",
      " 0.3      1\n",
      " 28.3     1\n",
      "-1.1      1\n",
      "-1.4      1\n",
      " 26.0     1\n",
      "Name: MinTemp, Length: 285, dtype: int64\n"
     ]
    },
    {
     "data": {
      "image/png": "[encoded data removed]",
      "text/plain": [
       "<Figure size 432x288 with 1 Axes>"
      ]
     },
     "metadata": {
      "needs_background": "light"
     },
     "output_type": "display_data"
    }
   ],
   "source": [
    "sns.countplot('MinTemp', data=df)\n",
    "print(df['MinTemp'].value_counts())"
   ]
  },
  {
   "cell_type": "markdown",
   "id": "69ba1ef5",
   "metadata": {},
   "source": [
    "average temp is around 12 to 13 degree"
   ]
  },
  {
   "cell_type": "code",
   "execution_count": 18,
   "id": "4eabe6de",
   "metadata": {},
   "outputs": [
    {
     "name": "stdout",
     "output_type": "stream",
     "text": [
      "19.0    87\n",
      "19.8    76\n",
      "23.8    75\n",
      "25.0    71\n",
      "22.3    68\n",
      "        ..\n",
      "11.2     1\n",
      "43.1     1\n",
      "42.7     1\n",
      "42.9     1\n",
      "43.5     1\n",
      "Name: MaxTemp, Length: 331, dtype: int64\n"
     ]
    },
    {
     "data": {
      "image/png": "[encoded data removed]",
      "text/plain": [
       "<Figure size 432x288 with 1 Axes>"
      ]
     },
     "metadata": {
      "needs_background": "light"
     },
     "output_type": "display_data"
    }
   ],
   "source": [
    "sns.countplot('MaxTemp', data=df)\n",
    "print(df['MaxTemp'].value_counts())"
   ]
  },
  {
   "cell_type": "markdown",
   "id": "6027587e",
   "metadata": {},
   "source": [
    "max temp in 19 to 23 degree."
   ]
  },
  {
   "cell_type": "code",
   "execution_count": 19,
   "id": "0a7c46a8",
   "metadata": {},
   "outputs": [
    {
     "name": "stdout",
     "output_type": "stream",
     "text": [
      "0.0      5450\n",
      "0.2       410\n",
      "0.4       177\n",
      "0.6       126\n",
      "1.2        90\n",
      "         ... \n",
      "61.2        1\n",
      "128.0       1\n",
      "90.0        1\n",
      "34.4        1\n",
      "40.0        1\n",
      "Name: Rainfall, Length: 250, dtype: int64\n"
     ]
    },
    {
     "data": {
      "image/png": "[encoded data removed]",
      "text/plain": [
       "<Figure size 432x288 with 1 Axes>"
      ]
     },
     "metadata": {
      "needs_background": "light"
     },
     "output_type": "display_data"
    }
   ],
   "source": [
    "sns.countplot('Rainfall', data=df)\n",
    "print(df['Rainfall'].value_counts())"
   ]
  },
  {
   "cell_type": "markdown",
   "id": "419a44e3",
   "metadata": {},
   "source": [
    "0 raninfall is most in aus."
   ]
  },
  {
   "cell_type": "code",
   "execution_count": 20,
   "id": "e3c7bda5",
   "metadata": {},
   "outputs": [
    {
     "name": "stdout",
     "output_type": "stream",
     "text": [
      "N      949\n",
      "SW     828\n",
      "NW     805\n",
      "SE     568\n",
      "WSW    561\n",
      "NE     506\n",
      "WNW    499\n",
      "SSW    492\n",
      "ENE    457\n",
      "NNE    453\n",
      "W      452\n",
      "S      448\n",
      "E      419\n",
      "SSE    395\n",
      "NNW    300\n",
      "ESE    279\n",
      "Name: WindDir9am, dtype: int64\n"
     ]
    },
    {
     "data": {
      "image/png": "[encoded data removed]",
      "text/plain": [
       "<Figure size 432x288 with 1 Axes>"
      ]
     },
     "metadata": {
      "needs_background": "light"
     },
     "output_type": "display_data"
    }
   ],
   "source": [
    "sns.countplot('WindDir9am', data=df)\n",
    "print(df['WindDir9am'].value_counts())"
   ]
  },
  {
   "cell_type": "code",
   "execution_count": 21,
   "id": "306ed6d5",
   "metadata": {},
   "outputs": [
    {
     "name": "stdout",
     "output_type": "stream",
     "text": [
      "SE     898\n",
      "S      745\n",
      "SSE    625\n",
      "WSW    583\n",
      "NE     579\n",
      "SW     562\n",
      "N      526\n",
      "NW     512\n",
      "WNW    493\n",
      "E      470\n",
      "ESE    468\n",
      "W      467\n",
      "ENE    422\n",
      "NNE    377\n",
      "SSW    375\n",
      "NNW    309\n",
      "Name: WindDir3pm, dtype: int64\n"
     ]
    },
    {
     "data": {
      "image/png": "[encoded data removed]",
      "text/plain": [
       "<Figure size 432x288 with 1 Axes>"
      ]
     },
     "metadata": {
      "needs_background": "light"
     },
     "output_type": "display_data"
    }
   ],
   "source": [
    "sns.countplot('WindDir3pm', data=df)\n",
    "print(df['WindDir3pm'].value_counts())"
   ]
  },
  {
   "cell_type": "markdown",
   "id": "00a861e1",
   "metadata": {},
   "source": [
    "south east wind are most."
   ]
  },
  {
   "cell_type": "code",
   "execution_count": 22,
   "id": "fd5fbfc8",
   "metadata": {},
   "outputs": [
    {
     "name": "stdout",
     "output_type": "stream",
     "text": [
      "9.0     808\n",
      "0.0     775\n",
      "13.0    713\n",
      "4.0     616\n",
      "11.0    607\n",
      "7.0     574\n",
      "6.0     516\n",
      "17.0    483\n",
      "15.0    469\n",
      "19.0    435\n",
      "20.0    427\n",
      "24.0    320\n",
      "22.0    280\n",
      "2.0     259\n",
      "28.0    230\n",
      "26.0    208\n",
      "31.0    153\n",
      "30.0    114\n",
      "35.0     77\n",
      "33.0     70\n",
      "37.0     58\n",
      "41.0     49\n",
      "39.0     35\n",
      "44.0     29\n",
      "43.0     28\n",
      "46.0     26\n",
      "52.0     16\n",
      "50.0     10\n",
      "56.0      8\n",
      "54.0      6\n",
      "48.0      6\n",
      "61.0      2\n",
      "57.0      2\n",
      "63.0      2\n",
      "Name: WindSpeed9am, dtype: int64\n"
     ]
    },
    {
     "data": {
      "image/png": "[encoded data removed]",
      "text/plain": [
       "<Figure size 432x288 with 1 Axes>"
      ]
     },
     "metadata": {
      "needs_background": "light"
     },
     "output_type": "display_data"
    }
   ],
   "source": [
    "sns.countplot('WindSpeed9am', data=df)\n",
    "print(df['WindSpeed9am'].value_counts())"
   ]
  },
  {
   "cell_type": "code",
   "execution_count": 23,
   "id": "9c067cc5",
   "metadata": {},
   "outputs": [
    {
     "name": "stdout",
     "output_type": "stream",
     "text": [
      "9.0     727\n",
      "19.0    651\n",
      "13.0    602\n",
      "20.0    594\n",
      "17.0    556\n",
      "11.0    536\n",
      "15.0    526\n",
      "24.0    511\n",
      "28.0    462\n",
      "22.0    462\n",
      "26.0    381\n",
      "7.0     331\n",
      "4.0     297\n",
      "30.0    279\n",
      "31.0    266\n",
      "6.0     241\n",
      "0.0     206\n",
      "33.0    170\n",
      "35.0    137\n",
      "37.0    128\n",
      "39.0     80\n",
      "46.0     66\n",
      "2.0      58\n",
      "41.0     45\n",
      "43.0     34\n",
      "44.0     18\n",
      "50.0     12\n",
      "48.0     11\n",
      "52.0      9\n",
      "56.0      7\n",
      "54.0      2\n",
      "61.0      2\n",
      "57.0      2\n",
      "65.0      1\n",
      "83.0      1\n",
      "Name: WindSpeed3pm, dtype: int64\n"
     ]
    },
    {
     "data": {
      "image/png": "[encoded data removed]",
      "text/plain": [
       "<Figure size 432x288 with 1 Axes>"
      ]
     },
     "metadata": {
      "needs_background": "light"
     },
     "output_type": "display_data"
    }
   ],
   "source": [
    "sns.countplot('WindSpeed3pm', data=df)\n",
    "print(df['WindSpeed3pm'].value_counts())"
   ]
  },
  {
   "cell_type": "code",
   "execution_count": 24,
   "id": "3e7a90e4",
   "metadata": {},
   "outputs": [
    {
     "name": "stdout",
     "output_type": "stream",
     "text": [
      "73.0    205\n",
      "62.0    203\n",
      "68.0    202\n",
      "74.0    196\n",
      "71.0    194\n",
      "       ... \n",
      "17.0      2\n",
      "14.0      2\n",
      "11.0      2\n",
      "10.0      1\n",
      "15.0      1\n",
      "Name: Humidity9am, Length: 90, dtype: int64\n"
     ]
    },
    {
     "data": {
      "image/png": "[encoded data removed]",
      "text/plain": [
       "<Figure size 432x288 with 1 Axes>"
      ]
     },
     "metadata": {
      "needs_background": "light"
     },
     "output_type": "display_data"
    }
   ],
   "source": [
    "sns.countplot('Humidity9am', data=df)\n",
    "print(df['Humidity9am'].value_counts())"
   ]
  },
  {
   "cell_type": "markdown",
   "id": "d26e9069",
   "metadata": {},
   "source": [
    "humidity is around 65 to 75."
   ]
  },
  {
   "cell_type": "code",
   "execution_count": 25,
   "id": "c03fc880",
   "metadata": {},
   "outputs": [
    {
     "name": "stdout",
     "output_type": "stream",
     "text": [
      "48.0    196\n",
      "54.0    195\n",
      "46.0    195\n",
      "55.0    195\n",
      "51.0    194\n",
      "       ... \n",
      "8.0      11\n",
      "7.0       9\n",
      "98.0      7\n",
      "99.0      3\n",
      "6.0       3\n",
      "Name: Humidity3pm, Length: 94, dtype: int64\n"
     ]
    },
    {
     "data": {
      "image/png": "[encoded data removed]",
      "text/plain": [
       "<Figure size 432x288 with 1 Axes>"
      ]
     },
     "metadata": {
      "needs_background": "light"
     },
     "output_type": "display_data"
    }
   ],
   "source": [
    "sns.countplot('Humidity3pm', data=df)\n",
    "print(df['Humidity3pm'].value_counts())"
   ]
  },
  {
   "cell_type": "markdown",
   "id": "4011640c",
   "metadata": {},
   "source": [
    "humity around 45 to 55 "
   ]
  },
  {
   "cell_type": "code",
   "execution_count": 26,
   "id": "b02094fa",
   "metadata": {},
   "outputs": [
    {
     "name": "stdout",
     "output_type": "stream",
     "text": [
      "14.8    77\n",
      "18.0    73\n",
      "18.3    71\n",
      "17.5    69\n",
      "20.6    68\n",
      "        ..\n",
      "2.5      1\n",
      "2.0      1\n",
      "3.4      1\n",
      "5.2      1\n",
      "30.2     1\n",
      "Name: Temp9am, Length: 304, dtype: int64\n"
     ]
    },
    {
     "data": {
      "image/png": "[encoded data removed]",
      "text/plain": [
       "<Figure size 432x288 with 1 Axes>"
      ]
     },
     "metadata": {
      "needs_background": "light"
     },
     "output_type": "display_data"
    }
   ],
   "source": [
    "sns.countplot('Temp9am', data=df)\n",
    "print(df['Temp9am'].value_counts())"
   ]
  },
  {
   "cell_type": "code",
   "execution_count": 27,
   "id": "d3006622",
   "metadata": {},
   "outputs": [
    {
     "name": "stdout",
     "output_type": "stream",
     "text": [
      "26.0    91\n",
      "19.2    80\n",
      "22.5    78\n",
      "19.0    77\n",
      "18.5    73\n",
      "        ..\n",
      "37.4     1\n",
      "8.7      1\n",
      "36.7     1\n",
      "8.6      1\n",
      "42.4     1\n",
      "Name: Temp3pm, Length: 328, dtype: int64\n"
     ]
    },
    {
     "data": {
      "image/png": "[encoded data removed]",
      "text/plain": [
       "<Figure size 432x288 with 1 Axes>"
      ]
     },
     "metadata": {
      "needs_background": "light"
     },
     "output_type": "display_data"
    }
   ],
   "source": [
    "sns.countplot('Temp3pm', data=df)\n",
    "print(df['Temp3pm'].value_counts())"
   ]
  },
  {
   "cell_type": "code",
   "execution_count": 28,
   "id": "60004feb",
   "metadata": {},
   "outputs": [
    {
     "name": "stdout",
     "output_type": "stream",
     "text": [
      "No     6370\n",
      "Yes    2041\n",
      "Name: RainToday, dtype: int64\n"
     ]
    },
    {
     "data": {
      "image/png": "[encoded data removed]",
      "text/plain": [
       "<Figure size 432x288 with 1 Axes>"
      ]
     },
     "metadata": {
      "needs_background": "light"
     },
     "output_type": "display_data"
    }
   ],
   "source": [
    "sns.countplot('RainToday', data=df)\n",
    "print(df['RainToday'].value_counts())"
   ]
  },
  {
   "cell_type": "markdown",
   "id": "8d936421",
   "metadata": {},
   "source": [
    "rain today is no is most in aus"
   ]
  },
  {
   "cell_type": "code",
   "execution_count": 29,
   "id": "eeab91b9",
   "metadata": {},
   "outputs": [
    {
     "name": "stdout",
     "output_type": "stream",
     "text": [
      "No     6369\n",
      "Yes    2042\n",
      "Name: RainTomorrow, dtype: int64\n"
     ]
    },
    {
     "data": {
      "image/png": "[encoded data removed]",
      "text/plain": [
       "<Figure size 432x288 with 1 Axes>"
      ]
     },
     "metadata": {
      "needs_background": "light"
     },
     "output_type": "display_data"
    }
   ],
   "source": [
    "sns.countplot('RainTomorrow', data=df)\n",
    "print(df['RainTomorrow'].value_counts())"
   ]
  },
  {
   "cell_type": "markdown",
   "id": "627fffe9",
   "metadata": {},
   "source": [
    "rain tomorrow no is more than yes"
   ]
  },
  {
   "cell_type": "code",
   "execution_count": 30,
   "id": "12097063",
   "metadata": {},
   "outputs": [
    {
     "name": "stdout",
     "output_type": "stream",
     "text": [
      "<class 'pandas.core.frame.DataFrame'>\n",
      "Int64Index: 8411 entries, 0 to 8424\n",
      "Data columns (total 15 columns):\n",
      " #   Column        Non-Null Count  Dtype  \n",
      "---  ------        --------------  -----  \n",
      " 0   Date          8411 non-null   object \n",
      " 1   Location      8411 non-null   object \n",
      " 2   MinTemp       8411 non-null   float64\n",
      " 3   MaxTemp       8411 non-null   float64\n",
      " 4   Rainfall      8411 non-null   float64\n",
      " 5   WindDir9am    8411 non-null   object \n",
      " 6   WindDir3pm    8411 non-null   object \n",
      " 7   WindSpeed9am  8411 non-null   float64\n",
      " 8   WindSpeed3pm  8411 non-null   float64\n",
      " 9   Humidity9am   8411 non-null   float64\n",
      " 10  Humidity3pm   8411 non-null   float64\n",
      " 11  Temp9am       8411 non-null   float64\n",
      " 12  Temp3pm       8411 non-null   float64\n",
      " 13  RainToday     8411 non-null   object \n",
      " 14  RainTomorrow  8411 non-null   object \n",
      "dtypes: float64(9), object(6)\n",
      "memory usage: 1.3+ MB\n"
     ]
    }
   ],
   "source": [
    "df.info()"
   ]
  },
  {
   "cell_type": "code",
   "execution_count": 31,
   "id": "4b193258",
   "metadata": {},
   "outputs": [
    {
     "data": {
      "text/plain": [
       "<AxesSubplot:xlabel='RainToday', ylabel='MinTemp'>"
      ]
     },
     "execution_count": 31,
     "metadata": {},
     "output_type": "execute_result"
    },
    {
     "data": {
      "image/png": "[encoded data removed]",
      "text/plain": [
       "<Figure size 432x288 with 1 Axes>"
      ]
     },
     "metadata": {
      "needs_background": "light"
     },
     "output_type": "display_data"
    }
   ],
   "source": [
    "sns.scatterplot(x='RainToday', y= 'MinTemp', data=df)"
   ]
  },
  {
   "cell_type": "markdown",
   "id": "b420fa70",
   "metadata": {},
   "source": [
    "when temp is low then percentage of rain is high."
   ]
  },
  {
   "cell_type": "code",
   "execution_count": 32,
   "id": "a11bb0f9",
   "metadata": {},
   "outputs": [
    {
     "data": {
      "text/plain": [
       "<AxesSubplot:xlabel='RainToday', ylabel='MaxTemp'>"
      ]
     },
     "execution_count": 32,
     "metadata": {},
     "output_type": "execute_result"
    },
    {
     "data": {
      "image/png": "[encoded data removed]",
      "text/plain": [
       "<Figure size 432x288 with 1 Axes>"
      ]
     },
     "metadata": {
      "needs_background": "light"
     },
     "output_type": "display_data"
    }
   ],
   "source": [
    "sns.scatterplot(x='RainToday', y= 'MaxTemp', data=df)"
   ]
  },
  {
   "cell_type": "markdown",
   "id": "b41635f7",
   "metadata": {},
   "source": [
    "we see that when the temp is high that day rain percentage was low."
   ]
  },
  {
   "cell_type": "code",
   "execution_count": 33,
   "id": "e5451ebf",
   "metadata": {},
   "outputs": [
    {
     "data": {
      "text/plain": [
       "<AxesSubplot:xlabel='RainTomorrow', ylabel='MaxTemp'>"
      ]
     },
     "execution_count": 33,
     "metadata": {},
     "output_type": "execute_result"
    },
    {
     "data": {
      "image/png": "[encoded data removed]",
      "text/plain": [
       "<Figure size 432x288 with 1 Axes>"
      ]
     },
     "metadata": {
      "needs_background": "light"
     },
     "output_type": "display_data"
    }
   ],
   "source": [
    "sns.scatterplot(x='RainTomorrow', y= 'MaxTemp', data=df)"
   ]
  },
  {
   "cell_type": "code",
   "execution_count": 34,
   "id": "a1edc360",
   "metadata": {},
   "outputs": [
    {
     "data": {
      "text/plain": [
       "<AxesSubplot:xlabel='RainTomorrow', ylabel='Rainfall'>"
      ]
     },
     "execution_count": 34,
     "metadata": {},
     "output_type": "execute_result"
    },
    {
     "data": {
      "image/png": "[encoded data removed]",
      "text/plain": [
       "<Figure size 432x288 with 1 Axes>"
      ]
     },
     "metadata": {
      "needs_background": "light"
     },
     "output_type": "display_data"
    }
   ],
   "source": [
    "sns.scatterplot(x='RainTomorrow', y= 'Rainfall', data=df)"
   ]
  },
  {
   "cell_type": "code",
   "execution_count": 35,
   "id": "357670dd",
   "metadata": {},
   "outputs": [
    {
     "data": {
      "text/plain": [
       "<AxesSubplot:xlabel='RainTomorrow', ylabel='WindSpeed9am'>"
      ]
     },
     "execution_count": 35,
     "metadata": {},
     "output_type": "execute_result"
    },
    {
     "data": {
      "image/png": "[encoded data removed]",
      "text/plain": [
       "<Figure size 432x288 with 1 Axes>"
      ]
     },
     "metadata": {
      "needs_background": "light"
     },
     "output_type": "display_data"
    }
   ],
   "source": [
    "sns.scatterplot(x='RainTomorrow', y= 'WindSpeed9am', data=df)"
   ]
  },
  {
   "cell_type": "code",
   "execution_count": 36,
   "id": "29082139",
   "metadata": {},
   "outputs": [
    {
     "data": {
      "text/plain": [
       "<AxesSubplot:xlabel='RainTomorrow', ylabel='WindSpeed3pm'>"
      ]
     },
     "execution_count": 36,
     "metadata": {},
     "output_type": "execute_result"
    },
    {
     "data": {
      "image/png": "[encoded data removed]",
      "text/plain": [
       "<Figure size 432x288 with 1 Axes>"
      ]
     },
     "metadata": {
      "needs_background": "light"
     },
     "output_type": "display_data"
    }
   ],
   "source": [
    "sns.scatterplot(x='RainTomorrow', y= 'WindSpeed3pm', data=df)"
   ]
  },
  {
   "cell_type": "markdown",
   "id": "5cb3146c",
   "metadata": {},
   "source": [
    "our visualization part is complete so we go to the numaric part."
   ]
  },
  {
   "cell_type": "code",
   "execution_count": 37,
   "id": "05b414e4",
   "metadata": {},
   "outputs": [],
   "source": [
    "from sklearn.preprocessing import LabelEncoder"
   ]
  },
  {
   "cell_type": "code",
   "execution_count": 38,
   "id": "29cad9dd",
   "metadata": {},
   "outputs": [],
   "source": [
    "df1=df.select_dtypes(object)"
   ]
  },
  {
   "cell_type": "code",
   "execution_count": 39,
   "id": "206d0299",
   "metadata": {},
   "outputs": [
    {
     "data": {
      "text/html": [
       "<div>\n",
       "<style scoped>\n",
       "    .dataframe tbody tr th:only-of-type {\n",
       "        vertical-align: middle;\n",
       "    }\n",
       "\n",
       "    .dataframe tbody tr th {\n",
       "        vertical-align: top;\n",
       "    }\n",
       "\n",
       "    .dataframe thead th {\n",
       "        text-align: right;\n",
       "    }\n",
       "</style>\n",
       "<table border=\"1\" class=\"dataframe\">\n",
       "  <thead>\n",
       "    <tr style=\"text-align: right;\">\n",
       "      <th></th>\n",
       "      <th>Date</th>\n",
       "      <th>Location</th>\n",
       "      <th>WindDir9am</th>\n",
       "      <th>WindDir3pm</th>\n",
       "      <th>RainToday</th>\n",
       "      <th>RainTomorrow</th>\n",
       "    </tr>\n",
       "  </thead>\n",
       "  <tbody>\n",
       "    <tr>\n",
       "      <th>0</th>\n",
       "      <td>2008-12-01</td>\n",
       "      <td>Albury</td>\n",
       "      <td>W</td>\n",
       "      <td>WNW</td>\n",
       "      <td>No</td>\n",
       "      <td>No</td>\n",
       "    </tr>\n",
       "    <tr>\n",
       "      <th>1</th>\n",
       "      <td>2008-12-02</td>\n",
       "      <td>Albury</td>\n",
       "      <td>NNW</td>\n",
       "      <td>WSW</td>\n",
       "      <td>No</td>\n",
       "      <td>No</td>\n",
       "    </tr>\n",
       "    <tr>\n",
       "      <th>2</th>\n",
       "      <td>2008-12-03</td>\n",
       "      <td>Albury</td>\n",
       "      <td>W</td>\n",
       "      <td>WSW</td>\n",
       "      <td>No</td>\n",
       "      <td>No</td>\n",
       "    </tr>\n",
       "    <tr>\n",
       "      <th>3</th>\n",
       "      <td>2008-12-04</td>\n",
       "      <td>Albury</td>\n",
       "      <td>SE</td>\n",
       "      <td>E</td>\n",
       "      <td>No</td>\n",
       "      <td>No</td>\n",
       "    </tr>\n",
       "    <tr>\n",
       "      <th>4</th>\n",
       "      <td>2008-12-05</td>\n",
       "      <td>Albury</td>\n",
       "      <td>ENE</td>\n",
       "      <td>NW</td>\n",
       "      <td>No</td>\n",
       "      <td>No</td>\n",
       "    </tr>\n",
       "    <tr>\n",
       "      <th>...</th>\n",
       "      <td>...</td>\n",
       "      <td>...</td>\n",
       "      <td>...</td>\n",
       "      <td>...</td>\n",
       "      <td>...</td>\n",
       "      <td>...</td>\n",
       "    </tr>\n",
       "    <tr>\n",
       "      <th>8420</th>\n",
       "      <td>2017-06-21</td>\n",
       "      <td>Uluru</td>\n",
       "      <td>SE</td>\n",
       "      <td>ENE</td>\n",
       "      <td>No</td>\n",
       "      <td>No</td>\n",
       "    </tr>\n",
       "    <tr>\n",
       "      <th>8421</th>\n",
       "      <td>2017-06-22</td>\n",
       "      <td>Uluru</td>\n",
       "      <td>SE</td>\n",
       "      <td>N</td>\n",
       "      <td>No</td>\n",
       "      <td>No</td>\n",
       "    </tr>\n",
       "    <tr>\n",
       "      <th>8422</th>\n",
       "      <td>2017-06-23</td>\n",
       "      <td>Uluru</td>\n",
       "      <td>SE</td>\n",
       "      <td>WNW</td>\n",
       "      <td>No</td>\n",
       "      <td>No</td>\n",
       "    </tr>\n",
       "    <tr>\n",
       "      <th>8423</th>\n",
       "      <td>2017-06-24</td>\n",
       "      <td>Uluru</td>\n",
       "      <td>SSE</td>\n",
       "      <td>N</td>\n",
       "      <td>No</td>\n",
       "      <td>No</td>\n",
       "    </tr>\n",
       "    <tr>\n",
       "      <th>8424</th>\n",
       "      <td>2017-06-25</td>\n",
       "      <td>Uluru</td>\n",
       "      <td>ESE</td>\n",
       "      <td>ESE</td>\n",
       "      <td>No</td>\n",
       "      <td>No</td>\n",
       "    </tr>\n",
       "  </tbody>\n",
       "</table>\n",
       "<p>8411 rows × 6 columns</p>\n",
       "</div>"
      ],
      "text/plain": [
       "            Date Location WindDir9am WindDir3pm RainToday RainTomorrow\n",
       "0     2008-12-01   Albury          W        WNW        No           No\n",
       "1     2008-12-02   Albury        NNW        WSW        No           No\n",
       "2     2008-12-03   Albury          W        WSW        No           No\n",
       "3     2008-12-04   Albury         SE          E        No           No\n",
       "4     2008-12-05   Albury        ENE         NW        No           No\n",
       "...          ...      ...        ...        ...       ...          ...\n",
       "8420  2017-06-21    Uluru         SE        ENE        No           No\n",
       "8421  2017-06-22    Uluru         SE          N        No           No\n",
       "8422  2017-06-23    Uluru         SE        WNW        No           No\n",
       "8423  2017-06-24    Uluru        SSE          N        No           No\n",
       "8424  2017-06-25    Uluru        ESE        ESE        No           No\n",
       "\n",
       "[8411 rows x 6 columns]"
      ]
     },
     "execution_count": 39,
     "metadata": {},
     "output_type": "execute_result"
    }
   ],
   "source": [
    "df1"
   ]
  },
  {
   "cell_type": "code",
   "execution_count": 40,
   "id": "17475892",
   "metadata": {},
   "outputs": [],
   "source": [
    "for i in df1:\n",
    "    le=LabelEncoder()\n",
    "    df1[i]=le.fit_transform(df1[i])"
   ]
  },
  {
   "cell_type": "code",
   "execution_count": 41,
   "id": "67b1215e",
   "metadata": {},
   "outputs": [
    {
     "data": {
      "text/html": [
       "<div>\n",
       "<style scoped>\n",
       "    .dataframe tbody tr th:only-of-type {\n",
       "        vertical-align: middle;\n",
       "    }\n",
       "\n",
       "    .dataframe tbody tr th {\n",
       "        vertical-align: top;\n",
       "    }\n",
       "\n",
       "    .dataframe thead th {\n",
       "        text-align: right;\n",
       "    }\n",
       "</style>\n",
       "<table border=\"1\" class=\"dataframe\">\n",
       "  <thead>\n",
       "    <tr style=\"text-align: right;\">\n",
       "      <th></th>\n",
       "      <th>Date</th>\n",
       "      <th>Location</th>\n",
       "      <th>WindDir9am</th>\n",
       "      <th>WindDir3pm</th>\n",
       "      <th>RainToday</th>\n",
       "      <th>RainTomorrow</th>\n",
       "    </tr>\n",
       "  </thead>\n",
       "  <tbody>\n",
       "    <tr>\n",
       "      <th>0</th>\n",
       "      <td>0</td>\n",
       "      <td>1</td>\n",
       "      <td>13</td>\n",
       "      <td>14</td>\n",
       "      <td>0</td>\n",
       "      <td>0</td>\n",
       "    </tr>\n",
       "    <tr>\n",
       "      <th>1</th>\n",
       "      <td>1</td>\n",
       "      <td>1</td>\n",
       "      <td>6</td>\n",
       "      <td>15</td>\n",
       "      <td>0</td>\n",
       "      <td>0</td>\n",
       "    </tr>\n",
       "    <tr>\n",
       "      <th>2</th>\n",
       "      <td>2</td>\n",
       "      <td>1</td>\n",
       "      <td>13</td>\n",
       "      <td>15</td>\n",
       "      <td>0</td>\n",
       "      <td>0</td>\n",
       "    </tr>\n",
       "    <tr>\n",
       "      <th>3</th>\n",
       "      <td>3</td>\n",
       "      <td>1</td>\n",
       "      <td>9</td>\n",
       "      <td>0</td>\n",
       "      <td>0</td>\n",
       "      <td>0</td>\n",
       "    </tr>\n",
       "    <tr>\n",
       "      <th>4</th>\n",
       "      <td>4</td>\n",
       "      <td>1</td>\n",
       "      <td>1</td>\n",
       "      <td>7</td>\n",
       "      <td>0</td>\n",
       "      <td>0</td>\n",
       "    </tr>\n",
       "    <tr>\n",
       "      <th>...</th>\n",
       "      <td>...</td>\n",
       "      <td>...</td>\n",
       "      <td>...</td>\n",
       "      <td>...</td>\n",
       "      <td>...</td>\n",
       "      <td>...</td>\n",
       "    </tr>\n",
       "    <tr>\n",
       "      <th>8420</th>\n",
       "      <td>2999</td>\n",
       "      <td>9</td>\n",
       "      <td>9</td>\n",
       "      <td>1</td>\n",
       "      <td>0</td>\n",
       "      <td>0</td>\n",
       "    </tr>\n",
       "    <tr>\n",
       "      <th>8421</th>\n",
       "      <td>3000</td>\n",
       "      <td>9</td>\n",
       "      <td>9</td>\n",
       "      <td>3</td>\n",
       "      <td>0</td>\n",
       "      <td>0</td>\n",
       "    </tr>\n",
       "    <tr>\n",
       "      <th>8422</th>\n",
       "      <td>3001</td>\n",
       "      <td>9</td>\n",
       "      <td>9</td>\n",
       "      <td>14</td>\n",
       "      <td>0</td>\n",
       "      <td>0</td>\n",
       "    </tr>\n",
       "    <tr>\n",
       "      <th>8423</th>\n",
       "      <td>3002</td>\n",
       "      <td>9</td>\n",
       "      <td>10</td>\n",
       "      <td>3</td>\n",
       "      <td>0</td>\n",
       "      <td>0</td>\n",
       "    </tr>\n",
       "    <tr>\n",
       "      <th>8424</th>\n",
       "      <td>3003</td>\n",
       "      <td>9</td>\n",
       "      <td>2</td>\n",
       "      <td>2</td>\n",
       "      <td>0</td>\n",
       "      <td>0</td>\n",
       "    </tr>\n",
       "  </tbody>\n",
       "</table>\n",
       "<p>8411 rows × 6 columns</p>\n",
       "</div>"
      ],
      "text/plain": [
       "      Date  Location  WindDir9am  WindDir3pm  RainToday  RainTomorrow\n",
       "0        0         1          13          14          0             0\n",
       "1        1         1           6          15          0             0\n",
       "2        2         1          13          15          0             0\n",
       "3        3         1           9           0          0             0\n",
       "4        4         1           1           7          0             0\n",
       "...    ...       ...         ...         ...        ...           ...\n",
       "8420  2999         9           9           1          0             0\n",
       "8421  3000         9           9           3          0             0\n",
       "8422  3001         9           9          14          0             0\n",
       "8423  3002         9          10           3          0             0\n",
       "8424  3003         9           2           2          0             0\n",
       "\n",
       "[8411 rows x 6 columns]"
      ]
     },
     "execution_count": 41,
     "metadata": {},
     "output_type": "execute_result"
    }
   ],
   "source": [
    "df1"
   ]
  },
  {
   "cell_type": "code",
   "execution_count": 42,
   "id": "5fb3a6ef",
   "metadata": {},
   "outputs": [],
   "source": [
    "df2=df.select_dtypes(float)"
   ]
  },
  {
   "cell_type": "code",
   "execution_count": 43,
   "id": "adb78d3e",
   "metadata": {},
   "outputs": [
    {
     "data": {
      "text/html": [
       "<div>\n",
       "<style scoped>\n",
       "    .dataframe tbody tr th:only-of-type {\n",
       "        vertical-align: middle;\n",
       "    }\n",
       "\n",
       "    .dataframe tbody tr th {\n",
       "        vertical-align: top;\n",
       "    }\n",
       "\n",
       "    .dataframe thead th {\n",
       "        text-align: right;\n",
       "    }\n",
       "</style>\n",
       "<table border=\"1\" class=\"dataframe\">\n",
       "  <thead>\n",
       "    <tr style=\"text-align: right;\">\n",
       "      <th></th>\n",
       "      <th>MinTemp</th>\n",
       "      <th>MaxTemp</th>\n",
       "      <th>Rainfall</th>\n",
       "      <th>WindSpeed9am</th>\n",
       "      <th>WindSpeed3pm</th>\n",
       "      <th>Humidity9am</th>\n",
       "      <th>Humidity3pm</th>\n",
       "      <th>Temp9am</th>\n",
       "      <th>Temp3pm</th>\n",
       "    </tr>\n",
       "  </thead>\n",
       "  <tbody>\n",
       "    <tr>\n",
       "      <th>0</th>\n",
       "      <td>13.4</td>\n",
       "      <td>22.9</td>\n",
       "      <td>0.6</td>\n",
       "      <td>20.0</td>\n",
       "      <td>24.0</td>\n",
       "      <td>71.0</td>\n",
       "      <td>22.0</td>\n",
       "      <td>16.9</td>\n",
       "      <td>21.8</td>\n",
       "    </tr>\n",
       "    <tr>\n",
       "      <th>1</th>\n",
       "      <td>7.4</td>\n",
       "      <td>25.1</td>\n",
       "      <td>0.0</td>\n",
       "      <td>4.0</td>\n",
       "      <td>22.0</td>\n",
       "      <td>44.0</td>\n",
       "      <td>25.0</td>\n",
       "      <td>17.2</td>\n",
       "      <td>24.3</td>\n",
       "    </tr>\n",
       "    <tr>\n",
       "      <th>2</th>\n",
       "      <td>12.9</td>\n",
       "      <td>25.7</td>\n",
       "      <td>0.0</td>\n",
       "      <td>19.0</td>\n",
       "      <td>26.0</td>\n",
       "      <td>38.0</td>\n",
       "      <td>30.0</td>\n",
       "      <td>21.0</td>\n",
       "      <td>23.2</td>\n",
       "    </tr>\n",
       "    <tr>\n",
       "      <th>3</th>\n",
       "      <td>9.2</td>\n",
       "      <td>28.0</td>\n",
       "      <td>0.0</td>\n",
       "      <td>11.0</td>\n",
       "      <td>9.0</td>\n",
       "      <td>45.0</td>\n",
       "      <td>16.0</td>\n",
       "      <td>18.1</td>\n",
       "      <td>26.5</td>\n",
       "    </tr>\n",
       "    <tr>\n",
       "      <th>4</th>\n",
       "      <td>17.5</td>\n",
       "      <td>32.3</td>\n",
       "      <td>1.0</td>\n",
       "      <td>7.0</td>\n",
       "      <td>20.0</td>\n",
       "      <td>82.0</td>\n",
       "      <td>33.0</td>\n",
       "      <td>17.8</td>\n",
       "      <td>29.7</td>\n",
       "    </tr>\n",
       "    <tr>\n",
       "      <th>...</th>\n",
       "      <td>...</td>\n",
       "      <td>...</td>\n",
       "      <td>...</td>\n",
       "      <td>...</td>\n",
       "      <td>...</td>\n",
       "      <td>...</td>\n",
       "      <td>...</td>\n",
       "      <td>...</td>\n",
       "      <td>...</td>\n",
       "    </tr>\n",
       "    <tr>\n",
       "      <th>8420</th>\n",
       "      <td>2.8</td>\n",
       "      <td>23.4</td>\n",
       "      <td>0.0</td>\n",
       "      <td>13.0</td>\n",
       "      <td>11.0</td>\n",
       "      <td>51.0</td>\n",
       "      <td>24.0</td>\n",
       "      <td>10.1</td>\n",
       "      <td>22.4</td>\n",
       "    </tr>\n",
       "    <tr>\n",
       "      <th>8421</th>\n",
       "      <td>3.6</td>\n",
       "      <td>25.3</td>\n",
       "      <td>0.0</td>\n",
       "      <td>13.0</td>\n",
       "      <td>9.0</td>\n",
       "      <td>56.0</td>\n",
       "      <td>21.0</td>\n",
       "      <td>10.9</td>\n",
       "      <td>24.5</td>\n",
       "    </tr>\n",
       "    <tr>\n",
       "      <th>8422</th>\n",
       "      <td>5.4</td>\n",
       "      <td>26.9</td>\n",
       "      <td>0.0</td>\n",
       "      <td>9.0</td>\n",
       "      <td>9.0</td>\n",
       "      <td>53.0</td>\n",
       "      <td>24.0</td>\n",
       "      <td>12.5</td>\n",
       "      <td>26.1</td>\n",
       "    </tr>\n",
       "    <tr>\n",
       "      <th>8423</th>\n",
       "      <td>7.8</td>\n",
       "      <td>27.0</td>\n",
       "      <td>0.0</td>\n",
       "      <td>13.0</td>\n",
       "      <td>7.0</td>\n",
       "      <td>51.0</td>\n",
       "      <td>24.0</td>\n",
       "      <td>15.1</td>\n",
       "      <td>26.0</td>\n",
       "    </tr>\n",
       "    <tr>\n",
       "      <th>8424</th>\n",
       "      <td>14.9</td>\n",
       "      <td>27.0</td>\n",
       "      <td>0.0</td>\n",
       "      <td>17.0</td>\n",
       "      <td>17.0</td>\n",
       "      <td>62.0</td>\n",
       "      <td>36.0</td>\n",
       "      <td>15.0</td>\n",
       "      <td>20.9</td>\n",
       "    </tr>\n",
       "  </tbody>\n",
       "</table>\n",
       "<p>8411 rows × 9 columns</p>\n",
       "</div>"
      ],
      "text/plain": [
       "      MinTemp  MaxTemp  Rainfall  WindSpeed9am  WindSpeed3pm  Humidity9am  \\\n",
       "0        13.4     22.9       0.6          20.0          24.0         71.0   \n",
       "1         7.4     25.1       0.0           4.0          22.0         44.0   \n",
       "2        12.9     25.7       0.0          19.0          26.0         38.0   \n",
       "3         9.2     28.0       0.0          11.0           9.0         45.0   \n",
       "4        17.5     32.3       1.0           7.0          20.0         82.0   \n",
       "...       ...      ...       ...           ...           ...          ...   \n",
       "8420      2.8     23.4       0.0          13.0          11.0         51.0   \n",
       "8421      3.6     25.3       0.0          13.0           9.0         56.0   \n",
       "8422      5.4     26.9       0.0           9.0           9.0         53.0   \n",
       "8423      7.8     27.0       0.0          13.0           7.0         51.0   \n",
       "8424     14.9     27.0       0.0          17.0          17.0         62.0   \n",
       "\n",
       "      Humidity3pm  Temp9am  Temp3pm  \n",
       "0            22.0     16.9     21.8  \n",
       "1            25.0     17.2     24.3  \n",
       "2            30.0     21.0     23.2  \n",
       "3            16.0     18.1     26.5  \n",
       "4            33.0     17.8     29.7  \n",
       "...           ...      ...      ...  \n",
       "8420         24.0     10.1     22.4  \n",
       "8421         21.0     10.9     24.5  \n",
       "8422         24.0     12.5     26.1  \n",
       "8423         24.0     15.1     26.0  \n",
       "8424         36.0     15.0     20.9  \n",
       "\n",
       "[8411 rows x 9 columns]"
      ]
     },
     "execution_count": 43,
     "metadata": {},
     "output_type": "execute_result"
    }
   ],
   "source": [
    "df2"
   ]
  },
  {
   "cell_type": "code",
   "execution_count": 44,
   "id": "c159cc94",
   "metadata": {},
   "outputs": [],
   "source": [
    "df=pd.concat([df1 , df2], axis=1)"
   ]
  },
  {
   "cell_type": "code",
   "execution_count": 45,
   "id": "30543267",
   "metadata": {},
   "outputs": [
    {
     "data": {
      "text/html": [
       "<div>\n",
       "<style scoped>\n",
       "    .dataframe tbody tr th:only-of-type {\n",
       "        vertical-align: middle;\n",
       "    }\n",
       "\n",
       "    .dataframe tbody tr th {\n",
       "        vertical-align: top;\n",
       "    }\n",
       "\n",
       "    .dataframe thead th {\n",
       "        text-align: right;\n",
       "    }\n",
       "</style>\n",
       "<table border=\"1\" class=\"dataframe\">\n",
       "  <thead>\n",
       "    <tr style=\"text-align: right;\">\n",
       "      <th></th>\n",
       "      <th>Date</th>\n",
       "      <th>Location</th>\n",
       "      <th>WindDir9am</th>\n",
       "      <th>WindDir3pm</th>\n",
       "      <th>RainToday</th>\n",
       "      <th>RainTomorrow</th>\n",
       "      <th>MinTemp</th>\n",
       "      <th>MaxTemp</th>\n",
       "      <th>Rainfall</th>\n",
       "      <th>WindSpeed9am</th>\n",
       "      <th>WindSpeed3pm</th>\n",
       "      <th>Humidity9am</th>\n",
       "      <th>Humidity3pm</th>\n",
       "      <th>Temp9am</th>\n",
       "      <th>Temp3pm</th>\n",
       "    </tr>\n",
       "  </thead>\n",
       "  <tbody>\n",
       "    <tr>\n",
       "      <th>0</th>\n",
       "      <td>0</td>\n",
       "      <td>1</td>\n",
       "      <td>13</td>\n",
       "      <td>14</td>\n",
       "      <td>0</td>\n",
       "      <td>0</td>\n",
       "      <td>13.4</td>\n",
       "      <td>22.9</td>\n",
       "      <td>0.6</td>\n",
       "      <td>20.0</td>\n",
       "      <td>24.0</td>\n",
       "      <td>71.0</td>\n",
       "      <td>22.0</td>\n",
       "      <td>16.9</td>\n",
       "      <td>21.8</td>\n",
       "    </tr>\n",
       "    <tr>\n",
       "      <th>1</th>\n",
       "      <td>1</td>\n",
       "      <td>1</td>\n",
       "      <td>6</td>\n",
       "      <td>15</td>\n",
       "      <td>0</td>\n",
       "      <td>0</td>\n",
       "      <td>7.4</td>\n",
       "      <td>25.1</td>\n",
       "      <td>0.0</td>\n",
       "      <td>4.0</td>\n",
       "      <td>22.0</td>\n",
       "      <td>44.0</td>\n",
       "      <td>25.0</td>\n",
       "      <td>17.2</td>\n",
       "      <td>24.3</td>\n",
       "    </tr>\n",
       "    <tr>\n",
       "      <th>2</th>\n",
       "      <td>2</td>\n",
       "      <td>1</td>\n",
       "      <td>13</td>\n",
       "      <td>15</td>\n",
       "      <td>0</td>\n",
       "      <td>0</td>\n",
       "      <td>12.9</td>\n",
       "      <td>25.7</td>\n",
       "      <td>0.0</td>\n",
       "      <td>19.0</td>\n",
       "      <td>26.0</td>\n",
       "      <td>38.0</td>\n",
       "      <td>30.0</td>\n",
       "      <td>21.0</td>\n",
       "      <td>23.2</td>\n",
       "    </tr>\n",
       "    <tr>\n",
       "      <th>3</th>\n",
       "      <td>3</td>\n",
       "      <td>1</td>\n",
       "      <td>9</td>\n",
       "      <td>0</td>\n",
       "      <td>0</td>\n",
       "      <td>0</td>\n",
       "      <td>9.2</td>\n",
       "      <td>28.0</td>\n",
       "      <td>0.0</td>\n",
       "      <td>11.0</td>\n",
       "      <td>9.0</td>\n",
       "      <td>45.0</td>\n",
       "      <td>16.0</td>\n",
       "      <td>18.1</td>\n",
       "      <td>26.5</td>\n",
       "    </tr>\n",
       "    <tr>\n",
       "      <th>4</th>\n",
       "      <td>4</td>\n",
       "      <td>1</td>\n",
       "      <td>1</td>\n",
       "      <td>7</td>\n",
       "      <td>0</td>\n",
       "      <td>0</td>\n",
       "      <td>17.5</td>\n",
       "      <td>32.3</td>\n",
       "      <td>1.0</td>\n",
       "      <td>7.0</td>\n",
       "      <td>20.0</td>\n",
       "      <td>82.0</td>\n",
       "      <td>33.0</td>\n",
       "      <td>17.8</td>\n",
       "      <td>29.7</td>\n",
       "    </tr>\n",
       "    <tr>\n",
       "      <th>...</th>\n",
       "      <td>...</td>\n",
       "      <td>...</td>\n",
       "      <td>...</td>\n",
       "      <td>...</td>\n",
       "      <td>...</td>\n",
       "      <td>...</td>\n",
       "      <td>...</td>\n",
       "      <td>...</td>\n",
       "      <td>...</td>\n",
       "      <td>...</td>\n",
       "      <td>...</td>\n",
       "      <td>...</td>\n",
       "      <td>...</td>\n",
       "      <td>...</td>\n",
       "      <td>...</td>\n",
       "    </tr>\n",
       "    <tr>\n",
       "      <th>8420</th>\n",
       "      <td>2999</td>\n",
       "      <td>9</td>\n",
       "      <td>9</td>\n",
       "      <td>1</td>\n",
       "      <td>0</td>\n",
       "      <td>0</td>\n",
       "      <td>2.8</td>\n",
       "      <td>23.4</td>\n",
       "      <td>0.0</td>\n",
       "      <td>13.0</td>\n",
       "      <td>11.0</td>\n",
       "      <td>51.0</td>\n",
       "      <td>24.0</td>\n",
       "      <td>10.1</td>\n",
       "      <td>22.4</td>\n",
       "    </tr>\n",
       "    <tr>\n",
       "      <th>8421</th>\n",
       "      <td>3000</td>\n",
       "      <td>9</td>\n",
       "      <td>9</td>\n",
       "      <td>3</td>\n",
       "      <td>0</td>\n",
       "      <td>0</td>\n",
       "      <td>3.6</td>\n",
       "      <td>25.3</td>\n",
       "      <td>0.0</td>\n",
       "      <td>13.0</td>\n",
       "      <td>9.0</td>\n",
       "      <td>56.0</td>\n",
       "      <td>21.0</td>\n",
       "      <td>10.9</td>\n",
       "      <td>24.5</td>\n",
       "    </tr>\n",
       "    <tr>\n",
       "      <th>8422</th>\n",
       "      <td>3001</td>\n",
       "      <td>9</td>\n",
       "      <td>9</td>\n",
       "      <td>14</td>\n",
       "      <td>0</td>\n",
       "      <td>0</td>\n",
       "      <td>5.4</td>\n",
       "      <td>26.9</td>\n",
       "      <td>0.0</td>\n",
       "      <td>9.0</td>\n",
       "      <td>9.0</td>\n",
       "      <td>53.0</td>\n",
       "      <td>24.0</td>\n",
       "      <td>12.5</td>\n",
       "      <td>26.1</td>\n",
       "    </tr>\n",
       "    <tr>\n",
       "      <th>8423</th>\n",
       "      <td>3002</td>\n",
       "      <td>9</td>\n",
       "      <td>10</td>\n",
       "      <td>3</td>\n",
       "      <td>0</td>\n",
       "      <td>0</td>\n",
       "      <td>7.8</td>\n",
       "      <td>27.0</td>\n",
       "      <td>0.0</td>\n",
       "      <td>13.0</td>\n",
       "      <td>7.0</td>\n",
       "      <td>51.0</td>\n",
       "      <td>24.0</td>\n",
       "      <td>15.1</td>\n",
       "      <td>26.0</td>\n",
       "    </tr>\n",
       "    <tr>\n",
       "      <th>8424</th>\n",
       "      <td>3003</td>\n",
       "      <td>9</td>\n",
       "      <td>2</td>\n",
       "      <td>2</td>\n",
       "      <td>0</td>\n",
       "      <td>0</td>\n",
       "      <td>14.9</td>\n",
       "      <td>27.0</td>\n",
       "      <td>0.0</td>\n",
       "      <td>17.0</td>\n",
       "      <td>17.0</td>\n",
       "      <td>62.0</td>\n",
       "      <td>36.0</td>\n",
       "      <td>15.0</td>\n",
       "      <td>20.9</td>\n",
       "    </tr>\n",
       "  </tbody>\n",
       "</table>\n",
       "<p>8411 rows × 15 columns</p>\n",
       "</div>"
      ],
      "text/plain": [
       "      Date  Location  WindDir9am  WindDir3pm  RainToday  RainTomorrow  \\\n",
       "0        0         1          13          14          0             0   \n",
       "1        1         1           6          15          0             0   \n",
       "2        2         1          13          15          0             0   \n",
       "3        3         1           9           0          0             0   \n",
       "4        4         1           1           7          0             0   \n",
       "...    ...       ...         ...         ...        ...           ...   \n",
       "8420  2999         9           9           1          0             0   \n",
       "8421  3000         9           9           3          0             0   \n",
       "8422  3001         9           9          14          0             0   \n",
       "8423  3002         9          10           3          0             0   \n",
       "8424  3003         9           2           2          0             0   \n",
       "\n",
       "      MinTemp  MaxTemp  Rainfall  WindSpeed9am  WindSpeed3pm  Humidity9am  \\\n",
       "0        13.4     22.9       0.6          20.0          24.0         71.0   \n",
       "1         7.4     25.1       0.0           4.0          22.0         44.0   \n",
       "2        12.9     25.7       0.0          19.0          26.0         38.0   \n",
       "3         9.2     28.0       0.0          11.0           9.0         45.0   \n",
       "4        17.5     32.3       1.0           7.0          20.0         82.0   \n",
       "...       ...      ...       ...           ...           ...          ...   \n",
       "8420      2.8     23.4       0.0          13.0          11.0         51.0   \n",
       "8421      3.6     25.3       0.0          13.0           9.0         56.0   \n",
       "8422      5.4     26.9       0.0           9.0           9.0         53.0   \n",
       "8423      7.8     27.0       0.0          13.0           7.0         51.0   \n",
       "8424     14.9     27.0       0.0          17.0          17.0         62.0   \n",
       "\n",
       "      Humidity3pm  Temp9am  Temp3pm  \n",
       "0            22.0     16.9     21.8  \n",
       "1            25.0     17.2     24.3  \n",
       "2            30.0     21.0     23.2  \n",
       "3            16.0     18.1     26.5  \n",
       "4            33.0     17.8     29.7  \n",
       "...           ...      ...      ...  \n",
       "8420         24.0     10.1     22.4  \n",
       "8421         21.0     10.9     24.5  \n",
       "8422         24.0     12.5     26.1  \n",
       "8423         24.0     15.1     26.0  \n",
       "8424         36.0     15.0     20.9  \n",
       "\n",
       "[8411 rows x 15 columns]"
      ]
     },
     "execution_count": 45,
     "metadata": {},
     "output_type": "execute_result"
    }
   ],
   "source": [
    "df"
   ]
  },
  {
   "cell_type": "markdown",
   "id": "cc36e39c",
   "metadata": {},
   "source": [
    "our all the data are in numaric form so we further do the process."
   ]
  },
  {
   "cell_type": "markdown",
   "id": "fcf45817",
   "metadata": {},
   "source": [
    "# Describe"
   ]
  },
  {
   "cell_type": "code",
   "execution_count": 46,
   "id": "cd96f257",
   "metadata": {},
   "outputs": [
    {
     "data": {
      "text/html": [
       "<div>\n",
       "<style scoped>\n",
       "    .dataframe tbody tr th:only-of-type {\n",
       "        vertical-align: middle;\n",
       "    }\n",
       "\n",
       "    .dataframe tbody tr th {\n",
       "        vertical-align: top;\n",
       "    }\n",
       "\n",
       "    .dataframe thead th {\n",
       "        text-align: right;\n",
       "    }\n",
       "</style>\n",
       "<table border=\"1\" class=\"dataframe\">\n",
       "  <thead>\n",
       "    <tr style=\"text-align: right;\">\n",
       "      <th></th>\n",
       "      <th>Date</th>\n",
       "      <th>Location</th>\n",
       "      <th>WindDir9am</th>\n",
       "      <th>WindDir3pm</th>\n",
       "      <th>RainToday</th>\n",
       "      <th>RainTomorrow</th>\n",
       "      <th>MinTemp</th>\n",
       "      <th>MaxTemp</th>\n",
       "      <th>Rainfall</th>\n",
       "      <th>WindSpeed9am</th>\n",
       "      <th>WindSpeed3pm</th>\n",
       "      <th>Humidity9am</th>\n",
       "      <th>Humidity3pm</th>\n",
       "      <th>Temp9am</th>\n",
       "      <th>Temp3pm</th>\n",
       "    </tr>\n",
       "  </thead>\n",
       "  <tbody>\n",
       "    <tr>\n",
       "      <th>count</th>\n",
       "      <td>8411.000000</td>\n",
       "      <td>8411.000000</td>\n",
       "      <td>8411.000000</td>\n",
       "      <td>8411.000000</td>\n",
       "      <td>8411.000000</td>\n",
       "      <td>8411.000000</td>\n",
       "      <td>8411.000000</td>\n",
       "      <td>8411.000000</td>\n",
       "      <td>8411.000000</td>\n",
       "      <td>8411.000000</td>\n",
       "      <td>8411.000000</td>\n",
       "      <td>8411.000000</td>\n",
       "      <td>8411.000000</td>\n",
       "      <td>8411.000000</td>\n",
       "      <td>8411.000000</td>\n",
       "    </tr>\n",
       "    <tr>\n",
       "      <th>mean</th>\n",
       "      <td>1296.305909</td>\n",
       "      <td>5.790869</td>\n",
       "      <td>7.710974</td>\n",
       "      <td>7.781952</td>\n",
       "      <td>0.242658</td>\n",
       "      <td>0.242777</td>\n",
       "      <td>13.191154</td>\n",
       "      <td>23.864903</td>\n",
       "      <td>2.782689</td>\n",
       "      <td>13.811794</td>\n",
       "      <td>18.628582</td>\n",
       "      <td>67.854714</td>\n",
       "      <td>51.180478</td>\n",
       "      <td>17.763595</td>\n",
       "      <td>22.457056</td>\n",
       "    </tr>\n",
       "    <tr>\n",
       "      <th>std</th>\n",
       "      <td>854.088335</td>\n",
       "      <td>3.163239</td>\n",
       "      <td>4.535897</td>\n",
       "      <td>4.476336</td>\n",
       "      <td>0.428716</td>\n",
       "      <td>0.428787</td>\n",
       "      <td>5.403193</td>\n",
       "      <td>6.134185</td>\n",
       "      <td>10.368921</td>\n",
       "      <td>10.175903</td>\n",
       "      <td>9.922528</td>\n",
       "      <td>16.833035</td>\n",
       "      <td>18.455319</td>\n",
       "      <td>5.627250</td>\n",
       "      <td>5.965063</td>\n",
       "    </tr>\n",
       "    <tr>\n",
       "      <th>min</th>\n",
       "      <td>0.000000</td>\n",
       "      <td>0.000000</td>\n",
       "      <td>0.000000</td>\n",
       "      <td>0.000000</td>\n",
       "      <td>0.000000</td>\n",
       "      <td>0.000000</td>\n",
       "      <td>-2.000000</td>\n",
       "      <td>8.200000</td>\n",
       "      <td>0.000000</td>\n",
       "      <td>0.000000</td>\n",
       "      <td>0.000000</td>\n",
       "      <td>10.000000</td>\n",
       "      <td>6.000000</td>\n",
       "      <td>1.900000</td>\n",
       "      <td>7.300000</td>\n",
       "    </tr>\n",
       "    <tr>\n",
       "      <th>25%</th>\n",
       "      <td>589.500000</td>\n",
       "      <td>3.000000</td>\n",
       "      <td>3.000000</td>\n",
       "      <td>4.000000</td>\n",
       "      <td>0.000000</td>\n",
       "      <td>0.000000</td>\n",
       "      <td>9.200000</td>\n",
       "      <td>19.300000</td>\n",
       "      <td>0.000000</td>\n",
       "      <td>6.000000</td>\n",
       "      <td>11.000000</td>\n",
       "      <td>56.000000</td>\n",
       "      <td>38.000000</td>\n",
       "      <td>13.800000</td>\n",
       "      <td>18.100000</td>\n",
       "    </tr>\n",
       "    <tr>\n",
       "      <th>50%</th>\n",
       "      <td>1087.000000</td>\n",
       "      <td>6.000000</td>\n",
       "      <td>8.000000</td>\n",
       "      <td>8.000000</td>\n",
       "      <td>0.000000</td>\n",
       "      <td>0.000000</td>\n",
       "      <td>13.300000</td>\n",
       "      <td>23.300000</td>\n",
       "      <td>0.000000</td>\n",
       "      <td>13.000000</td>\n",
       "      <td>19.000000</td>\n",
       "      <td>68.000000</td>\n",
       "      <td>51.000000</td>\n",
       "      <td>17.800000</td>\n",
       "      <td>21.900000</td>\n",
       "    </tr>\n",
       "    <tr>\n",
       "      <th>75%</th>\n",
       "      <td>2021.000000</td>\n",
       "      <td>8.000000</td>\n",
       "      <td>12.000000</td>\n",
       "      <td>12.000000</td>\n",
       "      <td>0.000000</td>\n",
       "      <td>0.000000</td>\n",
       "      <td>17.400000</td>\n",
       "      <td>28.050000</td>\n",
       "      <td>1.000000</td>\n",
       "      <td>20.000000</td>\n",
       "      <td>26.000000</td>\n",
       "      <td>80.000000</td>\n",
       "      <td>63.000000</td>\n",
       "      <td>22.000000</td>\n",
       "      <td>26.400000</td>\n",
       "    </tr>\n",
       "    <tr>\n",
       "      <th>max</th>\n",
       "      <td>3003.000000</td>\n",
       "      <td>11.000000</td>\n",
       "      <td>15.000000</td>\n",
       "      <td>15.000000</td>\n",
       "      <td>1.000000</td>\n",
       "      <td>1.000000</td>\n",
       "      <td>28.500000</td>\n",
       "      <td>45.500000</td>\n",
       "      <td>371.000000</td>\n",
       "      <td>63.000000</td>\n",
       "      <td>83.000000</td>\n",
       "      <td>100.000000</td>\n",
       "      <td>99.000000</td>\n",
       "      <td>39.400000</td>\n",
       "      <td>44.100000</td>\n",
       "    </tr>\n",
       "  </tbody>\n",
       "</table>\n",
       "</div>"
      ],
      "text/plain": [
       "              Date     Location   WindDir9am   WindDir3pm    RainToday  \\\n",
       "count  8411.000000  8411.000000  8411.000000  8411.000000  8411.000000   \n",
       "mean   1296.305909     5.790869     7.710974     7.781952     0.242658   \n",
       "std     854.088335     3.163239     4.535897     4.476336     0.428716   \n",
       "min       0.000000     0.000000     0.000000     0.000000     0.000000   \n",
       "25%     589.500000     3.000000     3.000000     4.000000     0.000000   \n",
       "50%    1087.000000     6.000000     8.000000     8.000000     0.000000   \n",
       "75%    2021.000000     8.000000    12.000000    12.000000     0.000000   \n",
       "max    3003.000000    11.000000    15.000000    15.000000     1.000000   \n",
       "\n",
       "       RainTomorrow      MinTemp      MaxTemp     Rainfall  WindSpeed9am  \\\n",
       "count   8411.000000  8411.000000  8411.000000  8411.000000   8411.000000   \n",
       "mean       0.242777    13.191154    23.864903     2.782689     13.811794   \n",
       "std        0.428787     5.403193     6.134185    10.368921     10.175903   \n",
       "min        0.000000    -2.000000     8.200000     0.000000      0.000000   \n",
       "25%        0.000000     9.200000    19.300000     0.000000      6.000000   \n",
       "50%        0.000000    13.300000    23.300000     0.000000     13.000000   \n",
       "75%        0.000000    17.400000    28.050000     1.000000     20.000000   \n",
       "max        1.000000    28.500000    45.500000   371.000000     63.000000   \n",
       "\n",
       "       WindSpeed3pm  Humidity9am  Humidity3pm      Temp9am      Temp3pm  \n",
       "count   8411.000000  8411.000000  8411.000000  8411.000000  8411.000000  \n",
       "mean      18.628582    67.854714    51.180478    17.763595    22.457056  \n",
       "std        9.922528    16.833035    18.455319     5.627250     5.965063  \n",
       "min        0.000000    10.000000     6.000000     1.900000     7.300000  \n",
       "25%       11.000000    56.000000    38.000000    13.800000    18.100000  \n",
       "50%       19.000000    68.000000    51.000000    17.800000    21.900000  \n",
       "75%       26.000000    80.000000    63.000000    22.000000    26.400000  \n",
       "max       83.000000   100.000000    99.000000    39.400000    44.100000  "
      ]
     },
     "execution_count": 46,
     "metadata": {},
     "output_type": "execute_result"
    }
   ],
   "source": [
    "df.describe()"
   ]
  },
  {
   "cell_type": "raw",
   "id": "e0e55247",
   "metadata": {},
   "source": [
    "in that dataset wee see that the all columns mean values and standard deviation.\n",
    "\n",
    "all columns information is see in describtion minimun values of the each column\n",
    "25th percentile of each column\n",
    "50th percentile of each column\n",
    "75th percentile of the each column\n",
    "as well as we see the maximum value of the each columns.\n",
    "we see the count of each columns are present in respresctive column"
   ]
  },
  {
   "cell_type": "markdown",
   "id": "d47e38b3",
   "metadata": {},
   "source": [
    "# Correlation"
   ]
  },
  {
   "cell_type": "code",
   "execution_count": 47,
   "id": "a8af0bc8",
   "metadata": {},
   "outputs": [
    {
     "data": {
      "text/html": [
       "<div>\n",
       "<style scoped>\n",
       "    .dataframe tbody tr th:only-of-type {\n",
       "        vertical-align: middle;\n",
       "    }\n",
       "\n",
       "    .dataframe tbody tr th {\n",
       "        vertical-align: top;\n",
       "    }\n",
       "\n",
       "    .dataframe thead th {\n",
       "        text-align: right;\n",
       "    }\n",
       "</style>\n",
       "<table border=\"1\" class=\"dataframe\">\n",
       "  <thead>\n",
       "    <tr style=\"text-align: right;\">\n",
       "      <th></th>\n",
       "      <th>Date</th>\n",
       "      <th>Location</th>\n",
       "      <th>WindDir9am</th>\n",
       "      <th>WindDir3pm</th>\n",
       "      <th>RainToday</th>\n",
       "      <th>RainTomorrow</th>\n",
       "      <th>MinTemp</th>\n",
       "      <th>MaxTemp</th>\n",
       "      <th>Rainfall</th>\n",
       "      <th>WindSpeed9am</th>\n",
       "      <th>WindSpeed3pm</th>\n",
       "      <th>Humidity9am</th>\n",
       "      <th>Humidity3pm</th>\n",
       "      <th>Temp9am</th>\n",
       "      <th>Temp3pm</th>\n",
       "    </tr>\n",
       "  </thead>\n",
       "  <tbody>\n",
       "    <tr>\n",
       "      <th>Date</th>\n",
       "      <td>1.000000</td>\n",
       "      <td>0.476950</td>\n",
       "      <td>0.031964</td>\n",
       "      <td>-0.004219</td>\n",
       "      <td>-0.011850</td>\n",
       "      <td>-0.011735</td>\n",
       "      <td>0.017006</td>\n",
       "      <td>0.102442</td>\n",
       "      <td>0.003496</td>\n",
       "      <td>-0.085221</td>\n",
       "      <td>-0.030979</td>\n",
       "      <td>0.088871</td>\n",
       "      <td>-0.043578</td>\n",
       "      <td>0.070486</td>\n",
       "      <td>0.116794</td>\n",
       "    </tr>\n",
       "    <tr>\n",
       "      <th>Location</th>\n",
       "      <td>0.476950</td>\n",
       "      <td>1.000000</td>\n",
       "      <td>-0.039235</td>\n",
       "      <td>-0.030017</td>\n",
       "      <td>0.003581</td>\n",
       "      <td>0.003335</td>\n",
       "      <td>0.116128</td>\n",
       "      <td>0.063654</td>\n",
       "      <td>0.006709</td>\n",
       "      <td>0.222143</td>\n",
       "      <td>0.228804</td>\n",
       "      <td>0.005720</td>\n",
       "      <td>0.055602</td>\n",
       "      <td>0.117231</td>\n",
       "      <td>0.060372</td>\n",
       "    </tr>\n",
       "    <tr>\n",
       "      <th>WindDir9am</th>\n",
       "      <td>0.031964</td>\n",
       "      <td>-0.039235</td>\n",
       "      <td>1.000000</td>\n",
       "      <td>0.257844</td>\n",
       "      <td>0.161176</td>\n",
       "      <td>0.037611</td>\n",
       "      <td>-0.083790</td>\n",
       "      <td>-0.246121</td>\n",
       "      <td>0.093433</td>\n",
       "      <td>-0.062921</td>\n",
       "      <td>-0.031621</td>\n",
       "      <td>0.101285</td>\n",
       "      <td>0.159201</td>\n",
       "      <td>-0.151750</td>\n",
       "      <td>-0.252001</td>\n",
       "    </tr>\n",
       "    <tr>\n",
       "      <th>WindDir3pm</th>\n",
       "      <td>-0.004219</td>\n",
       "      <td>-0.030017</td>\n",
       "      <td>0.257844</td>\n",
       "      <td>1.000000</td>\n",
       "      <td>0.098209</td>\n",
       "      <td>0.011167</td>\n",
       "      <td>-0.152768</td>\n",
       "      <td>-0.183767</td>\n",
       "      <td>0.035911</td>\n",
       "      <td>0.028202</td>\n",
       "      <td>0.088849</td>\n",
       "      <td>-0.014110</td>\n",
       "      <td>-0.022959</td>\n",
       "      <td>-0.169020</td>\n",
       "      <td>-0.191743</td>\n",
       "    </tr>\n",
       "    <tr>\n",
       "      <th>RainToday</th>\n",
       "      <td>-0.011850</td>\n",
       "      <td>0.003581</td>\n",
       "      <td>0.161176</td>\n",
       "      <td>0.098209</td>\n",
       "      <td>1.000000</td>\n",
       "      <td>0.337965</td>\n",
       "      <td>0.062586</td>\n",
       "      <td>-0.228969</td>\n",
       "      <td>0.463744</td>\n",
       "      <td>0.039852</td>\n",
       "      <td>0.021385</td>\n",
       "      <td>0.377393</td>\n",
       "      <td>0.360496</td>\n",
       "      <td>-0.102799</td>\n",
       "      <td>-0.239045</td>\n",
       "    </tr>\n",
       "    <tr>\n",
       "      <th>RainTomorrow</th>\n",
       "      <td>-0.011735</td>\n",
       "      <td>0.003335</td>\n",
       "      <td>0.037611</td>\n",
       "      <td>0.011167</td>\n",
       "      <td>0.337965</td>\n",
       "      <td>1.000000</td>\n",
       "      <td>0.093129</td>\n",
       "      <td>-0.160174</td>\n",
       "      <td>0.227006</td>\n",
       "      <td>0.070454</td>\n",
       "      <td>0.052721</td>\n",
       "      <td>0.282244</td>\n",
       "      <td>0.450228</td>\n",
       "      <td>-0.029147</td>\n",
       "      <td>-0.200990</td>\n",
       "    </tr>\n",
       "    <tr>\n",
       "      <th>MinTemp</th>\n",
       "      <td>0.017006</td>\n",
       "      <td>0.116128</td>\n",
       "      <td>-0.083790</td>\n",
       "      <td>-0.152768</td>\n",
       "      <td>0.062586</td>\n",
       "      <td>0.093129</td>\n",
       "      <td>1.000000</td>\n",
       "      <td>0.720770</td>\n",
       "      <td>0.086502</td>\n",
       "      <td>0.137161</td>\n",
       "      <td>0.164213</td>\n",
       "      <td>-0.131177</td>\n",
       "      <td>0.085532</td>\n",
       "      <td>0.888468</td>\n",
       "      <td>0.684487</td>\n",
       "    </tr>\n",
       "    <tr>\n",
       "      <th>MaxTemp</th>\n",
       "      <td>0.102442</td>\n",
       "      <td>0.063654</td>\n",
       "      <td>-0.246121</td>\n",
       "      <td>-0.183767</td>\n",
       "      <td>-0.228969</td>\n",
       "      <td>-0.160174</td>\n",
       "      <td>0.720770</td>\n",
       "      <td>1.000000</td>\n",
       "      <td>-0.088484</td>\n",
       "      <td>0.012755</td>\n",
       "      <td>0.079756</td>\n",
       "      <td>-0.390401</td>\n",
       "      <td>-0.414011</td>\n",
       "      <td>0.868369</td>\n",
       "      <td>0.973633</td>\n",
       "    </tr>\n",
       "    <tr>\n",
       "      <th>Rainfall</th>\n",
       "      <td>0.003496</td>\n",
       "      <td>0.006709</td>\n",
       "      <td>0.093433</td>\n",
       "      <td>0.035911</td>\n",
       "      <td>0.463744</td>\n",
       "      <td>0.227006</td>\n",
       "      <td>0.086502</td>\n",
       "      <td>-0.088484</td>\n",
       "      <td>1.000000</td>\n",
       "      <td>0.050486</td>\n",
       "      <td>0.022327</td>\n",
       "      <td>0.230111</td>\n",
       "      <td>0.237356</td>\n",
       "      <td>-0.008105</td>\n",
       "      <td>-0.091935</td>\n",
       "    </tr>\n",
       "    <tr>\n",
       "      <th>WindSpeed9am</th>\n",
       "      <td>-0.085221</td>\n",
       "      <td>0.222143</td>\n",
       "      <td>-0.062921</td>\n",
       "      <td>0.028202</td>\n",
       "      <td>0.039852</td>\n",
       "      <td>0.070454</td>\n",
       "      <td>0.137161</td>\n",
       "      <td>0.012755</td>\n",
       "      <td>0.050486</td>\n",
       "      <td>1.000000</td>\n",
       "      <td>0.543170</td>\n",
       "      <td>-0.359021</td>\n",
       "      <td>-0.108907</td>\n",
       "      <td>0.109652</td>\n",
       "      <td>-0.004254</td>\n",
       "    </tr>\n",
       "    <tr>\n",
       "      <th>WindSpeed3pm</th>\n",
       "      <td>-0.030979</td>\n",
       "      <td>0.228804</td>\n",
       "      <td>-0.031621</td>\n",
       "      <td>0.088849</td>\n",
       "      <td>0.021385</td>\n",
       "      <td>0.052721</td>\n",
       "      <td>0.164213</td>\n",
       "      <td>0.079756</td>\n",
       "      <td>0.022327</td>\n",
       "      <td>0.543170</td>\n",
       "      <td>1.000000</td>\n",
       "      <td>-0.244238</td>\n",
       "      <td>-0.108798</td>\n",
       "      <td>0.171420</td>\n",
       "      <td>0.073674</td>\n",
       "    </tr>\n",
       "    <tr>\n",
       "      <th>Humidity9am</th>\n",
       "      <td>0.088871</td>\n",
       "      <td>0.005720</td>\n",
       "      <td>0.101285</td>\n",
       "      <td>-0.014110</td>\n",
       "      <td>0.377393</td>\n",
       "      <td>0.282244</td>\n",
       "      <td>-0.131177</td>\n",
       "      <td>-0.390401</td>\n",
       "      <td>0.230111</td>\n",
       "      <td>-0.359021</td>\n",
       "      <td>-0.244238</td>\n",
       "      <td>1.000000</td>\n",
       "      <td>0.629205</td>\n",
       "      <td>-0.377897</td>\n",
       "      <td>-0.380310</td>\n",
       "    </tr>\n",
       "    <tr>\n",
       "      <th>Humidity3pm</th>\n",
       "      <td>-0.043578</td>\n",
       "      <td>0.055602</td>\n",
       "      <td>0.159201</td>\n",
       "      <td>-0.022959</td>\n",
       "      <td>0.360496</td>\n",
       "      <td>0.450228</td>\n",
       "      <td>0.085532</td>\n",
       "      <td>-0.414011</td>\n",
       "      <td>0.237356</td>\n",
       "      <td>-0.108907</td>\n",
       "      <td>-0.108798</td>\n",
       "      <td>0.629205</td>\n",
       "      <td>1.000000</td>\n",
       "      <td>-0.123692</td>\n",
       "      <td>-0.491763</td>\n",
       "    </tr>\n",
       "    <tr>\n",
       "      <th>Temp9am</th>\n",
       "      <td>0.070486</td>\n",
       "      <td>0.117231</td>\n",
       "      <td>-0.151750</td>\n",
       "      <td>-0.169020</td>\n",
       "      <td>-0.102799</td>\n",
       "      <td>-0.029147</td>\n",
       "      <td>0.888468</td>\n",
       "      <td>0.868369</td>\n",
       "      <td>-0.008105</td>\n",
       "      <td>0.109652</td>\n",
       "      <td>0.171420</td>\n",
       "      <td>-0.377897</td>\n",
       "      <td>-0.123692</td>\n",
       "      <td>1.000000</td>\n",
       "      <td>0.832491</td>\n",
       "    </tr>\n",
       "    <tr>\n",
       "      <th>Temp3pm</th>\n",
       "      <td>0.116794</td>\n",
       "      <td>0.060372</td>\n",
       "      <td>-0.252001</td>\n",
       "      <td>-0.191743</td>\n",
       "      <td>-0.239045</td>\n",
       "      <td>-0.200990</td>\n",
       "      <td>0.684487</td>\n",
       "      <td>0.973633</td>\n",
       "      <td>-0.091935</td>\n",
       "      <td>-0.004254</td>\n",
       "      <td>0.073674</td>\n",
       "      <td>-0.380310</td>\n",
       "      <td>-0.491763</td>\n",
       "      <td>0.832491</td>\n",
       "      <td>1.000000</td>\n",
       "    </tr>\n",
       "  </tbody>\n",
       "</table>\n",
       "</div>"
      ],
      "text/plain": [
       "                  Date  Location  WindDir9am  WindDir3pm  RainToday  \\\n",
       "Date          1.000000  0.476950    0.031964   -0.004219  -0.011850   \n",
       "Location      0.476950  1.000000   -0.039235   -0.030017   0.003581   \n",
       "WindDir9am    0.031964 -0.039235    1.000000    0.257844   0.161176   \n",
       "WindDir3pm   -0.004219 -0.030017    0.257844    1.000000   0.098209   \n",
       "RainToday    -0.011850  0.003581    0.161176    0.098209   1.000000   \n",
       "RainTomorrow -0.011735  0.003335    0.037611    0.011167   0.337965   \n",
       "MinTemp       0.017006  0.116128   -0.083790   -0.152768   0.062586   \n",
       "MaxTemp       0.102442  0.063654   -0.246121   -0.183767  -0.228969   \n",
       "Rainfall      0.003496  0.006709    0.093433    0.035911   0.463744   \n",
       "WindSpeed9am -0.085221  0.222143   -0.062921    0.028202   0.039852   \n",
       "WindSpeed3pm -0.030979  0.228804   -0.031621    0.088849   0.021385   \n",
       "Humidity9am   0.088871  0.005720    0.101285   -0.014110   0.377393   \n",
       "Humidity3pm  -0.043578  0.055602    0.159201   -0.022959   0.360496   \n",
       "Temp9am       0.070486  0.117231   -0.151750   -0.169020  -0.102799   \n",
       "Temp3pm       0.116794  0.060372   -0.252001   -0.191743  -0.239045   \n",
       "\n",
       "              RainTomorrow   MinTemp   MaxTemp  Rainfall  WindSpeed9am  \\\n",
       "Date             -0.011735  0.017006  0.102442  0.003496     -0.085221   \n",
       "Location          0.003335  0.116128  0.063654  0.006709      0.222143   \n",
       "WindDir9am        0.037611 -0.083790 -0.246121  0.093433     -0.062921   \n",
       "WindDir3pm        0.011167 -0.152768 -0.183767  0.035911      0.028202   \n",
       "RainToday         0.337965  0.062586 -0.228969  0.463744      0.039852   \n",
       "RainTomorrow      1.000000  0.093129 -0.160174  0.227006      0.070454   \n",
       "MinTemp           0.093129  1.000000  0.720770  0.086502      0.137161   \n",
       "MaxTemp          -0.160174  0.720770  1.000000 -0.088484      0.012755   \n",
       "Rainfall          0.227006  0.086502 -0.088484  1.000000      0.050486   \n",
       "WindSpeed9am      0.070454  0.137161  0.012755  0.050486      1.000000   \n",
       "WindSpeed3pm      0.052721  0.164213  0.079756  0.022327      0.543170   \n",
       "Humidity9am       0.282244 -0.131177 -0.390401  0.230111     -0.359021   \n",
       "Humidity3pm       0.450228  0.085532 -0.414011  0.237356     -0.108907   \n",
       "Temp9am          -0.029147  0.888468  0.868369 -0.008105      0.109652   \n",
       "Temp3pm          -0.200990  0.684487  0.973633 -0.091935     -0.004254   \n",
       "\n",
       "              WindSpeed3pm  Humidity9am  Humidity3pm   Temp9am   Temp3pm  \n",
       "Date             -0.030979     0.088871    -0.043578  0.070486  0.116794  \n",
       "Location          0.228804     0.005720     0.055602  0.117231  0.060372  \n",
       "WindDir9am       -0.031621     0.101285     0.159201 -0.151750 -0.252001  \n",
       "WindDir3pm        0.088849    -0.014110    -0.022959 -0.169020 -0.191743  \n",
       "RainToday         0.021385     0.377393     0.360496 -0.102799 -0.239045  \n",
       "RainTomorrow      0.052721     0.282244     0.450228 -0.029147 -0.200990  \n",
       "MinTemp           0.164213    -0.131177     0.085532  0.888468  0.684487  \n",
       "MaxTemp           0.079756    -0.390401    -0.414011  0.868369  0.973633  \n",
       "Rainfall          0.022327     0.230111     0.237356 -0.008105 -0.091935  \n",
       "WindSpeed9am      0.543170    -0.359021    -0.108907  0.109652 -0.004254  \n",
       "WindSpeed3pm      1.000000    -0.244238    -0.108798  0.171420  0.073674  \n",
       "Humidity9am      -0.244238     1.000000     0.629205 -0.377897 -0.380310  \n",
       "Humidity3pm      -0.108798     0.629205     1.000000 -0.123692 -0.491763  \n",
       "Temp9am           0.171420    -0.377897    -0.123692  1.000000  0.832491  \n",
       "Temp3pm           0.073674    -0.380310    -0.491763  0.832491  1.000000  "
      ]
     },
     "execution_count": 47,
     "metadata": {},
     "output_type": "execute_result"
    }
   ],
   "source": [
    "df.corr()"
   ]
  },
  {
   "cell_type": "code",
   "execution_count": 48,
   "id": "82957f35",
   "metadata": {},
   "outputs": [
    {
     "data": {
      "text/plain": [
       "Temp3pm        -0.200990\n",
       "MaxTemp        -0.160174\n",
       "Temp9am        -0.029147\n",
       "Date           -0.011735\n",
       "Location        0.003335\n",
       "WindDir3pm      0.011167\n",
       "WindDir9am      0.037611\n",
       "WindSpeed3pm    0.052721\n",
       "WindSpeed9am    0.070454\n",
       "MinTemp         0.093129\n",
       "Rainfall        0.227006\n",
       "Humidity9am     0.282244\n",
       "RainToday       0.337965\n",
       "Humidity3pm     0.450228\n",
       "RainTomorrow    1.000000\n",
       "Name: RainTomorrow, dtype: float64"
      ]
     },
     "execution_count": 48,
     "metadata": {},
     "output_type": "execute_result"
    }
   ],
   "source": [
    "df.corr()['RainTomorrow'].sort_values()"
   ]
  },
  {
   "cell_type": "markdown",
   "id": "900424c2",
   "metadata": {},
   "source": [
    "correlation using heatmap"
   ]
  },
  {
   "cell_type": "code",
   "execution_count": 49,
   "id": "6b2d0b3a",
   "metadata": {},
   "outputs": [
    {
     "data": {
      "text/plain": [
       "<AxesSubplot:>"
      ]
     },
     "execution_count": 49,
     "metadata": {},
     "output_type": "execute_result"
    },
    {
     "data": {
      "image/png": "[encoded data removed]",
      "text/plain": [
       "<Figure size 1080x504 with 2 Axes>"
      ]
     },
     "metadata": {
      "needs_background": "light"
     },
     "output_type": "display_data"
    }
   ],
   "source": [
    "import matplotlib.pyplot as plt\n",
    "plt.figure(figsize=(15,7))\n",
    "sns.heatmap(df.corr(), annot=True , linewidth=0.5 , linecolor='black', fmt='.2f')"
   ]
  },
  {
   "cell_type": "markdown",
   "id": "62283baa",
   "metadata": {},
   "source": [
    "we see that the maxtemp and temp3pm both columns have very good correlation so we drop one column."
   ]
  },
  {
   "cell_type": "code",
   "execution_count": 50,
   "id": "1cc6a0b9",
   "metadata": {},
   "outputs": [],
   "source": [
    "df=df.drop('Temp3pm',axis=1)"
   ]
  },
  {
   "cell_type": "code",
   "execution_count": 51,
   "id": "04d74623",
   "metadata": {},
   "outputs": [],
   "source": [
    "df=df.drop('Temp9am',axis=1)"
   ]
  },
  {
   "cell_type": "code",
   "execution_count": 52,
   "id": "9f418f2f",
   "metadata": {},
   "outputs": [
    {
     "data": {
      "text/plain": [
       "MaxTemp        -0.160174\n",
       "Date           -0.011735\n",
       "Location        0.003335\n",
       "WindDir3pm      0.011167\n",
       "WindDir9am      0.037611\n",
       "WindSpeed3pm    0.052721\n",
       "WindSpeed9am    0.070454\n",
       "MinTemp         0.093129\n",
       "Rainfall        0.227006\n",
       "Humidity9am     0.282244\n",
       "RainToday       0.337965\n",
       "Humidity3pm     0.450228\n",
       "RainTomorrow    1.000000\n",
       "Name: RainTomorrow, dtype: float64"
      ]
     },
     "execution_count": 52,
     "metadata": {},
     "output_type": "execute_result"
    }
   ],
   "source": [
    "df.corr()['RainTomorrow'].sort_values()"
   ]
  },
  {
   "cell_type": "markdown",
   "id": "3633abed",
   "metadata": {},
   "source": [
    "correlation under 0.05 are we drop."
   ]
  },
  {
   "cell_type": "code",
   "execution_count": 53,
   "id": "03abd6bc",
   "metadata": {},
   "outputs": [],
   "source": [
    "df=df.drop(['Location','WindDir3pm','WindDir9am'],axis=1)"
   ]
  },
  {
   "cell_type": "markdown",
   "id": "8cfebd53",
   "metadata": {},
   "source": [
    "# skewness"
   ]
  },
  {
   "cell_type": "code",
   "execution_count": 54,
   "id": "910bb20b",
   "metadata": {},
   "outputs": [
    {
     "data": {
      "text/plain": [
       "Date             0.389103\n",
       "RainToday        1.200809\n",
       "RainTomorrow     1.200054\n",
       "MinTemp         -0.091934\n",
       "MaxTemp          0.376774\n",
       "Rainfall        13.051172\n",
       "WindSpeed9am     0.952892\n",
       "WindSpeed3pm     0.520779\n",
       "Humidity9am     -0.256309\n",
       "Humidity3pm      0.121742\n",
       "dtype: float64"
      ]
     },
     "execution_count": 54,
     "metadata": {},
     "output_type": "execute_result"
    }
   ],
   "source": [
    "df.skew()"
   ]
  },
  {
   "cell_type": "markdown",
   "id": "05ca7449",
   "metadata": {},
   "source": [
    "+-0.85 between of skewness is good skewness."
   ]
  },
  {
   "cell_type": "markdown",
   "id": "ec9fb529",
   "metadata": {},
   "source": [
    "normal distribution curve"
   ]
  },
  {
   "cell_type": "code",
   "execution_count": 55,
   "id": "b2ef10db",
   "metadata": {},
   "outputs": [
    {
     "data": {
      "text/plain": [
       "<AxesSubplot:xlabel='Rainfall', ylabel='Density'>"
      ]
     },
     "execution_count": 55,
     "metadata": {},
     "output_type": "execute_result"
    },
    {
     "data": {
      "image/png": "[encoded data removed]",
      "text/plain": [
       "<Figure size 432x288 with 1 Axes>"
      ]
     },
     "metadata": {
      "needs_background": "light"
     },
     "output_type": "display_data"
    }
   ],
   "source": [
    "sns.distplot(df['Rainfall'])"
   ]
  },
  {
   "cell_type": "code",
   "execution_count": 56,
   "id": "0b4f720f",
   "metadata": {},
   "outputs": [
    {
     "data": {
      "text/plain": [
       "<AxesSubplot:xlabel='WindSpeed9am', ylabel='Density'>"
      ]
     },
     "execution_count": 56,
     "metadata": {},
     "output_type": "execute_result"
    },
    {
     "data": {
      "image/png": "[encoded data removed]",
      "text/plain": [
       "<Figure size 432x288 with 1 Axes>"
      ]
     },
     "metadata": {
      "needs_background": "light"
     },
     "output_type": "display_data"
    }
   ],
   "source": [
    "sns.distplot(df['WindSpeed9am'])"
   ]
  },
  {
   "cell_type": "code",
   "execution_count": 57,
   "id": "b9595e79",
   "metadata": {},
   "outputs": [
    {
     "data": {
      "text/plain": [
       "<AxesSubplot:xlabel='WindSpeed3pm', ylabel='Density'>"
      ]
     },
     "execution_count": 57,
     "metadata": {},
     "output_type": "execute_result"
    },
    {
     "data": {
      "image/png": "[encoded data removed]",
      "text/plain": [
       "<Figure size 432x288 with 1 Axes>"
      ]
     },
     "metadata": {
      "needs_background": "light"
     },
     "output_type": "display_data"
    }
   ],
   "source": [
    "sns.distplot(df['WindSpeed3pm'])"
   ]
  },
  {
   "cell_type": "markdown",
   "id": "0c869517",
   "metadata": {},
   "source": [
    "we see the outliers in dataset"
   ]
  },
  {
   "cell_type": "code",
   "execution_count": 58,
   "id": "8986b920",
   "metadata": {},
   "outputs": [
    {
     "data": {
      "text/plain": [
       "Date               AxesSubplot(0.125,0.536818;0.133621x0.343182)\n",
       "RainToday       AxesSubplot(0.285345,0.536818;0.133621x0.343182)\n",
       "RainTomorrow     AxesSubplot(0.44569,0.536818;0.133621x0.343182)\n",
       "MinTemp         AxesSubplot(0.606034,0.536818;0.133621x0.343182)\n",
       "MaxTemp         AxesSubplot(0.766379,0.536818;0.133621x0.343182)\n",
       "Rainfall              AxesSubplot(0.125,0.125;0.133621x0.343182)\n",
       "WindSpeed9am       AxesSubplot(0.285345,0.125;0.133621x0.343182)\n",
       "WindSpeed3pm        AxesSubplot(0.44569,0.125;0.133621x0.343182)\n",
       "Humidity9am        AxesSubplot(0.606034,0.125;0.133621x0.343182)\n",
       "Humidity3pm        AxesSubplot(0.766379,0.125;0.133621x0.343182)\n",
       "dtype: object"
      ]
     },
     "execution_count": 58,
     "metadata": {},
     "output_type": "execute_result"
    },
    {
     "data": {
      "image/png": "[encoded data removed]",
      "text/plain": [
       "<Figure size 720x720 with 10 Axes>"
      ]
     },
     "metadata": {
      "needs_background": "light"
     },
     "output_type": "display_data"
    }
   ],
   "source": [
    "df.plot(kind='box',subplots=True,layout=(2,5),figsize=(10,10))"
   ]
  },
  {
   "cell_type": "markdown",
   "id": "c6e9f80e",
   "metadata": {},
   "source": [
    "we see the outliers are present."
   ]
  },
  {
   "cell_type": "code",
   "execution_count": 59,
   "id": "57515eb6",
   "metadata": {},
   "outputs": [
    {
     "data": {
      "text/plain": [
       "array([[<AxesSubplot:ylabel='Density'>, <AxesSubplot:ylabel='Density'>,\n",
       "        <AxesSubplot:ylabel='Density'>, <AxesSubplot:ylabel='Density'>],\n",
       "       [<AxesSubplot:ylabel='Density'>, <AxesSubplot:ylabel='Density'>,\n",
       "        <AxesSubplot:ylabel='Density'>, <AxesSubplot:ylabel='Density'>],\n",
       "       [<AxesSubplot:ylabel='Density'>, <AxesSubplot:ylabel='Density'>,\n",
       "        <AxesSubplot:ylabel='Density'>, <AxesSubplot:ylabel='Density'>]],\n",
       "      dtype=object)"
      ]
     },
     "execution_count": 59,
     "metadata": {},
     "output_type": "execute_result"
    },
    {
     "data": {
      "image/png": "[encoded data removed]",
      "text/plain": [
       "<Figure size 1080x1080 with 12 Axes>"
      ]
     },
     "metadata": {
      "needs_background": "light"
     },
     "output_type": "display_data"
    }
   ],
   "source": [
    "df.plot(kind='kde',subplots=True,layout=(3,4),figsize=(15,15))"
   ]
  },
  {
   "cell_type": "markdown",
   "id": "10b9cacf",
   "metadata": {},
   "source": [
    "# removing the outliers."
   ]
  },
  {
   "cell_type": "code",
   "execution_count": 60,
   "id": "a296c449",
   "metadata": {},
   "outputs": [
    {
     "data": {
      "text/plain": [
       "(array([  44,   60,   61,   62,   68,  381,  407,  431,  462,  699,  713,\n",
       "         770,  796,  797,  802,  928,  929,  935,  949,  979,  980,  980,\n",
       "        1008, 1009, 1011, 1138, 1148, 1149, 1151, 1189, 1202, 1203, 1237,\n",
       "        1241, 1264, 1265, 1357, 1411, 1412, 1413, 1479, 1480, 1481, 1513,\n",
       "        1535, 1587, 1644, 1661, 1665, 1673, 1680, 1774, 1814, 1868, 1893,\n",
       "        1898, 1940, 2011, 2023, 2038, 2069, 2103, 2111, 2177, 2191, 2209,\n",
       "        2209, 2220, 2221, 2255, 2419, 2478, 2517, 2531, 2583, 2666, 2667,\n",
       "        2725, 2839, 2880, 2888, 2890, 2891, 2899, 2993, 3041, 3057, 3057,\n",
       "        3058, 3072, 3072, 3079, 3089, 3131, 3162, 3202, 3238, 3268, 3281,\n",
       "        3292, 3340, 3409, 3411, 3420, 3437, 3446, 3545, 3559, 3595, 3609,\n",
       "        3689, 3730, 3738, 3740, 3741, 3749, 3843, 3891, 3907, 3907, 3908,\n",
       "        3922, 3922, 3929, 3939, 3981, 4012, 4052, 4088, 4118, 4131, 4142,\n",
       "        4190, 4259, 4261, 4270, 4287, 4296, 4395, 4409, 4445, 4459, 4521,\n",
       "        4554, 4604, 4624, 4636, 4643, 4659, 4717, 4784, 4819, 4840, 4845,\n",
       "        4878, 4897, 4904, 4920, 4942, 4965, 4996, 5024, 5141, 5165, 5174,\n",
       "        5187, 5188, 5190, 5193, 5193, 5197, 5198, 5198, 5199, 5200, 5221,\n",
       "        5229, 5238, 5260, 5261, 5274, 5293, 5300, 5304, 5309, 5310, 5332,\n",
       "        5365, 5415, 5435, 5447, 5454, 5470, 5528, 5595, 5630, 5651, 5656,\n",
       "        5689, 5708, 5715, 5731, 5753, 5776, 5807, 5835, 5952, 5976, 5985,\n",
       "        5998, 5999, 6001, 6004, 6004, 6008, 6009, 6009, 6010, 6011, 6032,\n",
       "        6040, 6049, 6071, 6072, 6085, 6104, 6111, 6115, 6120, 6121, 6135,\n",
       "        6168, 6427, 6466, 6467, 6475, 6506, 6569, 6570, 6834, 6846, 6849,\n",
       "        6866, 6872, 6889, 6919, 6920, 7097, 7148, 7155, 7268, 7352, 7388,\n",
       "        7561, 7588, 7619, 7813, 7843, 7969, 7970, 7970, 8086, 8122, 8130,\n",
       "        8131, 8171], dtype=int64),\n",
       " array([4, 4, 4, 4, 4, 7, 4, 5, 5, 5, 5, 5, 5, 5, 5, 5, 5, 5, 5, 5, 5, 6,\n",
       "        5, 5, 5, 5, 5, 5, 5, 7, 5, 5, 5, 5, 5, 5, 5, 5, 5, 5, 5, 5, 5, 5,\n",
       "        6, 7, 7, 5, 7, 5, 5, 5, 5, 5, 7, 6, 6, 6, 7, 7, 6, 5, 5, 6, 5, 6,\n",
       "        7, 7, 5, 5, 5, 5, 4, 5, 5, 5, 5, 5, 5, 5, 5, 5, 5, 5, 5, 5, 6, 7,\n",
       "        6, 6, 7, 6, 7, 7, 7, 7, 5, 4, 4, 4, 5, 5, 5, 5, 5, 7, 6, 5, 5, 5,\n",
       "        5, 5, 5, 5, 5, 5, 5, 5, 6, 7, 6, 6, 7, 6, 7, 7, 7, 7, 5, 4, 4, 4,\n",
       "        5, 5, 5, 5, 5, 7, 6, 5, 5, 5, 6, 5, 4, 6, 5, 6, 5, 6, 7, 6, 7, 6,\n",
       "        6, 5, 6, 6, 6, 6, 5, 6, 6, 6, 6, 6, 7, 6, 6, 7, 6, 6, 7, 6, 5, 6,\n",
       "        6, 6, 5, 6, 5, 6, 6, 6, 6, 6, 6, 5, 4, 6, 5, 6, 5, 6, 7, 6, 7, 6,\n",
       "        6, 5, 6, 6, 6, 6, 5, 6, 6, 6, 6, 6, 7, 6, 6, 7, 6, 6, 7, 6, 5, 6,\n",
       "        6, 6, 5, 6, 5, 6, 6, 6, 6, 6, 5, 5, 5, 5, 5, 5, 5, 5, 5, 8, 8, 8,\n",
       "        8, 8, 8, 8, 8, 5, 7, 5, 5, 8, 8, 8, 8, 7, 5, 5, 4, 4, 8, 5, 5, 5,\n",
       "        5, 5], dtype=int64))"
      ]
     },
     "execution_count": 60,
     "metadata": {},
     "output_type": "execute_result"
    }
   ],
   "source": [
    "from scipy.stats import zscore\n",
    "import numpy as np\n",
    "z=np.abs(zscore(df))\n",
    "threshold=3\n",
    "np.where(z>3)"
   ]
  },
  {
   "cell_type": "code",
   "execution_count": 61,
   "id": "4a57a9bd",
   "metadata": {},
   "outputs": [
    {
     "data": {
      "text/html": [
       "<div>\n",
       "<style scoped>\n",
       "    .dataframe tbody tr th:only-of-type {\n",
       "        vertical-align: middle;\n",
       "    }\n",
       "\n",
       "    .dataframe tbody tr th {\n",
       "        vertical-align: top;\n",
       "    }\n",
       "\n",
       "    .dataframe thead th {\n",
       "        text-align: right;\n",
       "    }\n",
       "</style>\n",
       "<table border=\"1\" class=\"dataframe\">\n",
       "  <thead>\n",
       "    <tr style=\"text-align: right;\">\n",
       "      <th></th>\n",
       "      <th>Date</th>\n",
       "      <th>RainToday</th>\n",
       "      <th>RainTomorrow</th>\n",
       "      <th>MinTemp</th>\n",
       "      <th>MaxTemp</th>\n",
       "      <th>Rainfall</th>\n",
       "      <th>WindSpeed9am</th>\n",
       "      <th>WindSpeed3pm</th>\n",
       "      <th>Humidity9am</th>\n",
       "      <th>Humidity3pm</th>\n",
       "    </tr>\n",
       "  </thead>\n",
       "  <tbody>\n",
       "    <tr>\n",
       "      <th>0</th>\n",
       "      <td>0</td>\n",
       "      <td>0</td>\n",
       "      <td>0</td>\n",
       "      <td>13.4</td>\n",
       "      <td>22.9</td>\n",
       "      <td>0.6</td>\n",
       "      <td>20.0</td>\n",
       "      <td>24.0</td>\n",
       "      <td>71.0</td>\n",
       "      <td>22.0</td>\n",
       "    </tr>\n",
       "    <tr>\n",
       "      <th>1</th>\n",
       "      <td>1</td>\n",
       "      <td>0</td>\n",
       "      <td>0</td>\n",
       "      <td>7.4</td>\n",
       "      <td>25.1</td>\n",
       "      <td>0.0</td>\n",
       "      <td>4.0</td>\n",
       "      <td>22.0</td>\n",
       "      <td>44.0</td>\n",
       "      <td>25.0</td>\n",
       "    </tr>\n",
       "    <tr>\n",
       "      <th>2</th>\n",
       "      <td>2</td>\n",
       "      <td>0</td>\n",
       "      <td>0</td>\n",
       "      <td>12.9</td>\n",
       "      <td>25.7</td>\n",
       "      <td>0.0</td>\n",
       "      <td>19.0</td>\n",
       "      <td>26.0</td>\n",
       "      <td>38.0</td>\n",
       "      <td>30.0</td>\n",
       "    </tr>\n",
       "    <tr>\n",
       "      <th>3</th>\n",
       "      <td>3</td>\n",
       "      <td>0</td>\n",
       "      <td>0</td>\n",
       "      <td>9.2</td>\n",
       "      <td>28.0</td>\n",
       "      <td>0.0</td>\n",
       "      <td>11.0</td>\n",
       "      <td>9.0</td>\n",
       "      <td>45.0</td>\n",
       "      <td>16.0</td>\n",
       "    </tr>\n",
       "    <tr>\n",
       "      <th>4</th>\n",
       "      <td>4</td>\n",
       "      <td>0</td>\n",
       "      <td>0</td>\n",
       "      <td>17.5</td>\n",
       "      <td>32.3</td>\n",
       "      <td>1.0</td>\n",
       "      <td>7.0</td>\n",
       "      <td>20.0</td>\n",
       "      <td>82.0</td>\n",
       "      <td>33.0</td>\n",
       "    </tr>\n",
       "    <tr>\n",
       "      <th>...</th>\n",
       "      <td>...</td>\n",
       "      <td>...</td>\n",
       "      <td>...</td>\n",
       "      <td>...</td>\n",
       "      <td>...</td>\n",
       "      <td>...</td>\n",
       "      <td>...</td>\n",
       "      <td>...</td>\n",
       "      <td>...</td>\n",
       "      <td>...</td>\n",
       "    </tr>\n",
       "    <tr>\n",
       "      <th>8420</th>\n",
       "      <td>2999</td>\n",
       "      <td>0</td>\n",
       "      <td>0</td>\n",
       "      <td>2.8</td>\n",
       "      <td>23.4</td>\n",
       "      <td>0.0</td>\n",
       "      <td>13.0</td>\n",
       "      <td>11.0</td>\n",
       "      <td>51.0</td>\n",
       "      <td>24.0</td>\n",
       "    </tr>\n",
       "    <tr>\n",
       "      <th>8421</th>\n",
       "      <td>3000</td>\n",
       "      <td>0</td>\n",
       "      <td>0</td>\n",
       "      <td>3.6</td>\n",
       "      <td>25.3</td>\n",
       "      <td>0.0</td>\n",
       "      <td>13.0</td>\n",
       "      <td>9.0</td>\n",
       "      <td>56.0</td>\n",
       "      <td>21.0</td>\n",
       "    </tr>\n",
       "    <tr>\n",
       "      <th>8422</th>\n",
       "      <td>3001</td>\n",
       "      <td>0</td>\n",
       "      <td>0</td>\n",
       "      <td>5.4</td>\n",
       "      <td>26.9</td>\n",
       "      <td>0.0</td>\n",
       "      <td>9.0</td>\n",
       "      <td>9.0</td>\n",
       "      <td>53.0</td>\n",
       "      <td>24.0</td>\n",
       "    </tr>\n",
       "    <tr>\n",
       "      <th>8423</th>\n",
       "      <td>3002</td>\n",
       "      <td>0</td>\n",
       "      <td>0</td>\n",
       "      <td>7.8</td>\n",
       "      <td>27.0</td>\n",
       "      <td>0.0</td>\n",
       "      <td>13.0</td>\n",
       "      <td>7.0</td>\n",
       "      <td>51.0</td>\n",
       "      <td>24.0</td>\n",
       "    </tr>\n",
       "    <tr>\n",
       "      <th>8424</th>\n",
       "      <td>3003</td>\n",
       "      <td>0</td>\n",
       "      <td>0</td>\n",
       "      <td>14.9</td>\n",
       "      <td>27.0</td>\n",
       "      <td>0.0</td>\n",
       "      <td>17.0</td>\n",
       "      <td>17.0</td>\n",
       "      <td>62.0</td>\n",
       "      <td>36.0</td>\n",
       "    </tr>\n",
       "  </tbody>\n",
       "</table>\n",
       "<p>8156 rows × 10 columns</p>\n",
       "</div>"
      ],
      "text/plain": [
       "      Date  RainToday  RainTomorrow  MinTemp  MaxTemp  Rainfall  WindSpeed9am  \\\n",
       "0        0          0             0     13.4     22.9       0.6          20.0   \n",
       "1        1          0             0      7.4     25.1       0.0           4.0   \n",
       "2        2          0             0     12.9     25.7       0.0          19.0   \n",
       "3        3          0             0      9.2     28.0       0.0          11.0   \n",
       "4        4          0             0     17.5     32.3       1.0           7.0   \n",
       "...    ...        ...           ...      ...      ...       ...           ...   \n",
       "8420  2999          0             0      2.8     23.4       0.0          13.0   \n",
       "8421  3000          0             0      3.6     25.3       0.0          13.0   \n",
       "8422  3001          0             0      5.4     26.9       0.0           9.0   \n",
       "8423  3002          0             0      7.8     27.0       0.0          13.0   \n",
       "8424  3003          0             0     14.9     27.0       0.0          17.0   \n",
       "\n",
       "      WindSpeed3pm  Humidity9am  Humidity3pm  \n",
       "0             24.0         71.0         22.0  \n",
       "1             22.0         44.0         25.0  \n",
       "2             26.0         38.0         30.0  \n",
       "3              9.0         45.0         16.0  \n",
       "4             20.0         82.0         33.0  \n",
       "...            ...          ...          ...  \n",
       "8420          11.0         51.0         24.0  \n",
       "8421           9.0         56.0         21.0  \n",
       "8422           9.0         53.0         24.0  \n",
       "8423           7.0         51.0         24.0  \n",
       "8424          17.0         62.0         36.0  \n",
       "\n",
       "[8156 rows x 10 columns]"
      ]
     },
     "execution_count": 61,
     "metadata": {},
     "output_type": "execute_result"
    }
   ],
   "source": [
    "df_new=df[(z<3).all(axis=1)]\n",
    "df_new"
   ]
  },
  {
   "cell_type": "code",
   "execution_count": 62,
   "id": "4a70ada4",
   "metadata": {},
   "outputs": [],
   "source": [
    "x=df.drop(\"RainTomorrow\", axis=1)\n",
    "y=df[\"RainTomorrow\"]"
   ]
  },
  {
   "cell_type": "markdown",
   "id": "a0baac5d",
   "metadata": {},
   "source": [
    "output of this dataset is RainTomorrow and this is binary form so we used logistic regression."
   ]
  },
  {
   "cell_type": "code",
   "execution_count": 63,
   "id": "0b251286",
   "metadata": {},
   "outputs": [],
   "source": [
    "from sklearn.preprocessing import power_transform\n",
    "x=power_transform(x,method='yeo-johnson')"
   ]
  },
  {
   "cell_type": "code",
   "execution_count": 64,
   "id": "d43b1cd4",
   "metadata": {},
   "outputs": [
    {
     "data": {
      "text/plain": [
       "array([[-2.47196773, -0.56604608,  0.04175509, ...,  0.5986848 ,\n",
       "         0.15177248, -1.63320652],\n",
       "       [-2.4431141 , -0.56604608, -1.07101881, ...,  0.41597784,\n",
       "        -1.39428021, -1.44993333],\n",
       "       [-2.42077655, -0.56604608, -0.05065672, ...,  0.77638667,\n",
       "        -1.70528637, -1.15225193],\n",
       "       ...,\n",
       "       [ 1.65356372, -0.56604608, -1.44432639, ..., -0.95363895,\n",
       "        -0.90379536, -1.51060023],\n",
       "       [ 1.65428508, -0.56604608, -0.99653026, ..., -1.21057701,\n",
       "        -1.01512361, -1.51060023],\n",
       "       [ 1.65500633, -0.56604608,  0.31870576, ..., -0.06694831,\n",
       "        -0.38756788, -0.80567182]])"
      ]
     },
     "execution_count": 64,
     "metadata": {},
     "output_type": "execute_result"
    }
   ],
   "source": [
    "x"
   ]
  },
  {
   "cell_type": "code",
   "execution_count": 65,
   "id": "5fdfb963",
   "metadata": {},
   "outputs": [
    {
     "data": {
      "text/plain": [
       "0       0\n",
       "1       0\n",
       "2       0\n",
       "3       0\n",
       "4       0\n",
       "       ..\n",
       "8420    0\n",
       "8421    0\n",
       "8422    0\n",
       "8423    0\n",
       "8424    0\n",
       "Name: RainTomorrow, Length: 8411, dtype: int32"
      ]
     },
     "execution_count": 65,
     "metadata": {},
     "output_type": "execute_result"
    }
   ],
   "source": [
    "y"
   ]
  },
  {
   "cell_type": "code",
   "execution_count": 66,
   "id": "d5b73522",
   "metadata": {},
   "outputs": [
    {
     "data": {
      "text/plain": [
       "array([[-2.47196773, -0.56604608,  0.04175509, ...,  0.5986848 ,\n",
       "         0.15177248, -1.63320652],\n",
       "       [-2.4431141 , -0.56604608, -1.07101881, ...,  0.41597784,\n",
       "        -1.39428021, -1.44993333],\n",
       "       [-2.42077655, -0.56604608, -0.05065672, ...,  0.77638667,\n",
       "        -1.70528637, -1.15225193],\n",
       "       ...,\n",
       "       [ 1.65356372, -0.56604608, -1.44432639, ..., -0.95363895,\n",
       "        -0.90379536, -1.51060023],\n",
       "       [ 1.65428508, -0.56604608, -0.99653026, ..., -1.21057701,\n",
       "        -1.01512361, -1.51060023],\n",
       "       [ 1.65500633, -0.56604608,  0.31870576, ..., -0.06694831,\n",
       "        -0.38756788, -0.80567182]])"
      ]
     },
     "execution_count": 66,
     "metadata": {},
     "output_type": "execute_result"
    }
   ],
   "source": [
    "from sklearn.preprocessing import StandardScaler\n",
    "sc=StandardScaler()\n",
    "x=sc.fit_transform(x)\n",
    "x"
   ]
  },
  {
   "cell_type": "markdown",
   "id": "2c17e90d",
   "metadata": {},
   "source": [
    "# model building"
   ]
  },
  {
   "cell_type": "markdown",
   "id": "88277709",
   "metadata": {},
   "source": [
    "# Binary classification model"
   ]
  },
  {
   "cell_type": "code",
   "execution_count": 67,
   "id": "7e25aa55",
   "metadata": {},
   "outputs": [],
   "source": [
    "from sklearn.linear_model import LogisticRegression\n",
    "from sklearn.metrics import accuracy_score\n",
    "from sklearn.metrics import confusion_matrix, classification_report\n",
    "from sklearn.model_selection import train_test_split"
   ]
  },
  {
   "cell_type": "code",
   "execution_count": 68,
   "id": "61ea860d",
   "metadata": {},
   "outputs": [
    {
     "name": "stdout",
     "output_type": "stream",
     "text": [
      "accuracy 0.82174688057041 random state 1\n",
      "accuracy 0.8205585264408793 random state 2\n",
      "accuracy 0.8057040998217468 random state 3\n",
      "accuracy 0.8259061200237671 random state 4\n",
      "accuracy 0.8354129530600118 random state 5\n",
      "accuracy 0.8193701723113488 random state 6\n",
      "accuracy 0.8116458704693998 random state 7\n",
      "accuracy 0.8110516934046346 random state 8\n",
      "accuracy 0.82174688057041 random state 9\n",
      "accuracy 0.8253119429590018 random state 10\n",
      "accuracy 0.8211527035056447 random state 11\n",
      "accuracy 0.8122400475341652 random state 12\n",
      "accuracy 0.8169934640522876 random state 13\n",
      "accuracy 0.8175876411170528 random state 14\n",
      "accuracy 0.8371954842543078 random state 15\n",
      "accuracy 0.8169934640522876 random state 16\n",
      "accuracy 0.8223410576351753 random state 17\n",
      "accuracy 0.8253119429590018 random state 18\n",
      "accuracy 0.8074866310160428 random state 19\n",
      "accuracy 0.8181818181818182 random state 20\n",
      "accuracy 0.8270944741532977 random state 21\n",
      "accuracy 0.8270944741532977 random state 22\n",
      "accuracy 0.8205585264408793 random state 23\n",
      "accuracy 0.8282828282828283 random state 24\n",
      "accuracy 0.809863339275104 random state 25\n",
      "accuracy 0.8152109328579917 random state 26\n",
      "accuracy 0.8080808080808081 random state 27\n",
      "accuracy 0.8086749851455733 random state 28\n",
      "accuracy 0.82174688057041 random state 29\n"
     ]
    }
   ],
   "source": [
    "maxAccu=0\n",
    "maxRS=0\n",
    "\n",
    "for i in range(1,30):\n",
    "    x_train,x_test,y_train,y_test=train_test_split(x,y,test_size=0.20, random_state=i)\n",
    "    LR=LogisticRegression()\n",
    "    LR.fit(x_train, y_train)\n",
    "    predrf=LR.predict(x_test)\n",
    "    acc=accuracy_score(y_test, predrf)\n",
    "    print('accuracy',acc,'random state',i)\n",
    "\n",
    "if acc>maxAccu:\n",
    "    maxAccu=acc\n",
    "    maxRS=i"
   ]
  },
  {
   "cell_type": "markdown",
   "id": "4a48a9b5",
   "metadata": {},
   "source": [
    "creating the train test splite method"
   ]
  },
  {
   "cell_type": "code",
   "execution_count": 69,
   "id": "de13ae93",
   "metadata": {},
   "outputs": [],
   "source": [
    "x_train,x_test,y_train,y_test=train_test_split(x,y,test_size=0.20,random_state=15)"
   ]
  },
  {
   "cell_type": "code",
   "execution_count": 70,
   "id": "948e4033",
   "metadata": {},
   "outputs": [
    {
     "data": {
      "text/plain": [
       "array([[ 1.43542792, -0.56604608, -0.38376997, ...,  0.41597784,\n",
       "         0.27454914, -0.13958657],\n",
       "       [-0.18135168, -0.56604608, -0.88489276, ...,  1.68290647,\n",
       "         0.7756602 , -0.13958657],\n",
       "       [ 0.53956545, -0.56604608, -0.6433727 , ..., -2.42698973,\n",
       "        -0.50436455, -0.97765011],\n",
       "       ...,\n",
       "       [ 0.75863541,  1.76664063, -0.42082695, ...,  1.20179454,\n",
       "         0.21303226, -0.46863402],\n",
       "       [ 1.32009904, -0.56604608,  0.63210688, ...,  0.41597784,\n",
       "         0.15177248,  0.6030286 ],\n",
       "       [ 0.32343841, -0.56604608,  0.55840836, ...,  0.94957731,\n",
       "        -0.79119917,  0.39404159]])"
      ]
     },
     "execution_count": 70,
     "metadata": {},
     "output_type": "execute_result"
    }
   ],
   "source": [
    "x_train"
   ]
  },
  {
   "cell_type": "code",
   "execution_count": 71,
   "id": "e916e527",
   "metadata": {},
   "outputs": [
    {
     "data": {
      "text/plain": [
       "3991    1\n",
       "5196    0\n",
       "1606    0\n",
       "8395    0\n",
       "3406    0\n",
       "       ..\n",
       "6542    0\n",
       "2703    0\n",
       "8090    0\n",
       "3841    0\n",
       "7638    0\n",
       "Name: RainTomorrow, Length: 6728, dtype: int32"
      ]
     },
     "execution_count": 71,
     "metadata": {},
     "output_type": "execute_result"
    }
   ],
   "source": [
    "y_train"
   ]
  },
  {
   "cell_type": "code",
   "execution_count": 72,
   "id": "84193a13",
   "metadata": {},
   "outputs": [
    {
     "data": {
      "text/plain": [
       "(1683, 9)"
      ]
     },
     "execution_count": 72,
     "metadata": {},
     "output_type": "execute_result"
    }
   ],
   "source": [
    "x_test.shape"
   ]
  },
  {
   "cell_type": "code",
   "execution_count": 73,
   "id": "c1a090b0",
   "metadata": {},
   "outputs": [
    {
     "data": {
      "text/plain": [
       "(1683,)"
      ]
     },
     "execution_count": 73,
     "metadata": {},
     "output_type": "execute_result"
    }
   ],
   "source": [
    "y_test.shape"
   ]
  },
  {
   "cell_type": "markdown",
   "id": "e5939c72",
   "metadata": {},
   "source": [
    "# Logistic Regression"
   ]
  },
  {
   "cell_type": "code",
   "execution_count": 74,
   "id": "9064b252",
   "metadata": {},
   "outputs": [
    {
     "name": "stdout",
     "output_type": "stream",
     "text": [
      "accuracy 83.71954842543077\n",
      "[[1220   75]\n",
      " [ 199  189]]\n",
      "              precision    recall  f1-score   support\n",
      "\n",
      "           0       0.86      0.94      0.90      1295\n",
      "           1       0.72      0.49      0.58       388\n",
      "\n",
      "    accuracy                           0.84      1683\n",
      "   macro avg       0.79      0.71      0.74      1683\n",
      "weighted avg       0.83      0.84      0.83      1683\n",
      "\n"
     ]
    }
   ],
   "source": [
    "from sklearn.linear_model import LogisticRegression\n",
    "LR=LogisticRegression()\n",
    "LR.fit(x_train, y_train)\n",
    "predlr=LR.predict(x_test)\n",
    "print('accuracy', accuracy_score(y_test, predlr)*100)\n",
    "print(confusion_matrix(y_test,predlr))\n",
    "print(classification_report(y_test,predlr))"
   ]
  },
  {
   "cell_type": "markdown",
   "id": "c0a97740",
   "metadata": {},
   "source": [
    "the accuracy is 83.71 %."
   ]
  },
  {
   "cell_type": "markdown",
   "id": "c9f89239",
   "metadata": {},
   "source": [
    "we see other method also."
   ]
  },
  {
   "cell_type": "markdown",
   "id": "a1ed1ec3",
   "metadata": {},
   "source": [
    "# Decision Tree Classifier"
   ]
  },
  {
   "cell_type": "code",
   "execution_count": 75,
   "id": "bbb1dc74",
   "metadata": {},
   "outputs": [
    {
     "name": "stdout",
     "output_type": "stream",
     "text": [
      "accuracy 82.94711824123588\n",
      "[[1139  156]\n",
      " [ 131  257]]\n",
      "              precision    recall  f1-score   support\n",
      "\n",
      "           0       0.90      0.88      0.89      1295\n",
      "           1       0.62      0.66      0.64       388\n",
      "\n",
      "    accuracy                           0.83      1683\n",
      "   macro avg       0.76      0.77      0.76      1683\n",
      "weighted avg       0.83      0.83      0.83      1683\n",
      "\n"
     ]
    }
   ],
   "source": [
    "from sklearn.tree import DecisionTreeClassifier\n",
    "dt=DecisionTreeClassifier()\n",
    "dt.fit(x_train,y_train)\n",
    "preddt=dt.predict(x_test)\n",
    "print('accuracy', accuracy_score(y_test, preddt)*100)\n",
    "print(confusion_matrix(y_test,preddt))\n",
    "print(classification_report(y_test,preddt))"
   ]
  },
  {
   "cell_type": "markdown",
   "id": "7e23d108",
   "metadata": {},
   "source": [
    "the accuracy of the dt is 82.94 % and it is the good accuracy score."
   ]
  },
  {
   "cell_type": "markdown",
   "id": "35a8ef47",
   "metadata": {},
   "source": [
    "# Random Forest Classifier"
   ]
  },
  {
   "cell_type": "code",
   "execution_count": 76,
   "id": "003f6b25",
   "metadata": {},
   "outputs": [
    {
     "name": "stdout",
     "output_type": "stream",
     "text": [
      "accuracy 90.13666072489602\n",
      "[[1258   37]\n",
      " [ 129  259]]\n",
      "              precision    recall  f1-score   support\n",
      "\n",
      "           0       0.91      0.97      0.94      1295\n",
      "           1       0.88      0.67      0.76       388\n",
      "\n",
      "    accuracy                           0.90      1683\n",
      "   macro avg       0.89      0.82      0.85      1683\n",
      "weighted avg       0.90      0.90      0.90      1683\n",
      "\n"
     ]
    }
   ],
   "source": [
    "from sklearn.ensemble import RandomForestClassifier\n",
    "\n",
    "rf=RandomForestClassifier()\n",
    "rf.fit(x_train,y_train)\n",
    "predrf=rf.predict(x_test)\n",
    "print('accuracy', accuracy_score(y_test, predrf)*100)\n",
    "print(confusion_matrix(y_test,predrf))\n",
    "print(classification_report(y_test,predrf))"
   ]
  },
  {
   "cell_type": "markdown",
   "id": "35cfdb05",
   "metadata": {},
   "source": [
    "we see that the random forest classifier have the 89.78% accuracy."
   ]
  },
  {
   "cell_type": "markdown",
   "id": "ebf78851",
   "metadata": {},
   "source": [
    "# support vector classifier"
   ]
  },
  {
   "cell_type": "code",
   "execution_count": 77,
   "id": "5d81a6cb",
   "metadata": {},
   "outputs": [
    {
     "name": "stdout",
     "output_type": "stream",
     "text": [
      "accuracy 84.25430778371955\n",
      "[[1245   50]\n",
      " [ 215  173]]\n",
      "              precision    recall  f1-score   support\n",
      "\n",
      "           0       0.85      0.96      0.90      1295\n",
      "           1       0.78      0.45      0.57       388\n",
      "\n",
      "    accuracy                           0.84      1683\n",
      "   macro avg       0.81      0.70      0.74      1683\n",
      "weighted avg       0.83      0.84      0.83      1683\n",
      "\n"
     ]
    }
   ],
   "source": [
    "from sklearn.svm import SVC\n",
    "\n",
    "svc=SVC()\n",
    "svc.fit(x_train,y_train)\n",
    "ad_pred=svc.predict(x_test)\n",
    "print('accuracy', accuracy_score(y_test, ad_pred)*100)\n",
    "print(confusion_matrix(y_test,ad_pred))\n",
    "print(classification_report(y_test,ad_pred))"
   ]
  },
  {
   "cell_type": "markdown",
   "id": "5eebe7e8",
   "metadata": {},
   "source": [
    "support vector classifier have the 84 % accuracy."
   ]
  },
  {
   "cell_type": "markdown",
   "id": "5b490995",
   "metadata": {},
   "source": [
    "we see the accuracy of all methods but we see the data are overlap."
   ]
  },
  {
   "cell_type": "markdown",
   "id": "724cdd07",
   "metadata": {},
   "source": [
    "# Cross Validation"
   ]
  },
  {
   "cell_type": "code",
   "execution_count": 78,
   "id": "243e24e9",
   "metadata": {},
   "outputs": [
    {
     "name": "stdout",
     "output_type": "stream",
     "text": [
      "cross validation score of logistic regression is 0.8089367480498486\n"
     ]
    }
   ],
   "source": [
    "from sklearn.model_selection import cross_val_score\n",
    "\n",
    "scr=cross_val_score(LR,x,y,cv=5)\n",
    "print('cross validation score of logistic regression is', scr.mean())"
   ]
  },
  {
   "cell_type": "code",
   "execution_count": 79,
   "id": "8ba64f73",
   "metadata": {},
   "outputs": [
    {
     "name": "stdout",
     "output_type": "stream",
     "text": [
      "cross validation score of random forest classifiers is 0.8480572670822373\n"
     ]
    }
   ],
   "source": [
    "scr2=cross_val_score(rf,x,y,cv=5)\n",
    "print('cross validation score of random forest classifiers is', scr2.mean())"
   ]
  },
  {
   "cell_type": "code",
   "execution_count": 80,
   "id": "19b8ebae",
   "metadata": {},
   "outputs": [
    {
     "name": "stdout",
     "output_type": "stream",
     "text": [
      "cross validation score of svc is 0.821303897193944\n"
     ]
    }
   ],
   "source": [
    "scr3=cross_val_score(svc,x,y,cv=5)\n",
    "print('cross validation score of svc is', scr3.mean())"
   ]
  },
  {
   "cell_type": "code",
   "execution_count": 81,
   "id": "7ef128fb",
   "metadata": {},
   "outputs": [
    {
     "name": "stdout",
     "output_type": "stream",
     "text": [
      "cross validation score of decision tree classifers is 0.7824327770959931\n"
     ]
    }
   ],
   "source": [
    "scr4=cross_val_score(dt,x,y,cv=5)\n",
    "print('cross validation score of decision tree classifers is', scr4.mean())"
   ]
  },
  {
   "cell_type": "markdown",
   "id": "58b0dce9",
   "metadata": {},
   "source": [
    "we see that random forest have best accuracy score."
   ]
  },
  {
   "cell_type": "code",
   "execution_count": 82,
   "id": "2d366e6b",
   "metadata": {},
   "outputs": [
    {
     "data": {
      "image/png": "[encoded data removed]",
      "text/plain": [
       "<Figure size 432x288 with 1 Axes>"
      ]
     },
     "metadata": {
      "needs_background": "light"
     },
     "output_type": "display_data"
    }
   ],
   "source": [
    "from sklearn.metrics import plot_roc_curve\n",
    "plot_roc_curve(LR,x_test,y_test)\n",
    "plt.title('roc auc curve')\n",
    "plt.show()"
   ]
  },
  {
   "cell_type": "code",
   "execution_count": 83,
   "id": "0a5441f4",
   "metadata": {},
   "outputs": [
    {
     "data": {
      "image/png": "[encoded data removed]",
      "text/plain": [
       "<Figure size 432x288 with 1 Axes>"
      ]
     },
     "metadata": {
      "needs_background": "light"
     },
     "output_type": "display_data"
    }
   ],
   "source": [
    "from sklearn.metrics import plot_roc_curve\n",
    "plot_roc_curve(rf,x_test,y_test)\n",
    "plt.title('roc auc curve')\n",
    "plt.show()"
   ]
  },
  {
   "cell_type": "code",
   "execution_count": 84,
   "id": "8a518939",
   "metadata": {},
   "outputs": [
    {
     "data": {
      "image/png": "[encoded data removed]",
      "text/plain": [
       "<Figure size 432x288 with 1 Axes>"
      ]
     },
     "metadata": {
      "needs_background": "light"
     },
     "output_type": "display_data"
    }
   ],
   "source": [
    "from sklearn.metrics import plot_roc_curve\n",
    "plot_roc_curve(svc,x_test,y_test)\n",
    "plt.title('roc auc curve')\n",
    "plt.show()"
   ]
  },
  {
   "cell_type": "code",
   "execution_count": 85,
   "id": "58399c99",
   "metadata": {},
   "outputs": [
    {
     "data": {
      "image/png": "[encoded data removed]",
      "text/plain": [
       "<Figure size 432x288 with 1 Axes>"
      ]
     },
     "metadata": {
      "needs_background": "light"
     },
     "output_type": "display_data"
    }
   ],
   "source": [
    "from sklearn.metrics import plot_roc_curve\n",
    "plot_roc_curve(dt,x_test,y_test)\n",
    "plt.title('roc auc curve')\n",
    "plt.show()"
   ]
  },
  {
   "cell_type": "markdown",
   "id": "beff2faf",
   "metadata": {},
   "source": [
    "random forest have the best accuracy score so we save that model."
   ]
  },
  {
   "cell_type": "code",
   "execution_count": 86,
   "id": "c3a0d379",
   "metadata": {},
   "outputs": [],
   "source": [
    "import pickle\n",
    "filename='weather prediction.pkl'\n",
    "pickle.dump(rf, open(filename, 'wb'))"
   ]
  },
  {
   "cell_type": "markdown",
   "id": "85e487f1",
   "metadata": {},
   "source": [
    "# Conclusion"
   ]
  },
  {
   "cell_type": "code",
   "execution_count": 87,
   "id": "a8e26ff8",
   "metadata": {},
   "outputs": [
    {
     "data": {
      "text/html": [
       "<div>\n",
       "<style scoped>\n",
       "    .dataframe tbody tr th:only-of-type {\n",
       "        vertical-align: middle;\n",
       "    }\n",
       "\n",
       "    .dataframe tbody tr th {\n",
       "        vertical-align: top;\n",
       "    }\n",
       "\n",
       "    .dataframe thead th {\n",
       "        text-align: right;\n",
       "    }\n",
       "</style>\n",
       "<table border=\"1\" class=\"dataframe\">\n",
       "  <thead>\n",
       "    <tr style=\"text-align: right;\">\n",
       "      <th></th>\n",
       "      <th>original</th>\n",
       "      <th>predicted</th>\n",
       "    </tr>\n",
       "  </thead>\n",
       "  <tbody>\n",
       "    <tr>\n",
       "      <th>0</th>\n",
       "      <td>0</td>\n",
       "      <td>0</td>\n",
       "    </tr>\n",
       "    <tr>\n",
       "      <th>1</th>\n",
       "      <td>0</td>\n",
       "      <td>0</td>\n",
       "    </tr>\n",
       "    <tr>\n",
       "      <th>2</th>\n",
       "      <td>1</td>\n",
       "      <td>1</td>\n",
       "    </tr>\n",
       "    <tr>\n",
       "      <th>3</th>\n",
       "      <td>0</td>\n",
       "      <td>0</td>\n",
       "    </tr>\n",
       "    <tr>\n",
       "      <th>4</th>\n",
       "      <td>0</td>\n",
       "      <td>0</td>\n",
       "    </tr>\n",
       "    <tr>\n",
       "      <th>...</th>\n",
       "      <td>...</td>\n",
       "      <td>...</td>\n",
       "    </tr>\n",
       "    <tr>\n",
       "      <th>1678</th>\n",
       "      <td>0</td>\n",
       "      <td>0</td>\n",
       "    </tr>\n",
       "    <tr>\n",
       "      <th>1679</th>\n",
       "      <td>0</td>\n",
       "      <td>0</td>\n",
       "    </tr>\n",
       "    <tr>\n",
       "      <th>1680</th>\n",
       "      <td>1</td>\n",
       "      <td>1</td>\n",
       "    </tr>\n",
       "    <tr>\n",
       "      <th>1681</th>\n",
       "      <td>0</td>\n",
       "      <td>0</td>\n",
       "    </tr>\n",
       "    <tr>\n",
       "      <th>1682</th>\n",
       "      <td>1</td>\n",
       "      <td>1</td>\n",
       "    </tr>\n",
       "  </tbody>\n",
       "</table>\n",
       "<p>1683 rows × 2 columns</p>\n",
       "</div>"
      ],
      "text/plain": [
       "      original  predicted\n",
       "0            0          0\n",
       "1            0          0\n",
       "2            1          1\n",
       "3            0          0\n",
       "4            0          0\n",
       "...        ...        ...\n",
       "1678         0          0\n",
       "1679         0          0\n",
       "1680         1          1\n",
       "1681         0          0\n",
       "1682         1          1\n",
       "\n",
       "[1683 rows x 2 columns]"
      ]
     },
     "execution_count": 87,
     "metadata": {},
     "output_type": "execute_result"
    }
   ],
   "source": [
    "import numpy as np\n",
    "a=np.array(y_test)\n",
    "predicted=np.array(rf.predict(x_test))\n",
    "df_com=pd.DataFrame({'original':a, 'predicted':predicted}, index=range(len(a)))\n",
    "df_com"
   ]
  },
  {
   "cell_type": "code",
   "execution_count": null,
   "id": "5f36317d",
   "metadata": {},
   "outputs": [],
   "source": []
  }
 ],
 "metadata": {
  "kernelspec": {
   "display_name": "Python 3 (ipykernel)",
   "language": "python",
   "name": "python3"
  },
  "language_info": {
   "codemirror_mode": {
    "name": "ipython",
    "version": 3
   },
   "file_extension": ".py",
   "mimetype": "text/x-python",
   "name": "python",
   "nbconvert_exporter": "python",
   "pygments_lexer": "ipython3",
   "version": "3.9.7"
  }
 },
 "nbformat": 4,
 "nbformat_minor": 5
}
